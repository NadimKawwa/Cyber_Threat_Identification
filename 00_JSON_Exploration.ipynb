{
 "cells": [
  {
   "cell_type": "markdown",
   "metadata": {},
   "source": [
    "Explore what is inside a JSON file from a year to better understand how to parse information from it."
   ]
  },
  {
   "cell_type": "code",
   "execution_count": 1,
   "metadata": {},
   "outputs": [],
   "source": [
    "import json\n",
    "import os"
   ]
  },
  {
   "cell_type": "code",
   "execution_count": 2,
   "metadata": {},
   "outputs": [],
   "source": [
    "#data for 2019\n",
    "data_path = os.path.join('data','nvdcve-1.1-2019.json')"
   ]
  },
  {
   "cell_type": "code",
   "execution_count": 3,
   "metadata": {},
   "outputs": [],
   "source": [
    "#read json\n",
    "with open(data_path) as f:\n",
    "    data = json.load(f)"
   ]
  },
  {
   "cell_type": "code",
   "execution_count": 4,
   "metadata": {
    "scrolled": false
   },
   "outputs": [
    {
     "data": {
      "text/plain": [
       "dict_keys(['CVE_data_type', 'CVE_data_format', 'CVE_data_version', 'CVE_data_numberOfCVEs', 'CVE_data_timestamp', 'CVE_Items'])"
      ]
     },
     "execution_count": 4,
     "metadata": {},
     "output_type": "execute_result"
    }
   ],
   "source": [
    "#see keys\n",
    "data.keys()"
   ]
  },
  {
   "cell_type": "code",
   "execution_count": 5,
   "metadata": {},
   "outputs": [
    {
     "data": {
      "text/plain": [
       "'MITRE'"
      ]
     },
     "execution_count": 5,
     "metadata": {},
     "output_type": "execute_result"
    }
   ],
   "source": [
    "data['CVE_data_format']"
   ]
  },
  {
   "cell_type": "code",
   "execution_count": 6,
   "metadata": {},
   "outputs": [
    {
     "data": {
      "text/plain": [
       "'15921'"
      ]
     },
     "execution_count": 6,
     "metadata": {},
     "output_type": "execute_result"
    }
   ],
   "source": [
    "data['CVE_data_numberOfCVEs']"
   ]
  },
  {
   "cell_type": "code",
   "execution_count": 7,
   "metadata": {},
   "outputs": [
    {
     "data": {
      "text/plain": [
       "'CVE'"
      ]
     },
     "execution_count": 7,
     "metadata": {},
     "output_type": "execute_result"
    }
   ],
   "source": [
    "data['CVE_data_type']"
   ]
  },
  {
   "cell_type": "code",
   "execution_count": 8,
   "metadata": {},
   "outputs": [
    {
     "data": {
      "text/plain": [
       "'2020-09-12T07:13Z'"
      ]
     },
     "execution_count": 8,
     "metadata": {},
     "output_type": "execute_result"
    }
   ],
   "source": [
    "data['CVE_data_timestamp']"
   ]
  },
  {
   "cell_type": "code",
   "execution_count": 9,
   "metadata": {},
   "outputs": [
    {
     "data": {
      "text/plain": [
       "list"
      ]
     },
     "execution_count": 9,
     "metadata": {},
     "output_type": "execute_result"
    }
   ],
   "source": [
    "type(data['CVE_Items'])"
   ]
  },
  {
   "cell_type": "code",
   "execution_count": 10,
   "metadata": {},
   "outputs": [
    {
     "data": {
      "text/plain": [
       "15921"
      ]
     },
     "execution_count": 10,
     "metadata": {},
     "output_type": "execute_result"
    }
   ],
   "source": [
    "len(data['CVE_Items'])"
   ]
  },
  {
   "cell_type": "code",
   "execution_count": 11,
   "metadata": {
    "scrolled": false
   },
   "outputs": [
    {
     "name": "stdout",
     "output_type": "stream",
     "text": [
      "{\n",
      "    \"cve\": {\n",
      "        \"data_type\": \"CVE\",\n",
      "        \"data_format\": \"MITRE\",\n",
      "        \"data_version\": \"4.0\",\n",
      "        \"CVE_data_meta\": {\n",
      "            \"ID\": \"CVE-2019-10934\",\n",
      "            \"ASSIGNER\": \"cve@mitre.org\"\n",
      "        },\n",
      "        \"problemtype\": {\n",
      "            \"problemtype_data\": [\n",
      "                {\n",
      "                    \"description\": [\n",
      "                        {\n",
      "                            \"lang\": \"en\",\n",
      "                            \"value\": \"CWE-22\"\n",
      "                        }\n",
      "                    ]\n",
      "                }\n",
      "            ]\n",
      "        },\n",
      "        \"references\": {\n",
      "            \"reference_data\": [\n",
      "                {\n",
      "                    \"url\": \"https://cert-portal.siemens.com/productcert/pdf/ssa-629512.pdf\",\n",
      "                    \"name\": \"https://cert-portal.siemens.com/productcert/pdf/ssa-629512.pdf\",\n",
      "                    \"refsource\": \"MISC\",\n",
      "                    \"tags\": [\n",
      "                        \"Vendor Advisory\"\n",
      "                    ]\n",
      "                }\n",
      "            ]\n",
      "        },\n",
      "        \"description\": {\n",
      "            \"description_data\": [\n",
      "                {\n",
      "                    \"lang\": \"en\",\n",
      "                    \"value\": \"A vulnerability has been identified in TIA Portal V14 (All versions), TIA Portal V15 (All versions < V15.1 Update 4), TIA Portal V16 (All versions < V16 Update 1). Changing the contents of a configuration file could allow an attacker to execute arbitrary code with SYSTEM privileges. The security vulnerability could be exploited by an attacker with a valid account and limited access rights on the system. No user interaction is required. At the time of advisory publication no public exploitation of this security vulnerability was known.\"\n",
      "                }\n",
      "            ]\n",
      "        }\n",
      "    },\n",
      "    \"configurations\": {\n",
      "        \"CVE_data_version\": \"4.0\",\n",
      "        \"nodes\": [\n",
      "            {\n",
      "                \"operator\": \"OR\",\n",
      "                \"cpe_match\": [\n",
      "                    {\n",
      "                        \"vulnerable\": true,\n",
      "                        \"cpe23Uri\": \"cpe:2.3:a:siemens:totally_integrated_automation_portal:*:*:*:*:*:*:*:*\",\n",
      "                        \"versionEndIncluding\": \"14\"\n",
      "                    },\n",
      "                    {\n",
      "                        \"vulnerable\": true,\n",
      "                        \"cpe23Uri\": \"cpe:2.3:a:siemens:totally_integrated_automation_portal:15.1:-:*:*:*:*:*:*\"\n",
      "                    },\n",
      "                    {\n",
      "                        \"vulnerable\": true,\n",
      "                        \"cpe23Uri\": \"cpe:2.3:a:siemens:totally_integrated_automation_portal:15.1:update_1:*:*:*:*:*:*\"\n",
      "                    },\n",
      "                    {\n",
      "                        \"vulnerable\": true,\n",
      "                        \"cpe23Uri\": \"cpe:2.3:a:siemens:totally_integrated_automation_portal:15.1:update_2:*:*:*:*:*:*\"\n",
      "                    },\n",
      "                    {\n",
      "                        \"vulnerable\": true,\n",
      "                        \"cpe23Uri\": \"cpe:2.3:a:siemens:totally_integrated_automation_portal:15.1:update_3:*:*:*:*:*:*\"\n",
      "                    },\n",
      "                    {\n",
      "                        \"vulnerable\": true,\n",
      "                        \"cpe23Uri\": \"cpe:2.3:a:siemens:totally_integrated_automation_portal:16:*:*:*:*:*:*:*\"\n",
      "                    }\n",
      "                ]\n",
      "            }\n",
      "        ]\n",
      "    },\n",
      "    \"impact\": {\n",
      "        \"baseMetricV3\": {\n",
      "            \"cvssV3\": {\n",
      "                \"version\": \"3.1\",\n",
      "                \"vectorString\": \"CVSS:3.1/AV:L/AC:L/PR:L/UI:N/S:U/C:H/I:H/A:H\",\n",
      "                \"attackVector\": \"LOCAL\",\n",
      "                \"attackComplexity\": \"LOW\",\n",
      "                \"privilegesRequired\": \"LOW\",\n",
      "                \"userInteraction\": \"NONE\",\n",
      "                \"scope\": \"UNCHANGED\",\n",
      "                \"confidentialityImpact\": \"HIGH\",\n",
      "                \"integrityImpact\": \"HIGH\",\n",
      "                \"availabilityImpact\": \"HIGH\",\n",
      "                \"baseScore\": 7.8,\n",
      "                \"baseSeverity\": \"HIGH\"\n",
      "            },\n",
      "            \"exploitabilityScore\": 1.8,\n",
      "            \"impactScore\": 5.9\n",
      "        },\n",
      "        \"baseMetricV2\": {\n",
      "            \"cvssV2\": {\n",
      "                \"version\": \"2.0\",\n",
      "                \"vectorString\": \"AV:L/AC:L/Au:N/C:C/I:C/A:C\",\n",
      "                \"accessVector\": \"LOCAL\",\n",
      "                \"accessComplexity\": \"LOW\",\n",
      "                \"authentication\": \"NONE\",\n",
      "                \"confidentialityImpact\": \"COMPLETE\",\n",
      "                \"integrityImpact\": \"COMPLETE\",\n",
      "                \"availabilityImpact\": \"COMPLETE\",\n",
      "                \"baseScore\": 7.2\n",
      "            },\n",
      "            \"severity\": \"HIGH\",\n",
      "            \"exploitabilityScore\": 3.9,\n",
      "            \"impactScore\": 10.0,\n",
      "            \"acInsufInfo\": false,\n",
      "            \"obtainAllPrivilege\": false,\n",
      "            \"obtainUserPrivilege\": false,\n",
      "            \"obtainOtherPrivilege\": false,\n",
      "            \"userInteractionRequired\": false\n",
      "        }\n",
      "    },\n",
      "    \"publishedDate\": \"2020-01-16T16:15Z\",\n",
      "    \"lastModifiedDate\": \"2020-04-14T20:15Z\"\n",
      "}\n"
     ]
    }
   ],
   "source": [
    "sample_a = data['CVE_Items'][2000]\n",
    "print(json.dumps(sample_a, indent=4))"
   ]
  },
  {
   "cell_type": "code",
   "execution_count": 12,
   "metadata": {
    "scrolled": false
   },
   "outputs": [
    {
     "name": "stdout",
     "output_type": "stream",
     "text": [
      "{\n",
      "    \"cve\": {\n",
      "        \"data_type\": \"CVE\",\n",
      "        \"data_format\": \"MITRE\",\n",
      "        \"data_version\": \"4.0\",\n",
      "        \"CVE_data_meta\": {\n",
      "            \"ID\": \"CVE-2019-0115\",\n",
      "            \"ASSIGNER\": \"cve@mitre.org\"\n",
      "        },\n",
      "        \"problemtype\": {\n",
      "            \"problemtype_data\": [\n",
      "                {\n",
      "                    \"description\": [\n",
      "                        {\n",
      "                            \"lang\": \"en\",\n",
      "                            \"value\": \"CWE-20\"\n",
      "                        }\n",
      "                    ]\n",
      "                }\n",
      "            ]\n",
      "        },\n",
      "        \"references\": {\n",
      "            \"reference_data\": [\n",
      "                {\n",
      "                    \"url\": \"http://www.securityfocus.com/bid/108385\",\n",
      "                    \"name\": \"108385\",\n",
      "                    \"refsource\": \"BID\",\n",
      "                    \"tags\": [\n",
      "                        \"Third Party Advisory\",\n",
      "                        \"VDB Entry\"\n",
      "                    ]\n",
      "                },\n",
      "                {\n",
      "                    \"url\": \"https://www.intel.com/content/www/us/en/security-center/advisory/INTEL-SA-00218.html\",\n",
      "                    \"name\": \"https://www.intel.com/content/www/us/en/security-center/advisory/INTEL-SA-00218.html\",\n",
      "                    \"refsource\": \"MISC\",\n",
      "                    \"tags\": [\n",
      "                        \"Vendor Advisory\"\n",
      "                    ]\n",
      "                }\n",
      "            ]\n",
      "        },\n",
      "        \"description\": {\n",
      "            \"description_data\": [\n",
      "                {\n",
      "                    \"lang\": \"en\",\n",
      "                    \"value\": \"Insufficient input validation in KMD module for Intel(R) Graphics Driver before version 10.18.14.5067 (aka 15.36.x.5067) and 10.18.10.5069 (aka 15.33.x.5069) may allow an authenticated user to potentially enable denial of service via local access.\"\n",
      "                }\n",
      "            ]\n",
      "        }\n",
      "    },\n",
      "    \"configurations\": {\n",
      "        \"CVE_data_version\": \"4.0\",\n",
      "        \"nodes\": [\n",
      "            {\n",
      "                \"operator\": \"OR\",\n",
      "                \"cpe_match\": [\n",
      "                    {\n",
      "                        \"vulnerable\": true,\n",
      "                        \"cpe23Uri\": \"cpe:2.3:a:intel:graphics_driver:15.33.43.4425:*:*:*:*:windows:*:*\"\n",
      "                    },\n",
      "                    {\n",
      "                        \"vulnerable\": true,\n",
      "                        \"cpe23Uri\": \"cpe:2.3:a:intel:graphics_driver:15.33.45.4653:*:*:*:*:windows:*:*\"\n",
      "                    },\n",
      "                    {\n",
      "                        \"vulnerable\": true,\n",
      "                        \"cpe23Uri\": \"cpe:2.3:a:intel:graphics_driver:15.33.46.4885:*:*:*:*:windows:*:*\"\n",
      "                    },\n",
      "                    {\n",
      "                        \"vulnerable\": true,\n",
      "                        \"cpe23Uri\": \"cpe:2.3:a:intel:graphics_driver:15.36.26.4294:*:*:*:*:windows:*:*\"\n",
      "                    },\n",
      "                    {\n",
      "                        \"vulnerable\": true,\n",
      "                        \"cpe23Uri\": \"cpe:2.3:a:intel:graphics_driver:15.36.28.4332:*:*:*:*:windows:*:*\"\n",
      "                    },\n",
      "                    {\n",
      "                        \"vulnerable\": true,\n",
      "                        \"cpe23Uri\": \"cpe:2.3:a:intel:graphics_driver:15.36.31.4414:*:*:*:*:windows:*:*\"\n",
      "                    },\n",
      "                    {\n",
      "                        \"vulnerable\": true,\n",
      "                        \"cpe23Uri\": \"cpe:2.3:a:intel:graphics_driver:15.36.33.4578:*:*:*:*:windows:*:*\"\n",
      "                    },\n",
      "                    {\n",
      "                        \"vulnerable\": true,\n",
      "                        \"cpe23Uri\": \"cpe:2.3:a:intel:graphics_driver:15.36.34.4889:*:*:*:*:windows:*:*\"\n",
      "                    }\n",
      "                ]\n",
      "            }\n",
      "        ]\n",
      "    },\n",
      "    \"impact\": {\n",
      "        \"baseMetricV3\": {\n",
      "            \"cvssV3\": {\n",
      "                \"version\": \"3.0\",\n",
      "                \"vectorString\": \"CVSS:3.0/AV:L/AC:L/PR:L/UI:N/S:U/C:N/I:N/A:H\",\n",
      "                \"attackVector\": \"LOCAL\",\n",
      "                \"attackComplexity\": \"LOW\",\n",
      "                \"privilegesRequired\": \"LOW\",\n",
      "                \"userInteraction\": \"NONE\",\n",
      "                \"scope\": \"UNCHANGED\",\n",
      "                \"confidentialityImpact\": \"NONE\",\n",
      "                \"integrityImpact\": \"NONE\",\n",
      "                \"availabilityImpact\": \"HIGH\",\n",
      "                \"baseScore\": 5.5,\n",
      "                \"baseSeverity\": \"MEDIUM\"\n",
      "            },\n",
      "            \"exploitabilityScore\": 1.8,\n",
      "            \"impactScore\": 3.6\n",
      "        },\n",
      "        \"baseMetricV2\": {\n",
      "            \"cvssV2\": {\n",
      "                \"version\": \"2.0\",\n",
      "                \"vectorString\": \"AV:L/AC:L/Au:N/C:N/I:N/A:P\",\n",
      "                \"accessVector\": \"LOCAL\",\n",
      "                \"accessComplexity\": \"LOW\",\n",
      "                \"authentication\": \"NONE\",\n",
      "                \"confidentialityImpact\": \"NONE\",\n",
      "                \"integrityImpact\": \"NONE\",\n",
      "                \"availabilityImpact\": \"PARTIAL\",\n",
      "                \"baseScore\": 2.1\n",
      "            },\n",
      "            \"severity\": \"LOW\",\n",
      "            \"exploitabilityScore\": 3.9,\n",
      "            \"impactScore\": 2.9,\n",
      "            \"acInsufInfo\": false,\n",
      "            \"obtainAllPrivilege\": false,\n",
      "            \"obtainUserPrivilege\": false,\n",
      "            \"obtainOtherPrivilege\": false,\n",
      "            \"userInteractionRequired\": false\n",
      "        }\n",
      "    },\n",
      "    \"publishedDate\": \"2019-05-17T16:29Z\",\n",
      "    \"lastModifiedDate\": \"2019-05-21T14:58Z\"\n",
      "}\n"
     ]
    }
   ],
   "source": [
    "sample_b = data['CVE_Items'][100]\n",
    "print(json.dumps(sample_b, indent=4))"
   ]
  },
  {
   "cell_type": "code",
   "execution_count": 13,
   "metadata": {
    "scrolled": false
   },
   "outputs": [
    {
     "name": "stdout",
     "output_type": "stream",
     "text": [
      "{\n",
      "    \"cve\": {\n",
      "        \"data_type\": \"CVE\",\n",
      "        \"data_format\": \"MITRE\",\n",
      "        \"data_version\": \"4.0\",\n",
      "        \"CVE_data_meta\": {\n",
      "            \"ID\": \"CVE-2019-13676\",\n",
      "            \"ASSIGNER\": \"cve@mitre.org\"\n",
      "        },\n",
      "        \"problemtype\": {\n",
      "            \"problemtype_data\": [\n",
      "                {\n",
      "                    \"description\": [\n",
      "                        {\n",
      "                            \"lang\": \"en\",\n",
      "                            \"value\": \"CWE-732\"\n",
      "                        }\n",
      "                    ]\n",
      "                }\n",
      "            ]\n",
      "        },\n",
      "        \"references\": {\n",
      "            \"reference_data\": [\n",
      "                {\n",
      "                    \"url\": \"https://chromereleases.googleblog.com/2019/09/stable-channel-update-for-desktop.html\",\n",
      "                    \"name\": \"https://chromereleases.googleblog.com/2019/09/stable-channel-update-for-desktop.html\",\n",
      "                    \"refsource\": \"MISC\",\n",
      "                    \"tags\": [\n",
      "                        \"Release Notes\",\n",
      "                        \"Vendor Advisory\"\n",
      "                    ]\n",
      "                },\n",
      "                {\n",
      "                    \"url\": \"https://crbug.com/875178\",\n",
      "                    \"name\": \"https://crbug.com/875178\",\n",
      "                    \"refsource\": \"MISC\",\n",
      "                    \"tags\": [\n",
      "                        \"Exploit\",\n",
      "                        \"Vendor Advisory\"\n",
      "                    ]\n",
      "                }\n",
      "            ]\n",
      "        },\n",
      "        \"description\": {\n",
      "            \"description_data\": [\n",
      "                {\n",
      "                    \"lang\": \"en\",\n",
      "                    \"value\": \"Insufficient policy enforcement in Chromium in Google Chrome prior to 77.0.3865.75 allowed a remote attacker to perform domain spoofing via a crafted HTML page.\"\n",
      "                }\n",
      "            ]\n",
      "        }\n",
      "    },\n",
      "    \"configurations\": {\n",
      "        \"CVE_data_version\": \"4.0\",\n",
      "        \"nodes\": [\n",
      "            {\n",
      "                \"operator\": \"OR\",\n",
      "                \"cpe_match\": [\n",
      "                    {\n",
      "                        \"vulnerable\": true,\n",
      "                        \"cpe23Uri\": \"cpe:2.3:a:google:chrome:*:*:*:*:*:*:*:*\",\n",
      "                        \"versionEndExcluding\": \"77.0.3865.75\"\n",
      "                    }\n",
      "                ]\n",
      "            }\n",
      "        ]\n",
      "    },\n",
      "    \"impact\": {\n",
      "        \"baseMetricV3\": {\n",
      "            \"cvssV3\": {\n",
      "                \"version\": \"3.1\",\n",
      "                \"vectorString\": \"CVSS:3.1/AV:N/AC:L/PR:N/UI:R/S:U/C:N/I:L/A:N\",\n",
      "                \"attackVector\": \"NETWORK\",\n",
      "                \"attackComplexity\": \"LOW\",\n",
      "                \"privilegesRequired\": \"NONE\",\n",
      "                \"userInteraction\": \"REQUIRED\",\n",
      "                \"scope\": \"UNCHANGED\",\n",
      "                \"confidentialityImpact\": \"NONE\",\n",
      "                \"integrityImpact\": \"LOW\",\n",
      "                \"availabilityImpact\": \"NONE\",\n",
      "                \"baseScore\": 4.3,\n",
      "                \"baseSeverity\": \"MEDIUM\"\n",
      "            },\n",
      "            \"exploitabilityScore\": 2.8,\n",
      "            \"impactScore\": 1.4\n",
      "        },\n",
      "        \"baseMetricV2\": {\n",
      "            \"cvssV2\": {\n",
      "                \"version\": \"2.0\",\n",
      "                \"vectorString\": \"AV:N/AC:M/Au:N/C:N/I:P/A:N\",\n",
      "                \"accessVector\": \"NETWORK\",\n",
      "                \"accessComplexity\": \"MEDIUM\",\n",
      "                \"authentication\": \"NONE\",\n",
      "                \"confidentialityImpact\": \"NONE\",\n",
      "                \"integrityImpact\": \"PARTIAL\",\n",
      "                \"availabilityImpact\": \"NONE\",\n",
      "                \"baseScore\": 4.3\n",
      "            },\n",
      "            \"severity\": \"MEDIUM\",\n",
      "            \"exploitabilityScore\": 8.6,\n",
      "            \"impactScore\": 2.9,\n",
      "            \"acInsufInfo\": false,\n",
      "            \"obtainAllPrivilege\": false,\n",
      "            \"obtainUserPrivilege\": false,\n",
      "            \"obtainOtherPrivilege\": false,\n",
      "            \"userInteractionRequired\": true\n",
      "        }\n",
      "    },\n",
      "    \"publishedDate\": \"2019-11-25T15:15Z\",\n",
      "    \"lastModifiedDate\": \"2019-12-02T17:35Z\"\n",
      "}\n"
     ]
    }
   ],
   "source": [
    "sample_c = data['CVE_Items'][4444]\n",
    "print(json.dumps(sample_c, indent=4))"
   ]
  },
  {
   "cell_type": "code",
   "execution_count": 14,
   "metadata": {},
   "outputs": [
    {
     "data": {
      "text/plain": [
       "dict_keys(['cve', 'configurations', 'impact', 'publishedDate', 'lastModifiedDate'])"
      ]
     },
     "execution_count": 14,
     "metadata": {},
     "output_type": "execute_result"
    }
   ],
   "source": [
    "sample_a.keys()"
   ]
  },
  {
   "cell_type": "code",
   "execution_count": 15,
   "metadata": {},
   "outputs": [
    {
     "data": {
      "text/plain": [
       "dict_keys(['data_type', 'data_format', 'data_version', 'CVE_data_meta', 'problemtype', 'references', 'description'])"
      ]
     },
     "execution_count": 15,
     "metadata": {},
     "output_type": "execute_result"
    }
   ],
   "source": [
    "sample_a['cve'].keys()"
   ]
  },
  {
   "cell_type": "code",
   "execution_count": null,
   "metadata": {},
   "outputs": [],
   "source": []
  },
  {
   "cell_type": "code",
   "execution_count": 16,
   "metadata": {},
   "outputs": [],
   "source": [
    "def flatten_json(y):\n",
    "    \"\"\"\n",
    "    takes in a multi-level dictionary from JSON object and flattens it\n",
    "    \"\"\"\n",
    "    out = {}\n",
    "    def flatten(x, name=''):\n",
    "        if type(x) is dict:\n",
    "            for a in x:\n",
    "                flatten(x[a], name + a + '_')\n",
    "        elif type(x) is list:\n",
    "            i = 0\n",
    "            for a in x:\n",
    "                flatten(a, name + str(i) + '_')\n",
    "                i +=1\n",
    "                \n",
    "        else:\n",
    "            out[name[:-1]] = x\n",
    "    flatten(y)\n",
    "    return out\n",
    "        "
   ]
  },
  {
   "cell_type": "code",
   "execution_count": 17,
   "metadata": {
    "scrolled": false
   },
   "outputs": [
    {
     "data": {
      "text/plain": [
       "{'cve_data_type': 'CVE',\n",
       " 'cve_data_format': 'MITRE',\n",
       " 'cve_data_version': '4.0',\n",
       " 'cve_CVE_data_meta_ID': 'CVE-2019-10934',\n",
       " 'cve_CVE_data_meta_ASSIGNER': 'cve@mitre.org',\n",
       " 'cve_problemtype_problemtype_data_0_description_0_lang': 'en',\n",
       " 'cve_problemtype_problemtype_data_0_description_0_value': 'CWE-22',\n",
       " 'cve_references_reference_data_0_url': 'https://cert-portal.siemens.com/productcert/pdf/ssa-629512.pdf',\n",
       " 'cve_references_reference_data_0_name': 'https://cert-portal.siemens.com/productcert/pdf/ssa-629512.pdf',\n",
       " 'cve_references_reference_data_0_refsource': 'MISC',\n",
       " 'cve_references_reference_data_0_tags_0': 'Vendor Advisory',\n",
       " 'cve_description_description_data_0_lang': 'en',\n",
       " 'cve_description_description_data_0_value': 'A vulnerability has been identified in TIA Portal V14 (All versions), TIA Portal V15 (All versions < V15.1 Update 4), TIA Portal V16 (All versions < V16 Update 1). Changing the contents of a configuration file could allow an attacker to execute arbitrary code with SYSTEM privileges. The security vulnerability could be exploited by an attacker with a valid account and limited access rights on the system. No user interaction is required. At the time of advisory publication no public exploitation of this security vulnerability was known.',\n",
       " 'configurations_CVE_data_version': '4.0',\n",
       " 'configurations_nodes_0_operator': 'OR',\n",
       " 'configurations_nodes_0_cpe_match_0_vulnerable': True,\n",
       " 'configurations_nodes_0_cpe_match_0_cpe23Uri': 'cpe:2.3:a:siemens:totally_integrated_automation_portal:*:*:*:*:*:*:*:*',\n",
       " 'configurations_nodes_0_cpe_match_0_versionEndIncluding': '14',\n",
       " 'configurations_nodes_0_cpe_match_1_vulnerable': True,\n",
       " 'configurations_nodes_0_cpe_match_1_cpe23Uri': 'cpe:2.3:a:siemens:totally_integrated_automation_portal:15.1:-:*:*:*:*:*:*',\n",
       " 'configurations_nodes_0_cpe_match_2_vulnerable': True,\n",
       " 'configurations_nodes_0_cpe_match_2_cpe23Uri': 'cpe:2.3:a:siemens:totally_integrated_automation_portal:15.1:update_1:*:*:*:*:*:*',\n",
       " 'configurations_nodes_0_cpe_match_3_vulnerable': True,\n",
       " 'configurations_nodes_0_cpe_match_3_cpe23Uri': 'cpe:2.3:a:siemens:totally_integrated_automation_portal:15.1:update_2:*:*:*:*:*:*',\n",
       " 'configurations_nodes_0_cpe_match_4_vulnerable': True,\n",
       " 'configurations_nodes_0_cpe_match_4_cpe23Uri': 'cpe:2.3:a:siemens:totally_integrated_automation_portal:15.1:update_3:*:*:*:*:*:*',\n",
       " 'configurations_nodes_0_cpe_match_5_vulnerable': True,\n",
       " 'configurations_nodes_0_cpe_match_5_cpe23Uri': 'cpe:2.3:a:siemens:totally_integrated_automation_portal:16:*:*:*:*:*:*:*',\n",
       " 'impact_baseMetricV3_cvssV3_version': '3.1',\n",
       " 'impact_baseMetricV3_cvssV3_vectorString': 'CVSS:3.1/AV:L/AC:L/PR:L/UI:N/S:U/C:H/I:H/A:H',\n",
       " 'impact_baseMetricV3_cvssV3_attackVector': 'LOCAL',\n",
       " 'impact_baseMetricV3_cvssV3_attackComplexity': 'LOW',\n",
       " 'impact_baseMetricV3_cvssV3_privilegesRequired': 'LOW',\n",
       " 'impact_baseMetricV3_cvssV3_userInteraction': 'NONE',\n",
       " 'impact_baseMetricV3_cvssV3_scope': 'UNCHANGED',\n",
       " 'impact_baseMetricV3_cvssV3_confidentialityImpact': 'HIGH',\n",
       " 'impact_baseMetricV3_cvssV3_integrityImpact': 'HIGH',\n",
       " 'impact_baseMetricV3_cvssV3_availabilityImpact': 'HIGH',\n",
       " 'impact_baseMetricV3_cvssV3_baseScore': 7.8,\n",
       " 'impact_baseMetricV3_cvssV3_baseSeverity': 'HIGH',\n",
       " 'impact_baseMetricV3_exploitabilityScore': 1.8,\n",
       " 'impact_baseMetricV3_impactScore': 5.9,\n",
       " 'impact_baseMetricV2_cvssV2_version': '2.0',\n",
       " 'impact_baseMetricV2_cvssV2_vectorString': 'AV:L/AC:L/Au:N/C:C/I:C/A:C',\n",
       " 'impact_baseMetricV2_cvssV2_accessVector': 'LOCAL',\n",
       " 'impact_baseMetricV2_cvssV2_accessComplexity': 'LOW',\n",
       " 'impact_baseMetricV2_cvssV2_authentication': 'NONE',\n",
       " 'impact_baseMetricV2_cvssV2_confidentialityImpact': 'COMPLETE',\n",
       " 'impact_baseMetricV2_cvssV2_integrityImpact': 'COMPLETE',\n",
       " 'impact_baseMetricV2_cvssV2_availabilityImpact': 'COMPLETE',\n",
       " 'impact_baseMetricV2_cvssV2_baseScore': 7.2,\n",
       " 'impact_baseMetricV2_severity': 'HIGH',\n",
       " 'impact_baseMetricV2_exploitabilityScore': 3.9,\n",
       " 'impact_baseMetricV2_impactScore': 10.0,\n",
       " 'impact_baseMetricV2_acInsufInfo': False,\n",
       " 'impact_baseMetricV2_obtainAllPrivilege': False,\n",
       " 'impact_baseMetricV2_obtainUserPrivilege': False,\n",
       " 'impact_baseMetricV2_obtainOtherPrivilege': False,\n",
       " 'impact_baseMetricV2_userInteractionRequired': False,\n",
       " 'publishedDate': '2020-01-16T16:15Z',\n",
       " 'lastModifiedDate': '2020-04-14T20:15Z'}"
      ]
     },
     "execution_count": 17,
     "metadata": {},
     "output_type": "execute_result"
    }
   ],
   "source": [
    "flatten_json(sample_a)"
   ]
  },
  {
   "cell_type": "code",
   "execution_count": 18,
   "metadata": {},
   "outputs": [
    {
     "data": {
      "text/plain": [
       "{'cve_data_type': 'CVE',\n",
       " 'cve_data_format': 'MITRE',\n",
       " 'cve_data_version': '4.0',\n",
       " 'cve_CVE_data_meta_ID': 'CVE-2019-0115',\n",
       " 'cve_CVE_data_meta_ASSIGNER': 'cve@mitre.org',\n",
       " 'cve_problemtype_problemtype_data_0_description_0_lang': 'en',\n",
       " 'cve_problemtype_problemtype_data_0_description_0_value': 'CWE-20',\n",
       " 'cve_references_reference_data_0_url': 'http://www.securityfocus.com/bid/108385',\n",
       " 'cve_references_reference_data_0_name': '108385',\n",
       " 'cve_references_reference_data_0_refsource': 'BID',\n",
       " 'cve_references_reference_data_0_tags_0': 'Third Party Advisory',\n",
       " 'cve_references_reference_data_0_tags_1': 'VDB Entry',\n",
       " 'cve_references_reference_data_1_url': 'https://www.intel.com/content/www/us/en/security-center/advisory/INTEL-SA-00218.html',\n",
       " 'cve_references_reference_data_1_name': 'https://www.intel.com/content/www/us/en/security-center/advisory/INTEL-SA-00218.html',\n",
       " 'cve_references_reference_data_1_refsource': 'MISC',\n",
       " 'cve_references_reference_data_1_tags_0': 'Vendor Advisory',\n",
       " 'cve_description_description_data_0_lang': 'en',\n",
       " 'cve_description_description_data_0_value': 'Insufficient input validation in KMD module for Intel(R) Graphics Driver before version 10.18.14.5067 (aka 15.36.x.5067) and 10.18.10.5069 (aka 15.33.x.5069) may allow an authenticated user to potentially enable denial of service via local access.',\n",
       " 'configurations_CVE_data_version': '4.0',\n",
       " 'configurations_nodes_0_operator': 'OR',\n",
       " 'configurations_nodes_0_cpe_match_0_vulnerable': True,\n",
       " 'configurations_nodes_0_cpe_match_0_cpe23Uri': 'cpe:2.3:a:intel:graphics_driver:15.33.43.4425:*:*:*:*:windows:*:*',\n",
       " 'configurations_nodes_0_cpe_match_1_vulnerable': True,\n",
       " 'configurations_nodes_0_cpe_match_1_cpe23Uri': 'cpe:2.3:a:intel:graphics_driver:15.33.45.4653:*:*:*:*:windows:*:*',\n",
       " 'configurations_nodes_0_cpe_match_2_vulnerable': True,\n",
       " 'configurations_nodes_0_cpe_match_2_cpe23Uri': 'cpe:2.3:a:intel:graphics_driver:15.33.46.4885:*:*:*:*:windows:*:*',\n",
       " 'configurations_nodes_0_cpe_match_3_vulnerable': True,\n",
       " 'configurations_nodes_0_cpe_match_3_cpe23Uri': 'cpe:2.3:a:intel:graphics_driver:15.36.26.4294:*:*:*:*:windows:*:*',\n",
       " 'configurations_nodes_0_cpe_match_4_vulnerable': True,\n",
       " 'configurations_nodes_0_cpe_match_4_cpe23Uri': 'cpe:2.3:a:intel:graphics_driver:15.36.28.4332:*:*:*:*:windows:*:*',\n",
       " 'configurations_nodes_0_cpe_match_5_vulnerable': True,\n",
       " 'configurations_nodes_0_cpe_match_5_cpe23Uri': 'cpe:2.3:a:intel:graphics_driver:15.36.31.4414:*:*:*:*:windows:*:*',\n",
       " 'configurations_nodes_0_cpe_match_6_vulnerable': True,\n",
       " 'configurations_nodes_0_cpe_match_6_cpe23Uri': 'cpe:2.3:a:intel:graphics_driver:15.36.33.4578:*:*:*:*:windows:*:*',\n",
       " 'configurations_nodes_0_cpe_match_7_vulnerable': True,\n",
       " 'configurations_nodes_0_cpe_match_7_cpe23Uri': 'cpe:2.3:a:intel:graphics_driver:15.36.34.4889:*:*:*:*:windows:*:*',\n",
       " 'impact_baseMetricV3_cvssV3_version': '3.0',\n",
       " 'impact_baseMetricV3_cvssV3_vectorString': 'CVSS:3.0/AV:L/AC:L/PR:L/UI:N/S:U/C:N/I:N/A:H',\n",
       " 'impact_baseMetricV3_cvssV3_attackVector': 'LOCAL',\n",
       " 'impact_baseMetricV3_cvssV3_attackComplexity': 'LOW',\n",
       " 'impact_baseMetricV3_cvssV3_privilegesRequired': 'LOW',\n",
       " 'impact_baseMetricV3_cvssV3_userInteraction': 'NONE',\n",
       " 'impact_baseMetricV3_cvssV3_scope': 'UNCHANGED',\n",
       " 'impact_baseMetricV3_cvssV3_confidentialityImpact': 'NONE',\n",
       " 'impact_baseMetricV3_cvssV3_integrityImpact': 'NONE',\n",
       " 'impact_baseMetricV3_cvssV3_availabilityImpact': 'HIGH',\n",
       " 'impact_baseMetricV3_cvssV3_baseScore': 5.5,\n",
       " 'impact_baseMetricV3_cvssV3_baseSeverity': 'MEDIUM',\n",
       " 'impact_baseMetricV3_exploitabilityScore': 1.8,\n",
       " 'impact_baseMetricV3_impactScore': 3.6,\n",
       " 'impact_baseMetricV2_cvssV2_version': '2.0',\n",
       " 'impact_baseMetricV2_cvssV2_vectorString': 'AV:L/AC:L/Au:N/C:N/I:N/A:P',\n",
       " 'impact_baseMetricV2_cvssV2_accessVector': 'LOCAL',\n",
       " 'impact_baseMetricV2_cvssV2_accessComplexity': 'LOW',\n",
       " 'impact_baseMetricV2_cvssV2_authentication': 'NONE',\n",
       " 'impact_baseMetricV2_cvssV2_confidentialityImpact': 'NONE',\n",
       " 'impact_baseMetricV2_cvssV2_integrityImpact': 'NONE',\n",
       " 'impact_baseMetricV2_cvssV2_availabilityImpact': 'PARTIAL',\n",
       " 'impact_baseMetricV2_cvssV2_baseScore': 2.1,\n",
       " 'impact_baseMetricV2_severity': 'LOW',\n",
       " 'impact_baseMetricV2_exploitabilityScore': 3.9,\n",
       " 'impact_baseMetricV2_impactScore': 2.9,\n",
       " 'impact_baseMetricV2_acInsufInfo': False,\n",
       " 'impact_baseMetricV2_obtainAllPrivilege': False,\n",
       " 'impact_baseMetricV2_obtainUserPrivilege': False,\n",
       " 'impact_baseMetricV2_obtainOtherPrivilege': False,\n",
       " 'impact_baseMetricV2_userInteractionRequired': False,\n",
       " 'publishedDate': '2019-05-17T16:29Z',\n",
       " 'lastModifiedDate': '2019-05-21T14:58Z'}"
      ]
     },
     "execution_count": 18,
     "metadata": {},
     "output_type": "execute_result"
    }
   ],
   "source": [
    "flatten_json(sample_b)"
   ]
  },
  {
   "cell_type": "code",
   "execution_count": null,
   "metadata": {},
   "outputs": [],
   "source": [
    "\n",
    "    "
   ]
  },
  {
   "cell_type": "code",
   "execution_count": null,
   "metadata": {},
   "outputs": [],
   "source": []
  },
  {
   "cell_type": "code",
   "execution_count": null,
   "metadata": {},
   "outputs": [],
   "source": []
  }
 ],
 "metadata": {
  "kernelspec": {
   "display_name": "Python 3",
   "language": "python",
   "name": "python3"
  },
  "language_info": {
   "codemirror_mode": {
    "name": "ipython",
    "version": 3
   },
   "file_extension": ".py",
   "mimetype": "text/x-python",
   "name": "python",
   "nbconvert_exporter": "python",
   "pygments_lexer": "ipython3",
   "version": "3.7.4"
  }
 },
 "nbformat": 4,
 "nbformat_minor": 2
}
