{
 "cells": [
  {
   "cell_type": "code",
   "execution_count": 1,
   "metadata": {},
   "outputs": [],
   "source": [
    "import os\n",
    "import glob\n",
    "import pandas as pd\n",
    "import numpy as np\n",
    "from tqdm import tqdm\n",
    "import pickle\n",
    "from copy import copy"
   ]
  },
  {
   "cell_type": "code",
   "execution_count": 2,
   "metadata": {},
   "outputs": [
    {
     "name": "stdout",
     "output_type": "stream",
     "text": [
      "Found 152 unique CVEs in data/sources_with_data.txt\n"
     ]
    }
   ],
   "source": [
    "sources_with_data_text = os.path.join('data', 'sources_with_data.txt')\n",
    "with open (sources_with_data_text, mode='r') as f:\n",
    "    lines = f.readlines()\n",
    "    \n",
    "#check we closed the file\n",
    "assert f.closed\n",
    "\n",
    "\n",
    "#strip the spaces at the end\n",
    "lines = [l.strip() for l in lines]\n",
    "#keep only CVEs and drop the rest\n",
    "lines = [l for l in lines if 'CVE' in l]\n",
    "\n",
    "unique_cve = (set(lines))\n",
    "\n",
    "print(\"Found {} unique CVEs in {}\".format(len(unique_cve), sources_with_data_text))"
   ]
  },
  {
   "cell_type": "code",
   "execution_count": 3,
   "metadata": {
    "scrolled": false
   },
   "outputs": [],
   "source": [
    "def load_obj(path ):\n",
    "    with open(path, 'rb') as f:\n",
    "        return pickle.load(f)\n"
   ]
  },
  {
   "cell_type": "code",
   "execution_count": 4,
   "metadata": {},
   "outputs": [
    {
     "name": "stderr",
     "output_type": "stream",
     "text": [
      "100%|██████████| 6609/6609 [00:00<00:00, 13552.40it/s]"
     ]
    },
    {
     "name": "stdout",
     "output_type": "stream",
     "text": [
      "Found 1406 unique CVEs in broadcom dicts\n"
     ]
    },
    {
     "name": "stderr",
     "output_type": "stream",
     "text": [
      "\n"
     ]
    }
   ],
   "source": [
    "#create list of dicts\n",
    "broadcom_arr=[]\n",
    "for file in tqdm(glob.glob('broadcom_dicts/*.pkl')):\n",
    "    obj = load_obj(file)\n",
    "    #if array is not empty\n",
    "    if obj['CVE']:\n",
    "        broadcom_arr.extend(obj['CVE'])\n",
    "    \n",
    "\n",
    "broadcom_cve = (set(broadcom_arr))\n",
    "\n",
    "print(\"Found {} unique CVEs in {}\".format(len(broadcom_cve), 'broadcom dicts'))"
   ]
  },
  {
   "cell_type": "code",
   "execution_count": 57,
   "metadata": {
    "scrolled": true
   },
   "outputs": [
    {
     "name": "stdout",
     "output_type": "stream",
     "text": [
      "Found 1479 unique CVEs overll\n"
     ]
    }
   ],
   "source": [
    "cve_in_wild = copy(broadcom_cve)\n",
    "cve_in_wild.update(unique_cve)\n",
    "#cve_in_wild = list(cve_in_wild)\n",
    "print(\"Found {} unique CVEs overll\".format(len(cve_in_wild)))"
   ]
  },
  {
   "cell_type": "code",
   "execution_count": 58,
   "metadata": {},
   "outputs": [],
   "source": [
    "#fix some inconsistencies in data collection\n",
    "#manual fixes\n",
    "cve_in_wild = [cve.replace('1)', '') for cve in cve_in_wild]\n",
    "cve_in_wild = [cve.replace('service', '') for cve in cve_in_wild]\n",
    "cve_in_wild = [cve.replace('3)', '') for cve in cve_in_wild]\n",
    "cve_in_wild = [cve.replace('_3', '') for cve in cve_in_wild]\n",
    "cve_in_wild = [cve for cve in cve_in_wild if len(cve)>=11]\n",
    "cve_in_wild = [cve.replace('(', '') for cve in cve_in_wild]\n",
    "cve_in_wild = [cve.replace(')', '') for cve in cve_in_wild]\n",
    "\n",
    "\n",
    "## more manual fixes to corrupted data\n",
    "cve_in_wild = [cve.replace('CVE2019-7278', 'CVE-2019-7278') for cve in cve_in_wild]\n",
    "cve_in_wild = [cve.replace('2CVE-2006-3643', 'CVE-2006-3643') for cve in cve_in_wild]\n",
    "cve_in_wild = [cve.replace('CVE2019-7279', 'CVE-2019-7279') for cve in cve_in_wild]\n",
    "cve_in_wild = [cve.replace('CVE-2018_16858', 'CVE-2018-16858') for cve in cve_in_wild]\n",
    "cve_in_wild = [cve.replace('CVE 2014-6278', 'CVE-2014-6278') for cve in cve_in_wild]\n",
    "cve_in_wild = [cve.replace('CVE-209-18935', 'CVE-2019-18935') for cve in cve_in_wild]\n",
    "cve_in_wild = [cve.replace('CVE_2009-3729', 'CVE-2009-3729') for cve in cve_in_wild]\n",
    "cve_in_wild = [cve.replace('CVE-20190-11539', 'CVE-2019-11539') for cve in cve_in_wild]\n",
    "cve_in_wild = [cve.replace('CVE-2190-11539', 'CVE-2019-11539') for cve in cve_in_wild]\n",
    "\n",
    "\n",
    "\n"
   ]
  },
  {
   "cell_type": "code",
   "execution_count": 59,
   "metadata": {},
   "outputs": [],
   "source": [
    "dates = set([x.split('-')[1] for x in cve_in_wild])"
   ]
  },
  {
   "cell_type": "code",
   "execution_count": 60,
   "metadata": {},
   "outputs": [],
   "source": [
    "for x in cve_in_wild:\n",
    "    if '2190' in x:\n",
    "        print(x)"
   ]
  },
  {
   "cell_type": "code",
   "execution_count": 61,
   "metadata": {},
   "outputs": [
    {
     "data": {
      "text/plain": [
       "{'1999',\n",
       " '2000',\n",
       " '2001',\n",
       " '2002',\n",
       " '2003',\n",
       " '2004',\n",
       " '2005',\n",
       " '2006',\n",
       " '2007',\n",
       " '2008',\n",
       " '2009',\n",
       " '2010',\n",
       " '2011',\n",
       " '2012',\n",
       " '2013',\n",
       " '2014',\n",
       " '2015',\n",
       " '2016',\n",
       " '2017',\n",
       " '2018',\n",
       " '2019',\n",
       " '2020'}"
      ]
     },
     "execution_count": 61,
     "metadata": {},
     "output_type": "execute_result"
    }
   ],
   "source": [
    "dates"
   ]
  },
  {
   "cell_type": "code",
   "execution_count": 62,
   "metadata": {},
   "outputs": [
    {
     "name": "stdout",
     "output_type": "stream",
     "text": [
      "First exploit was recorded in 1999\n"
     ]
    }
   ],
   "source": [
    "print(\"First exploit was recorded in {}\".format(min(dates)))"
   ]
  },
  {
   "cell_type": "code",
   "execution_count": 63,
   "metadata": {},
   "outputs": [
    {
     "name": "stdout",
     "output_type": "stream",
     "text": [
      "Last exploit was recorded in 2020\n"
     ]
    }
   ],
   "source": [
    "print(\"Last exploit was recorded in {}\".format(max(dates)))"
   ]
  },
  {
   "cell_type": "code",
   "execution_count": 12,
   "metadata": {},
   "outputs": [],
   "source": [
    "target_cve_dict = {}\n",
    "df_nvd = pd.read_csv(os.path.join('data', 'nvdcve_combined.csv'))\n",
    "for cve in df_nvd['ID']:\n",
    "    if cve in cve_in_wild:\n",
    "        target_cve_dict[cve] = 1\n",
    "    else:\n",
    "        target_cve_dict[cve] = 0\n",
    "        \n",
    "df_target = pd.DataFrame.from_dict(target_cve_dict, orient='index', columns=['in_the_wild'])\n",
    "df_target['ID'] = df_target.index\n",
    "df_target = df_target.reset_index(drop=True)\n",
    "\n",
    "#rearrange\n",
    "df_target = df_target[['ID', 'in_the_wild']]"
   ]
  },
  {
   "cell_type": "code",
   "execution_count": 13,
   "metadata": {},
   "outputs": [
    {
     "data": {
      "text/html": [
       "<div>\n",
       "<style scoped>\n",
       "    .dataframe tbody tr th:only-of-type {\n",
       "        vertical-align: middle;\n",
       "    }\n",
       "\n",
       "    .dataframe tbody tr th {\n",
       "        vertical-align: top;\n",
       "    }\n",
       "\n",
       "    .dataframe thead th {\n",
       "        text-align: right;\n",
       "    }\n",
       "</style>\n",
       "<table border=\"1\" class=\"dataframe\">\n",
       "  <thead>\n",
       "    <tr style=\"text-align: right;\">\n",
       "      <th></th>\n",
       "      <th>ID</th>\n",
       "      <th>in_the_wild</th>\n",
       "    </tr>\n",
       "  </thead>\n",
       "  <tbody>\n",
       "    <tr>\n",
       "      <th>0</th>\n",
       "      <td>CVE-1999-0001</td>\n",
       "      <td>0</td>\n",
       "    </tr>\n",
       "    <tr>\n",
       "      <th>1</th>\n",
       "      <td>CVE-1999-0002</td>\n",
       "      <td>0</td>\n",
       "    </tr>\n",
       "    <tr>\n",
       "      <th>2</th>\n",
       "      <td>CVE-1999-0003</td>\n",
       "      <td>0</td>\n",
       "    </tr>\n",
       "    <tr>\n",
       "      <th>3</th>\n",
       "      <td>CVE-1999-0004</td>\n",
       "      <td>0</td>\n",
       "    </tr>\n",
       "    <tr>\n",
       "      <th>4</th>\n",
       "      <td>CVE-1999-0005</td>\n",
       "      <td>0</td>\n",
       "    </tr>\n",
       "  </tbody>\n",
       "</table>\n",
       "</div>"
      ],
      "text/plain": [
       "              ID  in_the_wild\n",
       "0  CVE-1999-0001            0\n",
       "1  CVE-1999-0002            0\n",
       "2  CVE-1999-0003            0\n",
       "3  CVE-1999-0004            0\n",
       "4  CVE-1999-0005            0"
      ]
     },
     "execution_count": 13,
     "metadata": {},
     "output_type": "execute_result"
    }
   ],
   "source": [
    "df_target.head()"
   ]
  },
  {
   "cell_type": "code",
   "execution_count": 14,
   "metadata": {},
   "outputs": [
    {
     "data": {
      "text/plain": [
       "0.009605271916394861"
      ]
     },
     "execution_count": 14,
     "metadata": {},
     "output_type": "execute_result"
    }
   ],
   "source": [
    "df_target['in_the_wild'].mean()"
   ]
  },
  {
   "cell_type": "code",
   "execution_count": 15,
   "metadata": {},
   "outputs": [],
   "source": [
    "dates = []"
   ]
  }
 ],
 "metadata": {
  "kernelspec": {
   "display_name": "Python 3",
   "language": "python",
   "name": "python3"
  },
  "language_info": {
   "codemirror_mode": {
    "name": "ipython",
    "version": 3
   },
   "file_extension": ".py",
   "mimetype": "text/x-python",
   "name": "python",
   "nbconvert_exporter": "python",
   "pygments_lexer": "ipython3",
   "version": "3.7.4"
  }
 },
 "nbformat": 4,
 "nbformat_minor": 2
}
