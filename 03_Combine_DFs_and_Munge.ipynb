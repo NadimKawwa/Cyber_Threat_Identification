{
 "cells": [
  {
   "cell_type": "markdown",
   "metadata": {},
   "source": [
    "The objective of this notebook is:\n",
    "\n",
    "- Combine all data gathered so far\n",
    "\n",
    "- Only consider inforamation from 2009 and onwards\n",
    "\n",
    "- Drop duplicate CVEs\n",
    "\n",
    "- Remove \"REJECT\" entires and duplicates\n",
    "\n",
    "- Engineer features ready for machine learning algorithms\n",
    "\n",
    "- Split between train/test data\n",
    "\n",
    "\n",
    "Items such as NLP text to numbers and normalization can only be done after train/test/split."
   ]
  },
  {
   "cell_type": "code",
   "execution_count": 1,
   "metadata": {},
   "outputs": [],
   "source": [
    "import pandas as pd\n",
    "import numpy as np\n",
    "import glob\n",
    "import os\n",
    "import munge_help\n",
    "\n",
    "from sklearn.model_selection import train_test_split\n",
    "from sklearn.preprocessing import MinMaxScaler\n",
    "from sklearn.feature_extraction.text import TfidfVectorizer\n",
    "from sklearn.utils.class_weight import compute_class_weight\n",
    "\n",
    "from sklearn.linear_model import LogisticRegression\n",
    "from sklearn.naive_bayes import GaussianNB\n",
    "from sklearn.ensemble import RandomForestClassifier, GradientBoostingClassifier\n",
    "#from sklearn.svm import SVC\n",
    "\n",
    "from sklearn.metrics import confusion_matrix,plot_roc_curve,plot_precision_recall_curve,plot_confusion_matrix, classification_report\n",
    "#from plot_help import plot_confusion_matrix\n",
    "\n",
    "\n",
    "from nltk.stem import WordNetLemmatizer \n",
    "\n",
    "import utils\n",
    "\n",
    "import xgboost as xgb\n",
    "\n",
    "\n",
    "import matplotlib.pyplot as plt\n",
    "%matplotlib inline"
   ]
  },
  {
   "cell_type": "markdown",
   "metadata": {},
   "source": [
    "### Why lemmatization and not stemming?\n",
    "The goal of both stemming and lemmatization is to reduce inflectional forms and sometimes derivationally related forms of a word to a common base form.\n",
    "\n",
    "However, the two words differ in their flavor. Stemming usually refers to a crude heuristic process that chops off the ends of words in the hope of achieving this goal correctly most of the time, and often includes the removal of derivational affixes. Lemmatization usually refers to doing things properly with the use of a vocabulary and morphological analysis of words, normally aiming to remove inflectional endings only and to return the base or dictionary form of a word, which is known as the lemma .\n",
    "\n",
    "source:\n",
    "https://nlp.stanford.edu/IR-book/html/htmledition/stemming-and-lemmatization-1.html"
   ]
  },
  {
   "cell_type": "markdown",
   "metadata": {},
   "source": [
    "### NVD Data"
   ]
  },
  {
   "cell_type": "code",
   "execution_count": 2,
   "metadata": {},
   "outputs": [
    {
     "data": {
      "text/html": [
       "<div>\n",
       "<style scoped>\n",
       "    .dataframe tbody tr th:only-of-type {\n",
       "        vertical-align: middle;\n",
       "    }\n",
       "\n",
       "    .dataframe tbody tr th {\n",
       "        vertical-align: top;\n",
       "    }\n",
       "\n",
       "    .dataframe thead th {\n",
       "        text-align: right;\n",
       "    }\n",
       "</style>\n",
       "<table border=\"1\" class=\"dataframe\">\n",
       "  <thead>\n",
       "    <tr style=\"text-align: right;\">\n",
       "      <th></th>\n",
       "      <th>ID</th>\n",
       "      <th>cwe_val</th>\n",
       "      <th>description</th>\n",
       "      <th>vectorString_V3</th>\n",
       "      <th>attackComplexity_V3</th>\n",
       "      <th>privilegesRequired_V3</th>\n",
       "      <th>userInteraction_V3</th>\n",
       "      <th>scope_V3</th>\n",
       "      <th>confidentialityImpact_V3</th>\n",
       "      <th>integrityImpact_V3</th>\n",
       "      <th>...</th>\n",
       "      <th>userInteractionRequired_V2</th>\n",
       "      <th>publishedDate</th>\n",
       "      <th>lastModifiedDate</th>\n",
       "      <th>accessVector_V2_ADJACENT_NETWORK</th>\n",
       "      <th>accessVector_V2_LOCAL</th>\n",
       "      <th>accessVector_V2_NETWORK</th>\n",
       "      <th>attackVector_V3_ADJACENT_NETWORK</th>\n",
       "      <th>attackVector_V3_LOCAL</th>\n",
       "      <th>attackVector_V3_NETWORK</th>\n",
       "      <th>attackVector_V3_PHYSICAL</th>\n",
       "    </tr>\n",
       "  </thead>\n",
       "  <tbody>\n",
       "    <tr>\n",
       "      <th>0</th>\n",
       "      <td>CVE-1999-0001</td>\n",
       "      <td>CWE-20</td>\n",
       "      <td>ip_input.c in BSD-derived TCP/IP implementatio...</td>\n",
       "      <td>0</td>\n",
       "      <td>0</td>\n",
       "      <td>0</td>\n",
       "      <td>0</td>\n",
       "      <td>0</td>\n",
       "      <td>0</td>\n",
       "      <td>0</td>\n",
       "      <td>...</td>\n",
       "      <td>0</td>\n",
       "      <td>1999-12-30 05:00:00</td>\n",
       "      <td>2010-12-16 05:00:00</td>\n",
       "      <td>0</td>\n",
       "      <td>0</td>\n",
       "      <td>1</td>\n",
       "      <td>0</td>\n",
       "      <td>0</td>\n",
       "      <td>0</td>\n",
       "      <td>0</td>\n",
       "    </tr>\n",
       "    <tr>\n",
       "      <th>1</th>\n",
       "      <td>CVE-1999-0002</td>\n",
       "      <td>CWE-119</td>\n",
       "      <td>Buffer overflow in NFS mountd gives root acces...</td>\n",
       "      <td>0</td>\n",
       "      <td>0</td>\n",
       "      <td>0</td>\n",
       "      <td>0</td>\n",
       "      <td>0</td>\n",
       "      <td>0</td>\n",
       "      <td>0</td>\n",
       "      <td>...</td>\n",
       "      <td>0</td>\n",
       "      <td>1998-10-12 04:00:00</td>\n",
       "      <td>2009-01-26 05:00:00</td>\n",
       "      <td>0</td>\n",
       "      <td>0</td>\n",
       "      <td>1</td>\n",
       "      <td>0</td>\n",
       "      <td>0</td>\n",
       "      <td>0</td>\n",
       "      <td>0</td>\n",
       "    </tr>\n",
       "    <tr>\n",
       "      <th>2</th>\n",
       "      <td>CVE-1999-0003</td>\n",
       "      <td>NVD-CWE-Other</td>\n",
       "      <td>Execute commands as root via buffer overflow i...</td>\n",
       "      <td>0</td>\n",
       "      <td>0</td>\n",
       "      <td>0</td>\n",
       "      <td>0</td>\n",
       "      <td>0</td>\n",
       "      <td>0</td>\n",
       "      <td>0</td>\n",
       "      <td>...</td>\n",
       "      <td>0</td>\n",
       "      <td>1998-04-01 05:00:00</td>\n",
       "      <td>2018-10-30 16:26:00</td>\n",
       "      <td>0</td>\n",
       "      <td>0</td>\n",
       "      <td>1</td>\n",
       "      <td>0</td>\n",
       "      <td>0</td>\n",
       "      <td>0</td>\n",
       "      <td>0</td>\n",
       "    </tr>\n",
       "    <tr>\n",
       "      <th>3</th>\n",
       "      <td>CVE-1999-0004</td>\n",
       "      <td>NVD-CWE-Other</td>\n",
       "      <td>MIME buffer overflow in email clients, e.g. So...</td>\n",
       "      <td>0</td>\n",
       "      <td>0</td>\n",
       "      <td>0</td>\n",
       "      <td>0</td>\n",
       "      <td>0</td>\n",
       "      <td>0</td>\n",
       "      <td>0</td>\n",
       "      <td>...</td>\n",
       "      <td>0</td>\n",
       "      <td>1997-12-16 05:00:00</td>\n",
       "      <td>2018-10-12 21:29:00</td>\n",
       "      <td>0</td>\n",
       "      <td>0</td>\n",
       "      <td>1</td>\n",
       "      <td>0</td>\n",
       "      <td>0</td>\n",
       "      <td>0</td>\n",
       "      <td>0</td>\n",
       "    </tr>\n",
       "    <tr>\n",
       "      <th>4</th>\n",
       "      <td>CVE-1999-0005</td>\n",
       "      <td>NVD-CWE-Other</td>\n",
       "      <td>Arbitrary command execution via IMAP buffer ov...</td>\n",
       "      <td>0</td>\n",
       "      <td>0</td>\n",
       "      <td>0</td>\n",
       "      <td>0</td>\n",
       "      <td>0</td>\n",
       "      <td>0</td>\n",
       "      <td>0</td>\n",
       "      <td>...</td>\n",
       "      <td>0</td>\n",
       "      <td>1998-07-20 04:00:00</td>\n",
       "      <td>2008-09-09 12:33:00</td>\n",
       "      <td>0</td>\n",
       "      <td>0</td>\n",
       "      <td>1</td>\n",
       "      <td>0</td>\n",
       "      <td>0</td>\n",
       "      <td>0</td>\n",
       "      <td>0</td>\n",
       "    </tr>\n",
       "  </tbody>\n",
       "</table>\n",
       "<p>5 rows × 39 columns</p>\n",
       "</div>"
      ],
      "text/plain": [
       "              ID        cwe_val  \\\n",
       "0  CVE-1999-0001         CWE-20   \n",
       "1  CVE-1999-0002        CWE-119   \n",
       "2  CVE-1999-0003  NVD-CWE-Other   \n",
       "3  CVE-1999-0004  NVD-CWE-Other   \n",
       "4  CVE-1999-0005  NVD-CWE-Other   \n",
       "\n",
       "                                         description vectorString_V3  \\\n",
       "0  ip_input.c in BSD-derived TCP/IP implementatio...               0   \n",
       "1  Buffer overflow in NFS mountd gives root acces...               0   \n",
       "2  Execute commands as root via buffer overflow i...               0   \n",
       "3  MIME buffer overflow in email clients, e.g. So...               0   \n",
       "4  Arbitrary command execution via IMAP buffer ov...               0   \n",
       "\n",
       "   attackComplexity_V3  privilegesRequired_V3  userInteraction_V3  scope_V3  \\\n",
       "0                    0                      0                   0         0   \n",
       "1                    0                      0                   0         0   \n",
       "2                    0                      0                   0         0   \n",
       "3                    0                      0                   0         0   \n",
       "4                    0                      0                   0         0   \n",
       "\n",
       "   confidentialityImpact_V3  integrityImpact_V3  ...  \\\n",
       "0                         0                   0  ...   \n",
       "1                         0                   0  ...   \n",
       "2                         0                   0  ...   \n",
       "3                         0                   0  ...   \n",
       "4                         0                   0  ...   \n",
       "\n",
       "   userInteractionRequired_V2       publishedDate    lastModifiedDate  \\\n",
       "0                           0 1999-12-30 05:00:00 2010-12-16 05:00:00   \n",
       "1                           0 1998-10-12 04:00:00 2009-01-26 05:00:00   \n",
       "2                           0 1998-04-01 05:00:00 2018-10-30 16:26:00   \n",
       "3                           0 1997-12-16 05:00:00 2018-10-12 21:29:00   \n",
       "4                           0 1998-07-20 04:00:00 2008-09-09 12:33:00   \n",
       "\n",
       "   accessVector_V2_ADJACENT_NETWORK  accessVector_V2_LOCAL  \\\n",
       "0                                 0                      0   \n",
       "1                                 0                      0   \n",
       "2                                 0                      0   \n",
       "3                                 0                      0   \n",
       "4                                 0                      0   \n",
       "\n",
       "  accessVector_V2_NETWORK  attackVector_V3_ADJACENT_NETWORK  \\\n",
       "0                       1                                 0   \n",
       "1                       1                                 0   \n",
       "2                       1                                 0   \n",
       "3                       1                                 0   \n",
       "4                       1                                 0   \n",
       "\n",
       "   attackVector_V3_LOCAL  attackVector_V3_NETWORK  attackVector_V3_PHYSICAL  \n",
       "0                      0                        0                         0  \n",
       "1                      0                        0                         0  \n",
       "2                      0                        0                         0  \n",
       "3                      0                        0                         0  \n",
       "4                      0                        0                         0  \n",
       "\n",
       "[5 rows x 39 columns]"
      ]
     },
     "execution_count": 2,
     "metadata": {},
     "output_type": "execute_result"
    }
   ],
   "source": [
    "nvd_data_path = os.path.join('data', 'nvdcve_combined.csv')\n",
    "df_nvd = pd.read_csv(nvd_data_path)\n",
    "\n",
    "#fix numbers that are strings\n",
    "df_nvd = munge_help.infer_dtypes(df_nvd)\n",
    "# from none/low/high to 0/1/2\n",
    "df_nvd = munge_help.categorical_to_numerical(df_nvd)\n",
    "\n",
    "df_nvd.head()"
   ]
  },
  {
   "cell_type": "code",
   "execution_count": 3,
   "metadata": {},
   "outputs": [],
   "source": [
    "#assert no missing values\n",
    "assert df_nvd.isna().mean().sum()== 0"
   ]
  },
  {
   "cell_type": "markdown",
   "metadata": {},
   "source": [
    "### ExploitDB Data"
   ]
  },
  {
   "cell_type": "code",
   "execution_count": 4,
   "metadata": {},
   "outputs": [
    {
     "ename": "ModuleNotFoundError",
     "evalue": "No module named 'numpy.core._multiarray_umath'",
     "output_type": "error",
     "traceback": [
      "\u001b[0;31m---------------------------------------------------------------------------\u001b[0m",
      "\u001b[0;31mModuleNotFoundError\u001b[0m                       Traceback (most recent call last)",
      "\u001b[0;31mModuleNotFoundError\u001b[0m: No module named 'numpy.core._multiarray_umath'"
     ]
    },
    {
     "data": {
      "text/html": [
       "<div>\n",
       "<style scoped>\n",
       "    .dataframe tbody tr th:only-of-type {\n",
       "        vertical-align: middle;\n",
       "    }\n",
       "\n",
       "    .dataframe tbody tr th {\n",
       "        vertical-align: top;\n",
       "    }\n",
       "\n",
       "    .dataframe thead th {\n",
       "        text-align: right;\n",
       "    }\n",
       "</style>\n",
       "<table border=\"1\" class=\"dataframe\">\n",
       "  <thead>\n",
       "    <tr style=\"text-align: right;\">\n",
       "      <th></th>\n",
       "      <th>url</th>\n",
       "      <th>CVE</th>\n",
       "      <th>Verified</th>\n",
       "      <th>HasApplication</th>\n",
       "      <th>Date</th>\n",
       "      <th>Critical</th>\n",
       "      <th>Type_dos</th>\n",
       "      <th>Type_local</th>\n",
       "      <th>Type_remote</th>\n",
       "      <th>Type_shellcode</th>\n",
       "      <th>...</th>\n",
       "      <th>Type_Unix</th>\n",
       "      <th>Type_UnixWare</th>\n",
       "      <th>Type_VxWorks</th>\n",
       "      <th>Type_Windows</th>\n",
       "      <th>Type_Windows_x86</th>\n",
       "      <th>Type_Windows_x86-64</th>\n",
       "      <th>Type_XML</th>\n",
       "      <th>Type_iOS</th>\n",
       "      <th>Type_macOS</th>\n",
       "      <th>Type_watchOS</th>\n",
       "    </tr>\n",
       "  </thead>\n",
       "  <tbody>\n",
       "    <tr>\n",
       "      <th>0</th>\n",
       "      <td>https://www.exploit-db.com/exploits/15501</td>\n",
       "      <td>CVE-2010-4837</td>\n",
       "      <td>1</td>\n",
       "      <td>0</td>\n",
       "      <td>2010-11-12</td>\n",
       "      <td>0</td>\n",
       "      <td>0</td>\n",
       "      <td>0</td>\n",
       "      <td>0</td>\n",
       "      <td>0</td>\n",
       "      <td>...</td>\n",
       "      <td>0</td>\n",
       "      <td>0</td>\n",
       "      <td>0</td>\n",
       "      <td>0</td>\n",
       "      <td>0</td>\n",
       "      <td>0</td>\n",
       "      <td>0</td>\n",
       "      <td>0</td>\n",
       "      <td>0</td>\n",
       "      <td>0</td>\n",
       "    </tr>\n",
       "    <tr>\n",
       "      <th>1</th>\n",
       "      <td>https://www.exploit-db.com/exploits/44028</td>\n",
       "      <td>CVE-2018-6889</td>\n",
       "      <td>0</td>\n",
       "      <td>0</td>\n",
       "      <td>2018-02-13</td>\n",
       "      <td>0</td>\n",
       "      <td>0</td>\n",
       "      <td>0</td>\n",
       "      <td>0</td>\n",
       "      <td>0</td>\n",
       "      <td>...</td>\n",
       "      <td>0</td>\n",
       "      <td>0</td>\n",
       "      <td>0</td>\n",
       "      <td>0</td>\n",
       "      <td>0</td>\n",
       "      <td>0</td>\n",
       "      <td>0</td>\n",
       "      <td>0</td>\n",
       "      <td>0</td>\n",
       "      <td>0</td>\n",
       "    </tr>\n",
       "    <tr>\n",
       "      <th>2</th>\n",
       "      <td>https://www.exploit-db.com/exploits/7046</td>\n",
       "      <td>CVE-2008-5654</td>\n",
       "      <td>1</td>\n",
       "      <td>0</td>\n",
       "      <td>2008-11-07</td>\n",
       "      <td>0</td>\n",
       "      <td>0</td>\n",
       "      <td>0</td>\n",
       "      <td>0</td>\n",
       "      <td>0</td>\n",
       "      <td>...</td>\n",
       "      <td>0</td>\n",
       "      <td>0</td>\n",
       "      <td>0</td>\n",
       "      <td>0</td>\n",
       "      <td>0</td>\n",
       "      <td>0</td>\n",
       "      <td>0</td>\n",
       "      <td>0</td>\n",
       "      <td>0</td>\n",
       "      <td>0</td>\n",
       "    </tr>\n",
       "    <tr>\n",
       "      <th>3</th>\n",
       "      <td>https://www.exploit-db.com/exploits/24904</td>\n",
       "      <td>CVE-2013-1493</td>\n",
       "      <td>1</td>\n",
       "      <td>0</td>\n",
       "      <td>2013-03-29</td>\n",
       "      <td>0</td>\n",
       "      <td>0</td>\n",
       "      <td>0</td>\n",
       "      <td>1</td>\n",
       "      <td>0</td>\n",
       "      <td>...</td>\n",
       "      <td>0</td>\n",
       "      <td>0</td>\n",
       "      <td>0</td>\n",
       "      <td>1</td>\n",
       "      <td>0</td>\n",
       "      <td>0</td>\n",
       "      <td>0</td>\n",
       "      <td>0</td>\n",
       "      <td>0</td>\n",
       "      <td>0</td>\n",
       "    </tr>\n",
       "    <tr>\n",
       "      <th>5</th>\n",
       "      <td>https://www.exploit-db.com/exploits/42459</td>\n",
       "      <td>CVE-2017-8644</td>\n",
       "      <td>1</td>\n",
       "      <td>0</td>\n",
       "      <td>2017-08-16</td>\n",
       "      <td>0</td>\n",
       "      <td>1</td>\n",
       "      <td>0</td>\n",
       "      <td>0</td>\n",
       "      <td>0</td>\n",
       "      <td>...</td>\n",
       "      <td>0</td>\n",
       "      <td>0</td>\n",
       "      <td>0</td>\n",
       "      <td>1</td>\n",
       "      <td>0</td>\n",
       "      <td>0</td>\n",
       "      <td>0</td>\n",
       "      <td>0</td>\n",
       "      <td>0</td>\n",
       "      <td>0</td>\n",
       "    </tr>\n",
       "  </tbody>\n",
       "</table>\n",
       "<p>5 rows × 82 columns</p>\n",
       "</div>"
      ],
      "text/plain": [
       "                                          url            CVE  Verified  \\\n",
       "0   https://www.exploit-db.com/exploits/15501  CVE-2010-4837         1   \n",
       "1   https://www.exploit-db.com/exploits/44028  CVE-2018-6889         0   \n",
       "2    https://www.exploit-db.com/exploits/7046  CVE-2008-5654         1   \n",
       "3   https://www.exploit-db.com/exploits/24904  CVE-2013-1493         1   \n",
       "5   https://www.exploit-db.com/exploits/42459  CVE-2017-8644         1   \n",
       "\n",
       "   HasApplication        Date  Critical  Type_dos  Type_local  Type_remote  \\\n",
       "0               0  2010-11-12         0         0           0            0   \n",
       "1               0  2018-02-13         0         0           0            0   \n",
       "2               0  2008-11-07         0         0           0            0   \n",
       "3               0  2013-03-29         0         0           0            1   \n",
       "5               0  2017-08-16         0         1           0            0   \n",
       "\n",
       "   Type_shellcode  ...  Type_Unix  Type_UnixWare  Type_VxWorks  Type_Windows  \\\n",
       "0               0  ...          0              0             0             0   \n",
       "1               0  ...          0              0             0             0   \n",
       "2               0  ...          0              0             0             0   \n",
       "3               0  ...          0              0             0             1   \n",
       "5               0  ...          0              0             0             1   \n",
       "\n",
       "   Type_Windows_x86  Type_Windows_x86-64  Type_XML  Type_iOS  Type_macOS  \\\n",
       "0                 0                    0         0         0           0   \n",
       "1                 0                    0         0         0           0   \n",
       "2                 0                    0         0         0           0   \n",
       "3                 0                    0         0         0           0   \n",
       "5                 0                    0         0         0           0   \n",
       "\n",
       "   Type_watchOS  \n",
       "0             0  \n",
       "1             0  \n",
       "2             0  \n",
       "3             0  \n",
       "5             0  \n",
       "\n",
       "[5 rows x 82 columns]"
      ]
     },
     "execution_count": 4,
     "metadata": {},
     "output_type": "execute_result"
    }
   ],
   "source": [
    "edb_data_path = os.path.join('data', 'exploitdb_metadata.csv')\n",
    "edb_df = pd.read_csv(edb_data_path, index_col=0)\n",
    "\n",
    "edb_df = munge_help.exploit_db_munger(edb_df)\n",
    "\n",
    "edb_df.head()"
   ]
  },
  {
   "cell_type": "code",
   "execution_count": 5,
   "metadata": {},
   "outputs": [],
   "source": [
    "assert edb_df.isna().mean().sum()==0"
   ]
  },
  {
   "cell_type": "code",
   "execution_count": 6,
   "metadata": {},
   "outputs": [
    {
     "data": {
      "text/plain": [
       "(25739, 82)"
      ]
     },
     "execution_count": 6,
     "metadata": {},
     "output_type": "execute_result"
    }
   ],
   "source": [
    "edb_df.shape"
   ]
  },
  {
   "cell_type": "markdown",
   "metadata": {},
   "source": [
    "### Exploited in Wild"
   ]
  },
  {
   "cell_type": "code",
   "execution_count": 7,
   "metadata": {},
   "outputs": [
    {
     "data": {
      "text/html": [
       "<div>\n",
       "<style scoped>\n",
       "    .dataframe tbody tr th:only-of-type {\n",
       "        vertical-align: middle;\n",
       "    }\n",
       "\n",
       "    .dataframe tbody tr th {\n",
       "        vertical-align: top;\n",
       "    }\n",
       "\n",
       "    .dataframe thead th {\n",
       "        text-align: right;\n",
       "    }\n",
       "</style>\n",
       "<table border=\"1\" class=\"dataframe\">\n",
       "  <thead>\n",
       "    <tr style=\"text-align: right;\">\n",
       "      <th></th>\n",
       "      <th>ID</th>\n",
       "      <th>in_the_wild</th>\n",
       "    </tr>\n",
       "  </thead>\n",
       "  <tbody>\n",
       "    <tr>\n",
       "      <th>0</th>\n",
       "      <td>CVE-1999-0001</td>\n",
       "      <td>0</td>\n",
       "    </tr>\n",
       "    <tr>\n",
       "      <th>1</th>\n",
       "      <td>CVE-1999-0002</td>\n",
       "      <td>0</td>\n",
       "    </tr>\n",
       "    <tr>\n",
       "      <th>2</th>\n",
       "      <td>CVE-1999-0003</td>\n",
       "      <td>0</td>\n",
       "    </tr>\n",
       "    <tr>\n",
       "      <th>3</th>\n",
       "      <td>CVE-1999-0004</td>\n",
       "      <td>0</td>\n",
       "    </tr>\n",
       "    <tr>\n",
       "      <th>4</th>\n",
       "      <td>CVE-1999-0005</td>\n",
       "      <td>0</td>\n",
       "    </tr>\n",
       "  </tbody>\n",
       "</table>\n",
       "</div>"
      ],
      "text/plain": [
       "              ID  in_the_wild\n",
       "0  CVE-1999-0001            0\n",
       "1  CVE-1999-0002            0\n",
       "2  CVE-1999-0003            0\n",
       "3  CVE-1999-0004            0\n",
       "4  CVE-1999-0005            0"
      ]
     },
     "execution_count": 7,
     "metadata": {},
     "output_type": "execute_result"
    }
   ],
   "source": [
    "wild_data_path = os.path.join('data', 'target_cve.csv')\n",
    "df_target = pd.read_csv(wild_data_path)\n",
    "\n",
    "df_target.head()"
   ]
  },
  {
   "cell_type": "markdown",
   "metadata": {},
   "source": [
    "### Combine"
   ]
  },
  {
   "cell_type": "code",
   "execution_count": 8,
   "metadata": {},
   "outputs": [],
   "source": [
    "#join nvd and edb\n",
    "df_join = pd.merge(left=df_nvd, \n",
    "                   right=edb_df, \n",
    "                   how='left', \n",
    "                   left_on='ID', \n",
    "                   right_on='CVE')\n",
    "\n",
    "#drop right column after join\n",
    "df_join = df_join.drop(columns=['CVE'])\n",
    "\n",
    "#join next on target\n",
    "df_join = pd.merge(left=df_join,\n",
    "                   right=df_target,\n",
    "                   how='left', \n",
    "                   left_on='ID', \n",
    "                   right_on='ID')"
   ]
  },
  {
   "cell_type": "code",
   "execution_count": 9,
   "metadata": {},
   "outputs": [
    {
     "data": {
      "text/plain": [
       "Index(['url', 'Verified', 'HasApplication', 'Date', 'Critical', 'Type_dos',\n",
       "       'Type_local', 'Type_remote', 'Type_shellcode', 'Type_webapps',\n",
       "       'Type_AIX', 'Type_ARM', 'Type_ASHX', 'Type_ASP', 'Type_ASPX',\n",
       "       'Type_Alpha', 'Type_Android', 'Type_AtheOS', 'Type_BSD', 'Type_BSD_PPC',\n",
       "       'Type_BSD_x86', 'Type_BSDi_x86', 'Type_BeOS', 'Type_CFM', 'Type_CGI',\n",
       "       'Type_FreeBSD', 'Type_FreeBSD_x86', 'Type_FreeBSD_x86-64',\n",
       "       'Type_Generator', 'Type_HP-UX', 'Type_Hardware', 'Type_IRIX',\n",
       "       'Type_Immunix', 'Type_JSON', 'Type_JSP', 'Type_Java', 'Type_Linux',\n",
       "       'Type_Linux_CRISv32', 'Type_Linux_MIPS', 'Type_Linux_PPC',\n",
       "       'Type_Linux_SPARC', 'Type_Linux_x86', 'Type_Linux_x86-64', 'Type_Lua',\n",
       "       'Type_MINIX', 'Type_Multiple', 'Type_NetBSD_x86', 'Type_Netware',\n",
       "       'Type_NodeJS', 'Type_Novell', 'Type_OSX', 'Type_OSX_PPC',\n",
       "       'Type_OpenBSD', 'Type_OpenBSD_x86', 'Type_PHP', 'Type_Palm_OS',\n",
       "       'Type_Perl', 'Type_Plan9', 'Type_Python', 'Type_QNX', 'Type_Ruby',\n",
       "       'Type_SCO', 'Type_SCO_x86', 'Type_Solaris', 'Type_Solaris_MIPS',\n",
       "       'Type_Solaris_SPARC', 'Type_Solaris_x86', 'Type_SuperH_SH4',\n",
       "       'Type_System_z', 'Type_Tru64', 'Type_ULTRIX', 'Type_Unix',\n",
       "       'Type_UnixWare', 'Type_VxWorks', 'Type_Windows', 'Type_Windows_x86',\n",
       "       'Type_Windows_x86-64', 'Type_XML', 'Type_iOS', 'Type_macOS',\n",
       "       'Type_watchOS'],\n",
       "      dtype='object')"
      ]
     },
     "execution_count": 9,
     "metadata": {},
     "output_type": "execute_result"
    }
   ],
   "source": [
    "df_join.columns[df_join.isnull().any()]"
   ]
  },
  {
   "cell_type": "markdown",
   "metadata": {},
   "source": [
    "A lot of the NaN columns stem from the exploitdb type. In case of doubt we opt to fill those wih zeroes."
   ]
  },
  {
   "cell_type": "code",
   "execution_count": 10,
   "metadata": {},
   "outputs": [],
   "source": [
    "df_join = df_join.fillna(value=0)"
   ]
  },
  {
   "cell_type": "code",
   "execution_count": 11,
   "metadata": {},
   "outputs": [],
   "source": [
    "# TODO: only use dates 2009 and after\n",
    "# TODO: text to ngram\n",
    "# TODO: standardaize num values\n",
    "# TODO: look at correlation coefficients"
   ]
  },
  {
   "cell_type": "markdown",
   "metadata": {},
   "source": [
    "### Cleaning up Joined DF"
   ]
  },
  {
   "cell_type": "markdown",
   "metadata": {},
   "source": [
    "#### Only published on or after 2009"
   ]
  },
  {
   "cell_type": "code",
   "execution_count": 12,
   "metadata": {},
   "outputs": [],
   "source": [
    "#make a deep copy\n",
    "df_2009 = df_join.copy(deep=True)\n",
    "\n",
    "#get year CVE was published\n",
    "df_2009['year'] = df_2009['publishedDate'].dt.year\n",
    "\n",
    "#get only years after 2009\n",
    "df_2009 = df_2009[df_2009['year']>=2009]\n",
    "\n",
    "#drop years column\n",
    "df_2009 = df_2009.drop(columns=['year'])"
   ]
  },
  {
   "cell_type": "markdown",
   "metadata": {},
   "source": [
    "#### Drop duplicate CVEs"
   ]
  },
  {
   "cell_type": "code",
   "execution_count": 13,
   "metadata": {},
   "outputs": [
    {
     "name": "stdout",
     "output_type": "stream",
     "text": [
      "Rows before dropping dups = 118957\n",
      "Rows before dropping dups = 115798\n"
     ]
    }
   ],
   "source": [
    "#make a deep copy\n",
    "df_dup = df_2009.copy(deep=True)\n",
    "\n",
    "#drop duplicate IDs\n",
    "df_dup =  df_dup.drop_duplicates(subset='ID')\n",
    "\n",
    "print(\"Rows before dropping dups = {}\".format(df_2009.shape[0]))\n",
    "print(\"Rows before dropping dups = {}\".format(df_dup.shape[0]))"
   ]
  },
  {
   "cell_type": "markdown",
   "metadata": {},
   "source": [
    "#### Remove all CVEs that have been rejected by the description itself."
   ]
  },
  {
   "cell_type": "code",
   "execution_count": 14,
   "metadata": {},
   "outputs": [],
   "source": [
    "#name it accept so that it contains only accepted entries after cleanup\n",
    "df_accept = df_dup.copy(deep=True)"
   ]
  },
  {
   "cell_type": "code",
   "execution_count": 15,
   "metadata": {},
   "outputs": [
    {
     "data": {
      "text/plain": [
       "(7911, 121)"
      ]
     },
     "execution_count": 15,
     "metadata": {},
     "output_type": "execute_result"
    }
   ],
   "source": [
    "#see how many CVEs are rejected\n",
    "df_accept[df_accept['description'].str.contains(\"REJECT\")].shape"
   ]
  },
  {
   "cell_type": "code",
   "execution_count": 16,
   "metadata": {},
   "outputs": [],
   "source": [
    "# see if we have CVEs that are rejected AND are exploited in the wild\n",
    "# call this a contradiction\n",
    "df_contradiction = df_accept[(df_accept['description'].str.contains(\"REJECT\")) \\\n",
    "                             & (df_accept['in_the_wild'] == 1)]"
   ]
  },
  {
   "cell_type": "code",
   "execution_count": 17,
   "metadata": {},
   "outputs": [
    {
     "data": {
      "text/plain": [
       "(5, 121)"
      ]
     },
     "execution_count": 17,
     "metadata": {},
     "output_type": "execute_result"
    }
   ],
   "source": [
    "df_contradiction.shape"
   ]
  },
  {
   "cell_type": "code",
   "execution_count": 18,
   "metadata": {},
   "outputs": [
    {
     "data": {
      "text/plain": [
       "22102     ** REJECT **  DO NOT USE THIS CANDIDATE NUMBER...\n",
       "36730     ** REJECT **  DO NOT USE THIS CANDIDATE NUMBER...\n",
       "63059     ** REJECT **  DO NOT USE THIS CANDIDATE NUMBER...\n",
       "77591     ** REJECT **  DO NOT USE THIS CANDIDATE NUMBER...\n",
       "112727    ** REJECT **  DO NOT USE THIS CANDIDATE NUMBER...\n",
       "Name: description, dtype: object"
      ]
     },
     "execution_count": 18,
     "metadata": {},
     "output_type": "execute_result"
    }
   ],
   "source": [
    "df_contradiction['description']"
   ]
  },
  {
   "cell_type": "markdown",
   "metadata": {},
   "source": [
    "Since the number of rows that are both rejected and we think are exploited in the wild is low (5), we decide to drop these rows."
   ]
  },
  {
   "cell_type": "code",
   "execution_count": 19,
   "metadata": {},
   "outputs": [],
   "source": [
    "#keep only accepted entires\n",
    "df_accept = df_accept[~df_accept['description'].str.contains(\"REJECT\")]"
   ]
  },
  {
   "cell_type": "markdown",
   "metadata": {},
   "source": [
    "#### Remove object columns that we won't need"
   ]
  },
  {
   "cell_type": "code",
   "execution_count": 20,
   "metadata": {},
   "outputs": [
    {
     "name": "stdout",
     "output_type": "stream",
     "text": [
      "Columns that are non-numeric:\n",
      "Index(['ID', 'cwe_val', 'description', 'vectorString_V3', 'vectorString_V2',\n",
      "       'publishedDate', 'lastModifiedDate', 'url', 'Date'],\n",
      "      dtype='object')\n"
     ]
    }
   ],
   "source": [
    "obj_columns = df_accept.select_dtypes(exclude='number').columns\n",
    "\n",
    "print(\"Columns that are non-numeric:\\n{}\".format(obj_columns))"
   ]
  },
  {
   "cell_type": "code",
   "execution_count": 21,
   "metadata": {},
   "outputs": [],
   "source": [
    "#make a deep copy\n",
    "df_num = df_accept.copy(deep=True)\n",
    "\n",
    "#drop columns that we won't need\n",
    "#note that we keep the description column\n",
    "df_num = df_num.drop(columns=['ID', 'cwe_val', 'vectorString_V3', \n",
    "                              'vectorString_V2','publishedDate', 'lastModifiedDate', \n",
    "                              'url', 'Date'])"
   ]
  },
  {
   "cell_type": "code",
   "execution_count": 22,
   "metadata": {},
   "outputs": [
    {
     "data": {
      "text/plain": [
       "(107887, 113)"
      ]
     },
     "execution_count": 22,
     "metadata": {},
     "output_type": "execute_result"
    }
   ],
   "source": [
    "df_num.shape"
   ]
  },
  {
   "cell_type": "markdown",
   "metadata": {},
   "source": [
    "## Train Test Split"
   ]
  },
  {
   "cell_type": "code",
   "execution_count": 23,
   "metadata": {},
   "outputs": [],
   "source": [
    "X = df_num.drop(columns=['in_the_wild'])\n",
    "y = df_num['in_the_wild']\n"
   ]
  },
  {
   "cell_type": "code",
   "execution_count": 24,
   "metadata": {},
   "outputs": [
    {
     "name": "stdout",
     "output_type": "stream",
     "text": [
      "(107887, 112)\n"
     ]
    }
   ],
   "source": [
    "print(X.shape)"
   ]
  },
  {
   "cell_type": "code",
   "execution_count": 25,
   "metadata": {},
   "outputs": [
    {
     "data": {
      "text/plain": [
       "0.011132017759322254"
      ]
     },
     "execution_count": 25,
     "metadata": {},
     "output_type": "execute_result"
    }
   ],
   "source": [
    "y.mean()"
   ]
  },
  {
   "cell_type": "code",
   "execution_count": 24,
   "metadata": {},
   "outputs": [],
   "source": [
    "X_train, X_test, y_train, y_test = train_test_split(X,\n",
    "                                                    y,\n",
    "                                                    test_size=0.05,\n",
    "                                                    stratify=y,\n",
    "                                                    random_state=42)"
   ]
  },
  {
   "cell_type": "code",
   "execution_count": null,
   "metadata": {},
   "outputs": [],
   "source": []
  },
  {
   "cell_type": "code",
   "execution_count": 25,
   "metadata": {},
   "outputs": [
    {
     "name": "stdout",
     "output_type": "stream",
     "text": [
      "Percent explited in wild in train data... 1.113%\n",
      "Percent explited in wild in test data... 1.112%\n"
     ]
    }
   ],
   "source": [
    "#quick check that stratification worked\n",
    "\n",
    "#check how positive in train\n",
    "print(\"Percent explited in wild in train data... {:.3%}\".format(y_train.mean()))\n",
    "\n",
    "#check how positive in test\n",
    "print(\"Percent explited in wild in test data... {:.3%}\".format(y_test.mean()))"
   ]
  },
  {
   "cell_type": "markdown",
   "metadata": {},
   "source": [
    "## NLP Pipeline Feature Extraction\n",
    "\n",
    "make use of TfidfVectorizer:<br>\n",
    "Convert a collection of text documents to a matrix of token counts.<br>\n",
    "This sklearn package is useful because it handles a lot of the preprocessing for us such as make everything lower."
   ]
  },
  {
   "cell_type": "code",
   "execution_count": 26,
   "metadata": {},
   "outputs": [],
   "source": [
    "#isolate the descriptions\n",
    "description_train_raw = X_train['description']\n",
    "#save the text column\n",
    "utils.save_obj(obj=description_train_raw, path=os.path.join('data_processed', 'description_train_raw.pkl'))\n",
    "\n",
    "\n",
    "#repeat for test data\n",
    "description_test_raw = X_test['description']\n",
    "#save the text column\n",
    "utils.save_obj(obj=description_test_raw, path=os.path.join('data_processed', 'description_test_raw.pkl'))"
   ]
  },
  {
   "cell_type": "code",
   "execution_count": 27,
   "metadata": {},
   "outputs": [
    {
     "data": {
      "text/plain": [
       "TfidfVectorizer(max_df=0.8, max_features=100, min_df=10, ngram_range=(1, 3),\n",
       "                stop_words='english', strip_accents='ascii')"
      ]
     },
     "execution_count": 27,
     "metadata": {},
     "output_type": "execute_result"
    }
   ],
   "source": [
    "#instantiate the vectorizier\n",
    "# note that ngram only applies if analyzer is not callable.\n",
    "\n",
    "vectorizer = TfidfVectorizer(encoding='utf-8', \n",
    "                             decode_error='strict', \n",
    "                             strip_accents='ascii',  #remove accents\n",
    "                             lowercase=True, #make everything lowercase before vectorizing\n",
    "                             preprocessor=None, \n",
    "                             tokenizer=None, \n",
    "                             analyzer='word', #feature to be made of word ngrams\n",
    "                             stop_words='english', #remove english stopwords \n",
    "                             #token_pattern='(?u)\\b\\w\\w+\\b', #keep this one default\n",
    "                             ngram_range=(1, 3), \n",
    "                             max_df=.8, #if appears in more than this percent don't use it\n",
    "                             min_df=10, #ignore terms that have a document frequency strictly lower than the given threshold\n",
    "                             max_features=100, #arbitrary number \n",
    "                             vocabulary=None, \n",
    "                             binary=False, \n",
    "                             norm='l2', \n",
    "                             use_idf=True, \n",
    "                             smooth_idf=True, \n",
    "                             sublinear_tf=False)\n",
    "\n",
    "vectorizer.fit(X_train['description'])\n",
    "\n"
   ]
  },
  {
   "cell_type": "code",
   "execution_count": 28,
   "metadata": {},
   "outputs": [
    {
     "data": {
      "text/plain": [
       "'(?u)\\\\b\\\\w\\\\w+\\\\b'"
      ]
     },
     "execution_count": 28,
     "metadata": {},
     "output_type": "execute_result"
    }
   ],
   "source": [
    "#see what the token pattern is\n",
    "#note that it is commented out when we instantiate the vectorizer\n",
    "#it could be a bug\n",
    "vectorizer.token_pattern"
   ]
  },
  {
   "cell_type": "code",
   "execution_count": 29,
   "metadata": {
    "scrolled": false
   },
   "outputs": [
    {
     "data": {
      "text/plain": [
       "['10',\n",
       " '11',\n",
       " '12',\n",
       " '2015',\n",
       " '2016',\n",
       " 'access',\n",
       " 'affected',\n",
       " 'aka',\n",
       " 'allow',\n",
       " 'allows',\n",
       " 'allows remote',\n",
       " 'allows remote attackers',\n",
       " 'android',\n",
       " 'application',\n",
       " 'arbitrary',\n",
       " 'arbitrary code',\n",
       " 'attacker',\n",
       " 'attackers',\n",
       " 'attackers cause',\n",
       " 'attackers cause denial',\n",
       " 'attackers execute',\n",
       " 'attackers execute arbitrary',\n",
       " 'attacks',\n",
       " 'authenticated',\n",
       " 'buffer',\n",
       " 'cause',\n",
       " 'cause denial',\n",
       " 'cause denial service',\n",
       " 'code',\n",
       " 'component',\n",
       " 'crafted',\n",
       " 'crash',\n",
       " 'cross',\n",
       " 'cross site',\n",
       " 'cross site scripting',\n",
       " 'cve',\n",
       " 'cve 2015',\n",
       " 'cve 2016',\n",
       " 'cvss',\n",
       " 'data',\n",
       " 'denial',\n",
       " 'denial service',\n",
       " 'does',\n",
       " 'earlier',\n",
       " 'execute',\n",
       " 'execute arbitrary',\n",
       " 'execute arbitrary code',\n",
       " 'execution',\n",
       " 'exploit',\n",
       " 'file',\n",
       " 'files',\n",
       " 'function',\n",
       " 'html',\n",
       " 'http',\n",
       " 'ibm',\n",
       " 'id',\n",
       " 'information',\n",
       " 'inject',\n",
       " 'injection',\n",
       " 'issue',\n",
       " 'java',\n",
       " 'local',\n",
       " 'memory',\n",
       " 'microsoft',\n",
       " 'obtain',\n",
       " 'oracle',\n",
       " 'overflow',\n",
       " 'parameter',\n",
       " 'php',\n",
       " 'prior',\n",
       " 'privileges',\n",
       " 'read',\n",
       " 'related',\n",
       " 'remote',\n",
       " 'remote attackers',\n",
       " 'remote attackers cause',\n",
       " 'remote attackers execute',\n",
       " 'request',\n",
       " 'script',\n",
       " 'scripting',\n",
       " 'scripting xss',\n",
       " 'sd',\n",
       " 'sensitive',\n",
       " 'server',\n",
       " 'service',\n",
       " 'site',\n",
       " 'site scripting',\n",
       " 'site scripting xss',\n",
       " 'sql',\n",
       " 'successful',\n",
       " 'unspecified',\n",
       " 'user',\n",
       " 'users',\n",
       " 'vectors',\n",
       " 'version',\n",
       " 'versions',\n",
       " 'vulnerability',\n",
       " 'web',\n",
       " 'windows',\n",
       " 'xss']"
      ]
     },
     "execution_count": 29,
     "metadata": {},
     "output_type": "execute_result"
    }
   ],
   "source": [
    "#see what's in our vocab\n",
    "vectorizer.get_feature_names()"
   ]
  },
  {
   "cell_type": "markdown",
   "metadata": {},
   "source": [
    "### Data Preprocessing"
   ]
  },
  {
   "cell_type": "markdown",
   "metadata": {},
   "source": [
    "#### preprocess train data"
   ]
  },
  {
   "cell_type": "code",
   "execution_count": 30,
   "metadata": {},
   "outputs": [],
   "source": [
    "#instantiate scaler\n",
    "scaler = MinMaxScaler(feature_range = (0,1))\n",
    "\n",
    "#get numerical features\n",
    "X_train_num = X_train.drop(columns='description')\n",
    "\n",
    "#fit to train numerical data\n",
    "scaler.fit(X_train_num)\n",
    "#transform\n",
    "X_train_num = scaler.transform(X_train_num)\n",
    "\n",
    "\n",
    "#isolate text column\n",
    "X_train_text = X_train['description']\n",
    "#apply tfidf transform\n",
    "X_train_text = vectorizer.transform(X_train_text)"
   ]
  },
  {
   "cell_type": "markdown",
   "metadata": {},
   "source": [
    "#### preprocess test data"
   ]
  },
  {
   "cell_type": "code",
   "execution_count": 31,
   "metadata": {},
   "outputs": [],
   "source": [
    "#get numerical features\n",
    "X_test_num = X_test.drop(columns='description')\n",
    "\n",
    "#scale test data\n",
    "X_test_num = scaler.transform(X_test_num)\n",
    "\n",
    "#isolate text column\n",
    "X_test_text = X_test['description']\n",
    "\n",
    "#apply tfidf transform\n",
    "X_test_text = vectorizer.transform(X_test_text)"
   ]
  },
  {
   "cell_type": "code",
   "execution_count": 32,
   "metadata": {},
   "outputs": [
    {
     "data": {
      "text/plain": [
       "(102492, 111)"
      ]
     },
     "execution_count": 32,
     "metadata": {},
     "output_type": "execute_result"
    }
   ],
   "source": [
    "#check shape\n",
    "X_train_num.shape"
   ]
  },
  {
   "cell_type": "code",
   "execution_count": 33,
   "metadata": {},
   "outputs": [
    {
     "data": {
      "text/plain": [
       "(102492, 100)"
      ]
     },
     "execution_count": 33,
     "metadata": {},
     "output_type": "execute_result"
    }
   ],
   "source": [
    "X_train_text.shape"
   ]
  },
  {
   "cell_type": "markdown",
   "metadata": {},
   "source": [
    "How can we make tfidf vocab smaller?\n"
   ]
  },
  {
   "cell_type": "code",
   "execution_count": 34,
   "metadata": {},
   "outputs": [],
   "source": [
    "#make a dataframe of idf weights\n",
    "df_idf = pd.DataFrame(vectorizer.idf_, index=vectorizer.get_feature_names(), columns=['idf_weights'])\n",
    "\n",
    "df_idf = df_idf.sort_values(by=['idf_weights'], ascending=False)"
   ]
  },
  {
   "cell_type": "code",
   "execution_count": 35,
   "metadata": {},
   "outputs": [
    {
     "data": {
      "text/html": [
       "<div>\n",
       "<style scoped>\n",
       "    .dataframe tbody tr th:only-of-type {\n",
       "        vertical-align: middle;\n",
       "    }\n",
       "\n",
       "    .dataframe tbody tr th {\n",
       "        vertical-align: top;\n",
       "    }\n",
       "\n",
       "    .dataframe thead th {\n",
       "        text-align: right;\n",
       "    }\n",
       "</style>\n",
       "<table border=\"1\" class=\"dataframe\">\n",
       "  <thead>\n",
       "    <tr style=\"text-align: right;\">\n",
       "      <th></th>\n",
       "      <th>idf_weights</th>\n",
       "    </tr>\n",
       "  </thead>\n",
       "  <tbody>\n",
       "    <tr>\n",
       "      <th>sd</th>\n",
       "      <td>5.996520</td>\n",
       "    </tr>\n",
       "    <tr>\n",
       "      <th>cve 2016</th>\n",
       "      <td>5.649997</td>\n",
       "    </tr>\n",
       "    <tr>\n",
       "      <th>cve 2015</th>\n",
       "      <td>5.486560</td>\n",
       "    </tr>\n",
       "    <tr>\n",
       "      <th>java</th>\n",
       "      <td>4.931660</td>\n",
       "    </tr>\n",
       "    <tr>\n",
       "      <th>2015</th>\n",
       "      <td>4.748924</td>\n",
       "    </tr>\n",
       "    <tr>\n",
       "      <th>2016</th>\n",
       "      <td>4.689397</td>\n",
       "    </tr>\n",
       "    <tr>\n",
       "      <th>cvss</th>\n",
       "      <td>4.599461</td>\n",
       "    </tr>\n",
       "    <tr>\n",
       "      <th>ibm</th>\n",
       "      <td>4.175841</td>\n",
       "    </tr>\n",
       "    <tr>\n",
       "      <th>microsoft</th>\n",
       "      <td>4.155489</td>\n",
       "    </tr>\n",
       "    <tr>\n",
       "      <th>sql</th>\n",
       "      <td>4.089921</td>\n",
       "    </tr>\n",
       "  </tbody>\n",
       "</table>\n",
       "</div>"
      ],
      "text/plain": [
       "           idf_weights\n",
       "sd            5.996520\n",
       "cve 2016      5.649997\n",
       "cve 2015      5.486560\n",
       "java          4.931660\n",
       "2015          4.748924\n",
       "2016          4.689397\n",
       "cvss          4.599461\n",
       "ibm           4.175841\n",
       "microsoft     4.155489\n",
       "sql           4.089921"
      ]
     },
     "execution_count": 35,
     "metadata": {},
     "output_type": "execute_result"
    }
   ],
   "source": [
    "df_idf.head(10)"
   ]
  },
  {
   "cell_type": "code",
   "execution_count": 36,
   "metadata": {},
   "outputs": [
    {
     "data": {
      "text/html": [
       "<div>\n",
       "<style scoped>\n",
       "    .dataframe tbody tr th:only-of-type {\n",
       "        vertical-align: middle;\n",
       "    }\n",
       "\n",
       "    .dataframe tbody tr th {\n",
       "        vertical-align: top;\n",
       "    }\n",
       "\n",
       "    .dataframe thead th {\n",
       "        text-align: right;\n",
       "    }\n",
       "</style>\n",
       "<table border=\"1\" class=\"dataframe\">\n",
       "  <thead>\n",
       "    <tr style=\"text-align: right;\">\n",
       "      <th></th>\n",
       "      <th>idf_weights</th>\n",
       "    </tr>\n",
       "  </thead>\n",
       "  <tbody>\n",
       "    <tr>\n",
       "      <th>crafted</th>\n",
       "      <td>2.595563</td>\n",
       "    </tr>\n",
       "    <tr>\n",
       "      <th>service</th>\n",
       "      <td>2.586511</td>\n",
       "    </tr>\n",
       "    <tr>\n",
       "      <th>allows remote attackers</th>\n",
       "      <td>2.335144</td>\n",
       "    </tr>\n",
       "    <tr>\n",
       "      <th>arbitrary</th>\n",
       "      <td>2.177809</td>\n",
       "    </tr>\n",
       "    <tr>\n",
       "      <th>allows remote</th>\n",
       "      <td>2.134014</td>\n",
       "    </tr>\n",
       "    <tr>\n",
       "      <th>remote attackers</th>\n",
       "      <td>2.118607</td>\n",
       "    </tr>\n",
       "    <tr>\n",
       "      <th>vulnerability</th>\n",
       "      <td>1.891387</td>\n",
       "    </tr>\n",
       "    <tr>\n",
       "      <th>attackers</th>\n",
       "      <td>1.875525</td>\n",
       "    </tr>\n",
       "    <tr>\n",
       "      <th>remote</th>\n",
       "      <td>1.762811</td>\n",
       "    </tr>\n",
       "    <tr>\n",
       "      <th>allows</th>\n",
       "      <td>1.623844</td>\n",
       "    </tr>\n",
       "  </tbody>\n",
       "</table>\n",
       "</div>"
      ],
      "text/plain": [
       "                         idf_weights\n",
       "crafted                     2.595563\n",
       "service                     2.586511\n",
       "allows remote attackers     2.335144\n",
       "arbitrary                   2.177809\n",
       "allows remote               2.134014\n",
       "remote attackers            2.118607\n",
       "vulnerability               1.891387\n",
       "attackers                   1.875525\n",
       "remote                      1.762811\n",
       "allows                      1.623844"
      ]
     },
     "execution_count": 36,
     "metadata": {},
     "output_type": "execute_result"
    }
   ],
   "source": [
    "df_idf.tail(10)"
   ]
  },
  {
   "cell_type": "markdown",
   "metadata": {},
   "source": [
    "#### Save data and artifacts"
   ]
  },
  {
   "cell_type": "code",
   "execution_count": 37,
   "metadata": {},
   "outputs": [],
   "source": [
    "#train data\n",
    "utils.save_obj(obj = X_train, \n",
    "               path = os.path.join('data_processed', 'X_train.pkl'))\n",
    "\n",
    "#train data\n",
    "utils.save_obj(obj = y_train, \n",
    "               path = os.path.join('data_processed', 'y_train.pkl'))\n",
    "\n",
    "utils.save_obj(obj = X_train_num, \n",
    "               path = os.path.join('data_processed', 'X_train_num.pkl'))\n",
    "\n",
    "utils.save_obj(obj = X_train_text, \n",
    "               path = os.path.join('data_processed', 'X_train_text.pkl'))"
   ]
  },
  {
   "cell_type": "code",
   "execution_count": 38,
   "metadata": {},
   "outputs": [],
   "source": [
    "#test data\n",
    "utils.save_obj(obj = X_test, \n",
    "               path = os.path.join('data_processed', 'X_test.pkl'))\n",
    "\n",
    "#test data\n",
    "utils.save_obj(obj = y_test, \n",
    "               path = os.path.join('data_processed', 'y_test.pkl'))\n",
    "\n",
    "utils.save_obj(obj = X_test_num, \n",
    "               path = os.path.join('data_processed', 'X_test_num.pkl'))\n",
    "\n",
    "utils.save_obj(obj = X_test_text, \n",
    "               path = os.path.join('data_processed', 'X_test_text.pkl'))"
   ]
  },
  {
   "cell_type": "code",
   "execution_count": 39,
   "metadata": {},
   "outputs": [],
   "source": [
    "#transformers\n",
    "utils.save_obj(obj = vectorizer, \n",
    "               path = os.path.join('artifacts', 'vectorizer_tfidf.pkl'))\n",
    "\n",
    "utils.save_obj(obj = scaler, \n",
    "               path = os.path.join('artifacts', 'minmax_scaler.pkl'))"
   ]
  },
  {
   "cell_type": "markdown",
   "metadata": {},
   "source": [
    "## Q: Are numeric features alone sufficient?"
   ]
  },
  {
   "cell_type": "markdown",
   "metadata": {},
   "source": [
    "#### Logistic Regression"
   ]
  },
  {
   "cell_type": "code",
   "execution_count": 40,
   "metadata": {},
   "outputs": [],
   "source": [
    "#instantiate with default params\n",
    "lr = LogisticRegression(penalty='l2',\n",
    "                        dual=False, \n",
    "                        tol=0.0001, \n",
    "                        C=1.0, \n",
    "                        fit_intercept=True, \n",
    "                        intercept_scaling=1, \n",
    "                        class_weight='balanced', \n",
    "                        random_state=None, \n",
    "                        solver='lbfgs', \n",
    "                        max_iter=100, \n",
    "                        multi_class='auto', \n",
    "                        verbose=0, \n",
    "                        warm_start=False, \n",
    "                        n_jobs=-1, \n",
    "                        l1_ratio=None)\n"
   ]
  },
  {
   "cell_type": "code",
   "execution_count": 41,
   "metadata": {},
   "outputs": [
    {
     "data": {
      "text/plain": [
       "LogisticRegression(class_weight='balanced', n_jobs=-1)"
      ]
     },
     "execution_count": 41,
     "metadata": {},
     "output_type": "execute_result"
    }
   ],
   "source": [
    "lr.fit(X_train_num, y_train)"
   ]
  },
  {
   "cell_type": "code",
   "execution_count": 42,
   "metadata": {},
   "outputs": [],
   "source": [
    "y_lr_num = lr.predict(X_test_num)"
   ]
  },
  {
   "cell_type": "code",
   "execution_count": 43,
   "metadata": {},
   "outputs": [
    {
     "name": "stdout",
     "output_type": "stream",
     "text": [
      "Confusion Matrix in array form\n",
      "[[4396  939]\n",
      " [  19   41]]\n",
      "\n",
      "\n",
      "####################\n"
     ]
    },
    {
     "data": {
      "image/png": "[encoded data removed]",
      "text/plain": [
       "<Figure size 432x288 with 2 Axes>"
      ]
     },
     "metadata": {
      "needs_background": "light"
     },
     "output_type": "display_data"
    },
    {
     "name": "stdout",
     "output_type": "stream",
     "text": [
      "####################\n",
      "\n",
      "\n",
      "              precision    recall  f1-score   support\n",
      "\n",
      "  NO exploit       1.00      0.82      0.90      5335\n",
      "   Exploited       0.04      0.68      0.08        60\n",
      "\n",
      "    accuracy                           0.82      5395\n",
      "   macro avg       0.52      0.75      0.49      5395\n",
      "weighted avg       0.99      0.82      0.89      5395\n",
      "\n"
     ]
    }
   ],
   "source": [
    "utils.metric_evaluation(lr, X_train_num, X_test_num, y_test, 'Logistic Regression Numbers Only')"
   ]
  },
  {
   "cell_type": "markdown",
   "metadata": {},
   "source": [
    "#### Naive Bayes"
   ]
  },
  {
   "cell_type": "code",
   "execution_count": 44,
   "metadata": {},
   "outputs": [],
   "source": [
    "nb = GaussianNB(priors=None, \n",
    "                var_smoothing=1e-09)"
   ]
  },
  {
   "cell_type": "code",
   "execution_count": 45,
   "metadata": {},
   "outputs": [],
   "source": [
    "nb.fit(X_train_num, y_train)\n",
    "y_nb_num=nb.predict(X_test_num)\n"
   ]
  },
  {
   "cell_type": "code",
   "execution_count": 46,
   "metadata": {},
   "outputs": [
    {
     "name": "stdout",
     "output_type": "stream",
     "text": [
      "Confusion Matrix in array form\n",
      "[[ 139 5196]\n",
      " [   0   60]]\n",
      "\n",
      "\n",
      "####################\n"
     ]
    },
    {
     "data": {
      "image/png": "[encoded data removed]",
      "text/plain": [
       "<Figure size 432x288 with 2 Axes>"
      ]
     },
     "metadata": {
      "needs_background": "light"
     },
     "output_type": "display_data"
    },
    {
     "name": "stdout",
     "output_type": "stream",
     "text": [
      "####################\n",
      "\n",
      "\n",
      "              precision    recall  f1-score   support\n",
      "\n",
      "  NO exploit       1.00      0.03      0.05      5335\n",
      "   Exploited       0.01      1.00      0.02        60\n",
      "\n",
      "    accuracy                           0.04      5395\n",
      "   macro avg       0.51      0.51      0.04      5395\n",
      "weighted avg       0.99      0.04      0.05      5395\n",
      "\n"
     ]
    }
   ],
   "source": [
    "utils.metric_evaluation(nb, X_train_num, X_test_num, y_test, title = 'Naive Bayes Numbers Only')"
   ]
  },
  {
   "cell_type": "markdown",
   "metadata": {},
   "source": [
    "#### Random forest"
   ]
  },
  {
   "cell_type": "code",
   "execution_count": 47,
   "metadata": {},
   "outputs": [],
   "source": [
    "rf = RandomForestClassifier(n_estimators=100,\n",
    "                            criterion='gini', \n",
    "                            max_depth=None, \n",
    "                            min_samples_split=2, \n",
    "                            min_samples_leaf=1, \n",
    "                            min_weight_fraction_leaf=0.0, \n",
    "                            max_features='sqrt', \n",
    "                            max_leaf_nodes=None, \n",
    "                            min_impurity_decrease=0.0, \n",
    "                            min_impurity_split=None, \n",
    "                            bootstrap=True, \n",
    "                            oob_score=False, \n",
    "                            n_jobs=-1, \n",
    "                            random_state=None, \n",
    "                            verbose=0, \n",
    "                            warm_start=False, \n",
    "                            class_weight='balanced', \n",
    "                            ccp_alpha=0.0, \n",
    "                            max_samples=None)\n",
    "rf.fit(X_train_num, y_train)\n",
    "y_rf_num = rf.predict(X_test_num)\n"
   ]
  },
  {
   "cell_type": "code",
   "execution_count": 48,
   "metadata": {},
   "outputs": [
    {
     "name": "stdout",
     "output_type": "stream",
     "text": [
      "Confusion Matrix in array form\n",
      "[[4811  524]\n",
      " [  29   31]]\n",
      "\n",
      "\n",
      "####################\n"
     ]
    },
    {
     "data": {
      "image/png": "[encoded data removed]",
      "text/plain": [
       "<Figure size 432x288 with 2 Axes>"
      ]
     },
     "metadata": {
      "needs_background": "light"
     },
     "output_type": "display_data"
    },
    {
     "name": "stdout",
     "output_type": "stream",
     "text": [
      "####################\n",
      "\n",
      "\n",
      "              precision    recall  f1-score   support\n",
      "\n",
      "  NO exploit       0.99      0.90      0.95      5335\n",
      "   Exploited       0.06      0.52      0.10        60\n",
      "\n",
      "    accuracy                           0.90      5395\n",
      "   macro avg       0.52      0.71      0.52      5395\n",
      "weighted avg       0.98      0.90      0.94      5395\n",
      "\n"
     ]
    }
   ],
   "source": [
    "utils.metric_evaluation(rf, X_train_num, X_test_num, y_test, title = 'Random Forest Numbers Only')"
   ]
  },
  {
   "cell_type": "markdown",
   "metadata": {},
   "source": [
    "#### GBTree"
   ]
  },
  {
   "cell_type": "code",
   "execution_count": 49,
   "metadata": {},
   "outputs": [],
   "source": [
    "gb = GradientBoostingClassifier(loss='deviance', \n",
    "                                    learning_rate=0.1, \n",
    "                                    n_estimators=100, \n",
    "                                    subsample=1.0, \n",
    "                                    criterion='friedman_mse', \n",
    "                                    min_samples_split=2, \n",
    "                                    min_samples_leaf=1, \n",
    "                                    min_weight_fraction_leaf=0.0, \n",
    "                                    max_depth=3, \n",
    "                                    min_impurity_decrease=0.0, \n",
    "                                    min_impurity_split=None, \n",
    "                                    init=None, \n",
    "                                    random_state=None, \n",
    "                                    max_features='sqrt', \n",
    "                                    verbose=0, \n",
    "                                    max_leaf_nodes=None, \n",
    "                                    warm_start=False, \n",
    "                                    presort='deprecated', \n",
    "                                    validation_fraction=0.1, \n",
    "                                    n_iter_no_change=None, \n",
    "                                    tol=0.0001, \n",
    "                                    ccp_alpha=0.0)\n",
    "\n",
    "gb.fit(X_train_num, y_train)\n",
    "y_gb_num = gb.predict(X_test_num)\n"
   ]
  },
  {
   "cell_type": "code",
   "execution_count": 50,
   "metadata": {},
   "outputs": [
    {
     "name": "stdout",
     "output_type": "stream",
     "text": [
      "Confusion Matrix in array form\n",
      "[[5329    6]\n",
      " [  59    1]]\n",
      "\n",
      "\n",
      "####################\n"
     ]
    },
    {
     "data": {
      "image/png": "[encoded data removed]",
      "text/plain": [
       "<Figure size 432x288 with 2 Axes>"
      ]
     },
     "metadata": {
      "needs_background": "light"
     },
     "output_type": "display_data"
    },
    {
     "name": "stdout",
     "output_type": "stream",
     "text": [
      "####################\n",
      "\n",
      "\n",
      "              precision    recall  f1-score   support\n",
      "\n",
      "  NO exploit       0.99      1.00      0.99      5335\n",
      "   Exploited       0.14      0.02      0.03        60\n",
      "\n",
      "    accuracy                           0.99      5395\n",
      "   macro avg       0.57      0.51      0.51      5395\n",
      "weighted avg       0.98      0.99      0.98      5395\n",
      "\n"
     ]
    }
   ],
   "source": [
    "utils.metric_evaluation(gb, X_train_num, X_test_num, y_test, title = 'GB Tree Numbers Only')"
   ]
  },
  {
   "cell_type": "markdown",
   "metadata": {},
   "source": [
    "#### SVM"
   ]
  },
  {
   "cell_type": "code",
   "execution_count": 51,
   "metadata": {},
   "outputs": [],
   "source": [
    "# svc = SVC( C=1.0, \n",
    "#           kernel='rbf', \n",
    "#           degree=3, \n",
    "#           gamma='scale', \n",
    "#           coef0=0.0, \n",
    "#           shrinking=True, \n",
    "#           probability=False, \n",
    "#           tol=0.001, \n",
    "#           cache_size=200, \n",
    "#           class_weight='balanced', \n",
    "#           verbose=False, \n",
    "#           max_iter=-1, \n",
    "#           decision_function_shape='ovr', \n",
    "#           break_ties=False, \n",
    "#           random_state=None)\n",
    "\n",
    "# svc.fit(X_train_num, y_train)\n",
    "# y_svc_num = svc.predict(X_test_num)\n",
    "# confusion_matrix(y_test, y_svc_num)"
   ]
  },
  {
   "cell_type": "code",
   "execution_count": 52,
   "metadata": {},
   "outputs": [],
   "source": [
    "#utils.metric_evaluation(svc, X_train_num, X_test_num, y_test)"
   ]
  },
  {
   "cell_type": "markdown",
   "metadata": {},
   "source": [
    "#### XGBoost\n",
    "\n",
    "adapted from here: https://www.kdnuggets.com/2017/03/simple-xgboost-tutorial-iris-dataset.html"
   ]
  },
  {
   "cell_type": "code",
   "execution_count": 53,
   "metadata": {},
   "outputs": [
    {
     "data": {
      "text/plain": [
       "XGBClassifier(colsample_bytree=0.9, eta=0.9, max_depth=6, n_jobs=-1,\n",
       "              num_boost_round=10, subsample=0.9)"
      ]
     },
     "execution_count": 53,
     "metadata": {},
     "output_type": "execute_result"
    }
   ],
   "source": [
    "bst = xgb.XGBClassifier(n_estimators=100,\n",
    "                        colsample_bytree=0.9, \n",
    "                        eta=0.9, \n",
    "                        max_depth=6, \n",
    "                        num_boost_round=10,\n",
    "                        subsample=0.9, \n",
    "                        n_jobs=-1)\n",
    "\n",
    "bst.fit(X_train_num, y_train)\n"
   ]
  },
  {
   "cell_type": "code",
   "execution_count": 54,
   "metadata": {},
   "outputs": [],
   "source": [
    "y_xgb_num = bst.predict(X_test_num)"
   ]
  },
  {
   "cell_type": "code",
   "execution_count": 55,
   "metadata": {},
   "outputs": [
    {
     "name": "stdout",
     "output_type": "stream",
     "text": [
      "Confusion Matrix in array form\n",
      "[[5324   11]\n",
      " [  55    5]]\n",
      "\n",
      "\n",
      "####################\n"
     ]
    },
    {
     "data": {
      "image/png": "[encoded data removed]",
      "text/plain": [
       "<Figure size 432x288 with 2 Axes>"
      ]
     },
     "metadata": {
      "needs_background": "light"
     },
     "output_type": "display_data"
    },
    {
     "name": "stdout",
     "output_type": "stream",
     "text": [
      "####################\n",
      "\n",
      "\n",
      "              precision    recall  f1-score   support\n",
      "\n",
      "  NO exploit       0.99      1.00      0.99      5335\n",
      "   Exploited       0.31      0.08      0.13        60\n",
      "\n",
      "    accuracy                           0.99      5395\n",
      "   macro avg       0.65      0.54      0.56      5395\n",
      "weighted avg       0.98      0.99      0.98      5395\n",
      "\n"
     ]
    }
   ],
   "source": [
    "utils.metric_evaluation(bst, X_train_num, X_test_num, y_test, title = 'XGBoost Numbers Only')"
   ]
  },
  {
   "cell_type": "markdown",
   "metadata": {},
   "source": [
    "#### Putting all the plots together"
   ]
  },
  {
   "cell_type": "code",
   "execution_count": 56,
   "metadata": {},
   "outputs": [
    {
     "data": {
      "text/plain": [
       "Text(0.5, 1.0, 'ROC Curve for Numerical Features Only')"
      ]
     },
     "execution_count": 56,
     "metadata": {},
     "output_type": "execute_result"
    },
    {
     "data": {
      "image/png": "[encoded data removed]",
      "text/plain": [
       "<Figure size 576x576 with 1 Axes>"
      ]
     },
     "metadata": {
      "needs_background": "light"
     },
     "output_type": "display_data"
    }
   ],
   "source": [
    "fig = plt.figure(figsize=(8,8))\n",
    "ax = fig.gca()\n",
    "lr_roc = plot_roc_curve(lr, X_test_num, y_test, name='LogReg', ax=ax)\n",
    "nb_roc = plot_roc_curve(nb, X_test_num, y_test, name='NaiveBayes', ax=ax)\n",
    "rf_roc = plot_roc_curve(rf, X_test_num, y_test, name='RandomForest', ax=ax)\n",
    "gb_roc = plot_roc_curve(gb, X_test_num, y_test, name='GBTree', ax=ax)\n",
    "xgb_roc = plot_roc_curve(bst, X_test_num, y_test, name='XGBoost', ax=ax)\n",
    "\n",
    "plt.title(\"ROC Curve for Numerical Features Only\")"
   ]
  },
  {
   "cell_type": "code",
   "execution_count": 57,
   "metadata": {},
   "outputs": [
    {
     "data": {
      "text/plain": [
       "Text(0.5, 1.0, 'PRC Curve for Numerical Features')"
      ]
     },
     "execution_count": 57,
     "metadata": {},
     "output_type": "execute_result"
    },
    {
     "data": {
      "image/png": "[encoded data removed]",
      "text/plain": [
       "<Figure size 576x576 with 1 Axes>"
      ]
     },
     "metadata": {
      "needs_background": "light"
     },
     "output_type": "display_data"
    }
   ],
   "source": [
    "fig = plt.figure(figsize=(8,8))\n",
    "\n",
    "ax = fig.gca()\n",
    "lr_prc = plot_precision_recall_curve(lr, X_test_num, y_test, name='LogReg', ax=ax)\n",
    "nb_prc = plot_precision_recall_curve(nb, X_test_num, y_test, name='NaiveBayes', ax=ax)\n",
    "rf_prc = plot_precision_recall_curve(rf, X_test_num, y_test, name='RandomForest', ax=ax)\n",
    "gb_prc = plot_precision_recall_curve(gb, X_test_num, y_test, name='GBTree', ax=ax)\n",
    "xgb_prc = plot_precision_recall_curve(bst, X_test_num, y_test, name='XGBoost', ax=ax)\n",
    "\n",
    "ax.legend(loc='upper right')\n",
    "plt.title(\"PRC Curve for Numerical Features\")"
   ]
  },
  {
   "cell_type": "markdown",
   "metadata": {},
   "source": [
    "## A: Numerical Features Alone Probably Not Enough \n",
    "<br>\n",
    "<br>\n",
    "If we use numerical data alone, performance ranges from inaccurate to abyssimal. We are unable to provide a solution that offers enough coverage of critical cases while also being efficient. In the subsequent notebook we explore using the text data for classifiers.\n"
   ]
  },
  {
   "cell_type": "markdown",
   "metadata": {},
   "source": [
    "## Q: Are NLP Features alone enough?"
   ]
  },
  {
   "cell_type": "markdown",
   "metadata": {},
   "source": [
    "#### Logistic Regression"
   ]
  },
  {
   "cell_type": "code",
   "execution_count": 58,
   "metadata": {},
   "outputs": [
    {
     "data": {
      "text/plain": [
       "LogisticRegression(class_weight='balanced', n_jobs=-1)"
      ]
     },
     "execution_count": 58,
     "metadata": {},
     "output_type": "execute_result"
    }
   ],
   "source": [
    "#instantiate with default params\n",
    "lr_text = LogisticRegression(penalty='l2',\n",
    "                        dual=False, \n",
    "                        tol=0.0001, \n",
    "                        C=1.0, \n",
    "                        fit_intercept=True, \n",
    "                        intercept_scaling=1, \n",
    "                        class_weight='balanced', \n",
    "                        random_state=None, \n",
    "                        solver='lbfgs', \n",
    "                        max_iter=100, \n",
    "                        multi_class='auto', \n",
    "                        verbose=0, \n",
    "                        warm_start=False, \n",
    "                        n_jobs=-1, \n",
    "                        l1_ratio=None)\n",
    "\n",
    "#fit to text only features\n",
    "lr_text.fit(X_train_text, y_train)"
   ]
  },
  {
   "cell_type": "code",
   "execution_count": 59,
   "metadata": {},
   "outputs": [
    {
     "name": "stdout",
     "output_type": "stream",
     "text": [
      "Confusion Matrix in array form\n",
      "[[4114 1221]\n",
      " [  19   41]]\n",
      "\n",
      "\n",
      "####################\n"
     ]
    },
    {
     "data": {
      "image/png": "[encoded data removed]",
      "text/plain": [
       "<Figure size 432x288 with 2 Axes>"
      ]
     },
     "metadata": {
      "needs_background": "light"
     },
     "output_type": "display_data"
    },
    {
     "name": "stdout",
     "output_type": "stream",
     "text": [
      "####################\n",
      "\n",
      "\n",
      "              precision    recall  f1-score   support\n",
      "\n",
      "  NO exploit       1.00      0.77      0.87      5335\n",
      "   Exploited       0.03      0.68      0.06        60\n",
      "\n",
      "    accuracy                           0.77      5395\n",
      "   macro avg       0.51      0.73      0.47      5395\n",
      "weighted avg       0.98      0.77      0.86      5395\n",
      "\n"
     ]
    }
   ],
   "source": [
    "utils.metric_evaluation(lr_text,\n",
    "                        X_train_text,\n",
    "                        X_test_text, \n",
    "                        y_test, \n",
    "                        title = 'Logistic Regression NLP Only')"
   ]
  },
  {
   "cell_type": "markdown",
   "metadata": {},
   "source": [
    "#### Naive Bayes"
   ]
  },
  {
   "cell_type": "code",
   "execution_count": 60,
   "metadata": {},
   "outputs": [],
   "source": [
    "nb_text = GaussianNB(priors=None, \n",
    "                var_smoothing=1e-09)\n",
    "\n",
    "nb_text.fit(X_train_text.toarray(), y_train)\n",
    "y_nb_text = nb_text.predict(X_test_text.toarray())"
   ]
  },
  {
   "cell_type": "code",
   "execution_count": 61,
   "metadata": {},
   "outputs": [
    {
     "name": "stdout",
     "output_type": "stream",
     "text": [
      "Confusion Matrix in array form\n",
      "[[3563 1772]\n",
      " [  14   46]]\n",
      "\n",
      "\n",
      "####################\n"
     ]
    },
    {
     "data": {
      "image/png": "[encoded data removed]",
      "text/plain": [
       "<Figure size 432x288 with 2 Axes>"
      ]
     },
     "metadata": {
      "needs_background": "light"
     },
     "output_type": "display_data"
    },
    {
     "name": "stdout",
     "output_type": "stream",
     "text": [
      "####################\n",
      "\n",
      "\n",
      "              precision    recall  f1-score   support\n",
      "\n",
      "  NO exploit       1.00      0.67      0.80      5335\n",
      "   Exploited       0.03      0.77      0.05        60\n",
      "\n",
      "    accuracy                           0.67      5395\n",
      "   macro avg       0.51      0.72      0.42      5395\n",
      "weighted avg       0.99      0.67      0.79      5395\n",
      "\n"
     ]
    }
   ],
   "source": [
    "utils.metric_evaluation(nb_text,\n",
    "                        X_train_text.toarray(), \n",
    "                        X_test_text.toarray(), \n",
    "                        y_test, \n",
    "                        title = 'Naive Bayes NLP Only')"
   ]
  },
  {
   "cell_type": "markdown",
   "metadata": {},
   "source": [
    "#### Random Forest"
   ]
  },
  {
   "cell_type": "code",
   "execution_count": 62,
   "metadata": {},
   "outputs": [],
   "source": [
    "rf_text = RandomForestClassifier(n_estimators=100,\n",
    "                            criterion='gini', \n",
    "                            max_depth=None, \n",
    "                            min_samples_split=2, \n",
    "                            min_samples_leaf=1, \n",
    "                            min_weight_fraction_leaf=0.0, \n",
    "                            max_features='sqrt', \n",
    "                            max_leaf_nodes=None, \n",
    "                            min_impurity_decrease=0.0, \n",
    "                            min_impurity_split=None, \n",
    "                            bootstrap=True, \n",
    "                            oob_score=False, \n",
    "                            n_jobs=-1, \n",
    "                            random_state=None, \n",
    "                            verbose=0, \n",
    "                            warm_start=False, \n",
    "                            class_weight='balanced', \n",
    "                            ccp_alpha=0.0, \n",
    "                            max_samples=None)\n",
    "\n",
    "rf_text.fit(X_train_text, y_train)\n",
    "y_rf_text = rf_text.predict(X_test_text)\n",
    "\n"
   ]
  },
  {
   "cell_type": "code",
   "execution_count": 63,
   "metadata": {},
   "outputs": [
    {
     "name": "stdout",
     "output_type": "stream",
     "text": [
      "Confusion Matrix in array form\n",
      "[[5248   87]\n",
      " [  52    8]]\n",
      "\n",
      "\n",
      "####################\n"
     ]
    },
    {
     "data": {
      "image/png": "[encoded data removed]",
      "text/plain": [
       "<Figure size 432x288 with 2 Axes>"
      ]
     },
     "metadata": {
      "needs_background": "light"
     },
     "output_type": "display_data"
    },
    {
     "name": "stdout",
     "output_type": "stream",
     "text": [
      "####################\n",
      "\n",
      "\n",
      "              precision    recall  f1-score   support\n",
      "\n",
      "  NO exploit       0.99      0.98      0.99      5335\n",
      "   Exploited       0.08      0.13      0.10        60\n",
      "\n",
      "    accuracy                           0.97      5395\n",
      "   macro avg       0.54      0.56      0.55      5395\n",
      "weighted avg       0.98      0.97      0.98      5395\n",
      "\n"
     ]
    }
   ],
   "source": [
    "utils.metric_evaluation(rf_text,\n",
    "                        X_train_text.toarray(), \n",
    "                        X_test_text.toarray(), \n",
    "                        y_test, \n",
    "                        title = 'Random Forest NLP Only')"
   ]
  },
  {
   "cell_type": "markdown",
   "metadata": {},
   "source": [
    "#### GB Tree"
   ]
  },
  {
   "cell_type": "code",
   "execution_count": 64,
   "metadata": {},
   "outputs": [],
   "source": [
    "gb_text = GradientBoostingClassifier(loss='deviance', \n",
    "                                    learning_rate=0.1, \n",
    "                                    n_estimators=100, \n",
    "                                    subsample=1.0, \n",
    "                                    criterion='friedman_mse', \n",
    "                                    min_samples_split=2, \n",
    "                                    min_samples_leaf=1, \n",
    "                                    min_weight_fraction_leaf=0.0, \n",
    "                                    max_depth=3, \n",
    "                                    min_impurity_decrease=0.0, \n",
    "                                    min_impurity_split=None, \n",
    "                                    init=None, \n",
    "                                    random_state=None, \n",
    "                                    max_features='sqrt', \n",
    "                                    verbose=0, \n",
    "                                    max_leaf_nodes=None, \n",
    "                                    warm_start=False, \n",
    "                                    presort='deprecated', \n",
    "                                    validation_fraction=0.1, \n",
    "                                    n_iter_no_change=None, \n",
    "                                    tol=0.0001, \n",
    "                                    ccp_alpha=0.0)\n",
    "\n",
    "gb_text.fit(X_train_text, y_train)\n",
    "y_gb_text = gb_text.predict(X_test_text)\n"
   ]
  },
  {
   "cell_type": "code",
   "execution_count": 65,
   "metadata": {},
   "outputs": [
    {
     "name": "stdout",
     "output_type": "stream",
     "text": [
      "Confusion Matrix in array form\n",
      "[[5331    4]\n",
      " [  60    0]]\n",
      "\n",
      "\n",
      "####################\n"
     ]
    },
    {
     "data": {
      "image/png": "[encoded data removed]",
      "text/plain": [
       "<Figure size 432x288 with 2 Axes>"
      ]
     },
     "metadata": {
      "needs_background": "light"
     },
     "output_type": "display_data"
    },
    {
     "name": "stdout",
     "output_type": "stream",
     "text": [
      "####################\n",
      "\n",
      "\n",
      "              precision    recall  f1-score   support\n",
      "\n",
      "  NO exploit       0.99      1.00      0.99      5335\n",
      "   Exploited       0.00      0.00      0.00        60\n",
      "\n",
      "    accuracy                           0.99      5395\n",
      "   macro avg       0.49      0.50      0.50      5395\n",
      "weighted avg       0.98      0.99      0.98      5395\n",
      "\n"
     ]
    }
   ],
   "source": [
    "utils.metric_evaluation(gb_text,\n",
    "                        X_train_text.toarray(), \n",
    "                        X_test_text.toarray(), \n",
    "                        y_test, \n",
    "                        title = 'GB Tree NLP Only')"
   ]
  },
  {
   "cell_type": "markdown",
   "metadata": {},
   "source": [
    "#### XGB"
   ]
  },
  {
   "cell_type": "code",
   "execution_count": 66,
   "metadata": {},
   "outputs": [
    {
     "data": {
      "text/plain": [
       "XGBClassifier(colsample_bytree=0.9, eta=0.9, max_depth=6, n_jobs=-1,\n",
       "              num_boost_round=10, subsample=0.9)"
      ]
     },
     "execution_count": 66,
     "metadata": {},
     "output_type": "execute_result"
    }
   ],
   "source": [
    "bst_text = xgb.XGBClassifier(n_estimators=100,\n",
    "                        colsample_bytree=0.9, \n",
    "                        eta=0.9, \n",
    "                        max_depth=6, \n",
    "                        num_boost_round=10,\n",
    "                        subsample=0.9, \n",
    "                        n_jobs=-1)\n",
    "\n",
    "bst_text.fit(X_train_text, y_train)\n"
   ]
  },
  {
   "cell_type": "code",
   "execution_count": 67,
   "metadata": {},
   "outputs": [
    {
     "name": "stdout",
     "output_type": "stream",
     "text": [
      "Confusion Matrix in array form\n",
      "[[ 737 4598]\n",
      " [   7   53]]\n",
      "\n",
      "\n",
      "####################\n"
     ]
    },
    {
     "data": {
      "image/png": "[encoded data removed]",
      "text/plain": [
       "<Figure size 432x288 with 2 Axes>"
      ]
     },
     "metadata": {
      "needs_background": "light"
     },
     "output_type": "display_data"
    },
    {
     "name": "stdout",
     "output_type": "stream",
     "text": [
      "####################\n",
      "\n",
      "\n",
      "              precision    recall  f1-score   support\n",
      "\n",
      "  NO exploit       0.99      0.14      0.24      5335\n",
      "   Exploited       0.01      0.88      0.02        60\n",
      "\n",
      "    accuracy                           0.15      5395\n",
      "   macro avg       0.50      0.51      0.13      5395\n",
      "weighted avg       0.98      0.15      0.24      5395\n",
      "\n"
     ]
    }
   ],
   "source": [
    "utils.metric_evaluation(bst_text,\n",
    "                        X_train_text.toarray(), \n",
    "                        X_test_text.toarray(), \n",
    "                        y_test, \n",
    "                        title = 'XGB NLP Only')"
   ]
  },
  {
   "cell_type": "code",
   "execution_count": 68,
   "metadata": {},
   "outputs": [
    {
     "data": {
      "text/plain": [
       "Text(0.5, 1.0, 'ROC Curve for NLP Features Only')"
      ]
     },
     "execution_count": 68,
     "metadata": {},
     "output_type": "execute_result"
    },
    {
     "data": {
      "image/png": "[encoded data removed]",
      "text/plain": [
       "<Figure size 576x576 with 1 Axes>"
      ]
     },
     "metadata": {
      "needs_background": "light"
     },
     "output_type": "display_data"
    }
   ],
   "source": [
    "fig = plt.figure(figsize=(8,8))\n",
    "ax = fig.gca()\n",
    "lr_roc = plot_roc_curve(lr_text, X_test_text, y_test, name='LogReg', ax=ax)\n",
    "nb_roc = plot_roc_curve(nb_text, X_test_text.toarray(), y_test, name='NaiveBayes', ax=ax)\n",
    "rf_roc = plot_roc_curve(rf_text, X_test_text, y_test, name='RandomForest', ax=ax)\n",
    "gb_roc = plot_roc_curve(gb_text, X_test_text, y_test, name='GBTree', ax=ax)\n",
    "xgb_roc = plot_roc_curve(bst_text, X_test_text, y_test, name='XGBoost', ax=ax)\n",
    "\n",
    "plt.title(\"ROC Curve for NLP Features Only\")"
   ]
  },
  {
   "cell_type": "code",
   "execution_count": 69,
   "metadata": {},
   "outputs": [
    {
     "data": {
      "text/plain": [
       "Text(0.5, 1.0, 'PRC Curve for Numerical Features')"
      ]
     },
     "execution_count": 69,
     "metadata": {},
     "output_type": "execute_result"
    },
    {
     "data": {
      "image/png": "[encoded data removed]",
      "text/plain": [
       "<Figure size 576x576 with 1 Axes>"
      ]
     },
     "metadata": {
      "needs_background": "light"
     },
     "output_type": "display_data"
    }
   ],
   "source": [
    "fig = plt.figure(figsize=(8,8))\n",
    "\n",
    "ax = fig.gca()\n",
    "lr_prc = plot_precision_recall_curve(lr_text, X_test_text, y_test, name='LogReg', ax=ax)\n",
    "nb_prc = plot_precision_recall_curve(nb_text, X_test_text.toarray(), y_test, name='NaiveBayes', ax=ax)\n",
    "rf_prc = plot_precision_recall_curve(rf_text, X_test_text, y_test, name='RandomForest', ax=ax)\n",
    "gb_prc = plot_precision_recall_curve(gb_text, X_test_text, y_test, name='GBTree', ax=ax)\n",
    "xgb_prc = plot_precision_recall_curve(bst_text, X_test_text, y_test, name='XGBoost', ax=ax)\n",
    "\n",
    "ax.legend(loc='upper right')\n",
    "plt.title(\"PRC Curve for Numerical Features\")"
   ]
  },
  {
   "cell_type": "markdown",
   "metadata": {},
   "source": [
    "### So What Happened?"
   ]
  },
  {
   "cell_type": "markdown",
   "metadata": {},
   "source": [
    "It seems like numerical or NLP features alone do not give the best of results. Our "
   ]
  }
 ],
 "metadata": {
  "kernelspec": {
   "display_name": "Python 3",
   "language": "python",
   "name": "python3"
  },
  "language_info": {
   "codemirror_mode": {
    "name": "ipython",
    "version": 3
   },
   "file_extension": ".py",
   "mimetype": "text/x-python",
   "name": "python",
   "nbconvert_exporter": "python",
   "pygments_lexer": "ipython3",
   "version": "3.7.4"
  }
 },
 "nbformat": 4,
 "nbformat_minor": 2
}
