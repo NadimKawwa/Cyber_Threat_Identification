{
 "cells": [
  {
   "cell_type": "code",
   "execution_count": 1,
   "metadata": {},
   "outputs": [],
   "source": [
    "import os\n",
    "import csv\n",
    "import pandas as pd\n"
   ]
  },
  {
   "cell_type": "code",
   "execution_count": 2,
   "metadata": {},
   "outputs": [],
   "source": [
    "exploit_db_raw_text = os.path.join('data', 'exploitdb.txt')"
   ]
  },
  {
   "cell_type": "code",
   "execution_count": 3,
   "metadata": {},
   "outputs": [],
   "source": [
    "#read lines encoded as binary\n",
    "with open(exploit_db_raw_text, 'rb') as f:\n",
    "    lines = f.readlines()\n",
    "    \n",
    "#remove \\n at end of lines\n",
    "lines = [l.strip() for l in lines]"
   ]
  },
  {
   "cell_type": "code",
   "execution_count": 4,
   "metadata": {
    "scrolled": false
   },
   "outputs": [
    {
     "data": {
      "text/plain": [
       "[b'(Bitcoin / Dogecoin) PHP Cloud Mining Script - Authenticat | https://www.exploit-db.com/exploits/42531',\n",
       " b\"(Gabriel's FTP Server) Open & Compact FTP Server 1.2 - 'PO | https://www.exploit-db.com/exploits/12698\",\n",
       " b\"(Gabriel's FTP Server) Open & Compact FTP Server 1.2 - Aut | https://www.exploit-db.com/exploits/27401\",\n",
       " b\"(Gabriel's FTP Server) Open & Compact FTP Server 1.2 - Ful | https://www.exploit-db.com/exploits/13932\",\n",
       " b\"(Gabriel's FTP Server) Open & Compact FTP Server 1.2 - Uni | https://www.exploit-db.com/exploits/12741\",\n",
       " b\"(Gabriel's FTP Server) Open & Compact FTPd 1.2 - Buffer Ov | https://www.exploit-db.com/exploits/11742\",\n",
       " b\"(Gabriel's FTP Server) Open & Compact FTPd 1.2 - Crash (Po | https://www.exploit-db.com/exploits/11391\",\n",
       " b\"(Gabriel's FTP Server) Open & Compact FTPd 1.2 - Remote Ov | https://www.exploit-db.com/exploits/11420\",\n",
       " b'(GREEZLE) Global Real Estate Agent Login - Multiple SQL In | https://www.exploit-db.com/exploits/34111',\n",
       " b\"(Multiple Products) - 'banner.swf' Cross-Site Scripting    | https://www.exploit-db.com/exploits/33760\"]"
      ]
     },
     "execution_count": 4,
     "metadata": {},
     "output_type": "execute_result"
    }
   ],
   "source": [
    "#see sample\n",
    "lines[:10]"
   ]
  },
  {
   "cell_type": "code",
   "execution_count": 5,
   "metadata": {},
   "outputs": [
    {
     "data": {
      "text/plain": [
       "44094"
      ]
     },
     "execution_count": 5,
     "metadata": {},
     "output_type": "execute_result"
    }
   ],
   "source": [
    "#check length\n",
    "len(lines)"
   ]
  },
  {
   "cell_type": "code",
   "execution_count": 6,
   "metadata": {},
   "outputs": [
    {
     "name": "stderr",
     "output_type": "stream",
     "text": [
      "b'Skipping line 19437: expected 2 fields, saw 3\\nSkipping line 43087: expected 2 fields, saw 3\\nSkipping line 43385: expected 2 fields, saw 3\\n'\n"
     ]
    },
    {
     "data": {
      "text/html": [
       "<div>\n",
       "<style scoped>\n",
       "    .dataframe tbody tr th:only-of-type {\n",
       "        vertical-align: middle;\n",
       "    }\n",
       "\n",
       "    .dataframe tbody tr th {\n",
       "        vertical-align: top;\n",
       "    }\n",
       "\n",
       "    .dataframe thead th {\n",
       "        text-align: right;\n",
       "    }\n",
       "</style>\n",
       "<table border=\"1\" class=\"dataframe\">\n",
       "  <thead>\n",
       "    <tr style=\"text-align: right;\">\n",
       "      <th></th>\n",
       "      <th>title</th>\n",
       "      <th>url</th>\n",
       "    </tr>\n",
       "  </thead>\n",
       "  <tbody>\n",
       "    <tr>\n",
       "      <th>0</th>\n",
       "      <td>(Bitcoin / Dogecoin) PHP Cloud Mining Script -...</td>\n",
       "      <td>https://www.exploit-db.com/exploits/42531</td>\n",
       "    </tr>\n",
       "    <tr>\n",
       "      <th>1</th>\n",
       "      <td>(Gabriel's FTP Server) Open &amp; Compact FTP Serv...</td>\n",
       "      <td>https://www.exploit-db.com/exploits/12698</td>\n",
       "    </tr>\n",
       "    <tr>\n",
       "      <th>2</th>\n",
       "      <td>(Gabriel's FTP Server) Open &amp; Compact FTP Serv...</td>\n",
       "      <td>https://www.exploit-db.com/exploits/27401</td>\n",
       "    </tr>\n",
       "    <tr>\n",
       "      <th>3</th>\n",
       "      <td>(Gabriel's FTP Server) Open &amp; Compact FTP Serv...</td>\n",
       "      <td>https://www.exploit-db.com/exploits/13932</td>\n",
       "    </tr>\n",
       "    <tr>\n",
       "      <th>4</th>\n",
       "      <td>(Gabriel's FTP Server) Open &amp; Compact FTP Serv...</td>\n",
       "      <td>https://www.exploit-db.com/exploits/12741</td>\n",
       "    </tr>\n",
       "  </tbody>\n",
       "</table>\n",
       "</div>"
      ],
      "text/plain": [
       "                                               title  \\\n",
       "0  (Bitcoin / Dogecoin) PHP Cloud Mining Script -...   \n",
       "1  (Gabriel's FTP Server) Open & Compact FTP Serv...   \n",
       "2  (Gabriel's FTP Server) Open & Compact FTP Serv...   \n",
       "3  (Gabriel's FTP Server) Open & Compact FTP Serv...   \n",
       "4  (Gabriel's FTP Server) Open & Compact FTP Serv...   \n",
       "\n",
       "                                          url  \n",
       "0   https://www.exploit-db.com/exploits/42531  \n",
       "1   https://www.exploit-db.com/exploits/12698  \n",
       "2   https://www.exploit-db.com/exploits/27401  \n",
       "3   https://www.exploit-db.com/exploits/13932  \n",
       "4   https://www.exploit-db.com/exploits/12741  "
      ]
     },
     "execution_count": 6,
     "metadata": {},
     "output_type": "execute_result"
    }
   ],
   "source": [
    "#read as a csv\n",
    "df = pd.read_csv(exploit_db_raw_text,\n",
    "                 sep='|', \n",
    "                 header=None, \n",
    "                 encoding='latin-1',\n",
    "                 error_bad_lines=False,  #skip bad lines\n",
    "                 warn_bad_lines=True) #keep track of badf lines\n",
    "\n",
    "df.columns = ['title', 'url']\n",
    "df.head()"
   ]
  },
  {
   "cell_type": "code",
   "execution_count": 7,
   "metadata": {},
   "outputs": [
    {
     "data": {
      "text/plain": [
       "b\"Linux Kernel 3.0.0 - 'perf_count_sw_cpu_clock' event Denia | https://www.exploit-db.com/exploits/17769\""
      ]
     },
     "execution_count": 7,
     "metadata": {},
     "output_type": "execute_result"
    }
   ],
   "source": [
    "#inspect what went wrong\n",
    "lines[19437]"
   ]
  },
  {
   "cell_type": "code",
   "execution_count": 8,
   "metadata": {},
   "outputs": [
    {
     "data": {
      "text/plain": [
       "b'BSD/x86 - execve(/bin/sh) Shellcode (27 bytes)             | https://www.exploit-db.com/shellcodes/13246'"
      ]
     },
     "execution_count": 8,
     "metadata": {},
     "output_type": "execute_result"
    }
   ],
   "source": [
    "#same with this line\n",
    "lines[43091]"
   ]
  },
  {
   "cell_type": "code",
   "execution_count": 9,
   "metadata": {
    "scrolled": true
   },
   "outputs": [
    {
     "data": {
      "text/html": [
       "<div>\n",
       "<style scoped>\n",
       "    .dataframe tbody tr th:only-of-type {\n",
       "        vertical-align: middle;\n",
       "    }\n",
       "\n",
       "    .dataframe tbody tr th {\n",
       "        vertical-align: top;\n",
       "    }\n",
       "\n",
       "    .dataframe thead th {\n",
       "        text-align: right;\n",
       "    }\n",
       "</style>\n",
       "<table border=\"1\" class=\"dataframe\">\n",
       "  <thead>\n",
       "    <tr style=\"text-align: right;\">\n",
       "      <th></th>\n",
       "      <th>title</th>\n",
       "      <th>url</th>\n",
       "    </tr>\n",
       "  </thead>\n",
       "  <tbody>\n",
       "    <tr>\n",
       "      <th>0</th>\n",
       "      <td>Linux Kernel 3.0.0 - 'perf_count_sw_cpu_clock'...</td>\n",
       "      <td>https://www.exploit-db.com/exploits/17769%22</td>\n",
       "    </tr>\n",
       "    <tr>\n",
       "      <th>1</th>\n",
       "      <td>BSD/x86 - execve(/bin/sh) + Encoded Shellcode ...</td>\n",
       "      <td>https://www.exploit-db.com/shellcodes/13252</td>\n",
       "    </tr>\n",
       "  </tbody>\n",
       "</table>\n",
       "</div>"
      ],
      "text/plain": [
       "                                               title  \\\n",
       "0  Linux Kernel 3.0.0 - 'perf_count_sw_cpu_clock'...   \n",
       "1  BSD/x86 - execve(/bin/sh) + Encoded Shellcode ...   \n",
       "\n",
       "                                            url  \n",
       "0  https://www.exploit-db.com/exploits/17769%22  \n",
       "1   https://www.exploit-db.com/shellcodes/13252  "
      ]
     },
     "execution_count": 9,
     "metadata": {},
     "output_type": "execute_result"
    }
   ],
   "source": [
    "#make dict with bad lines\n",
    "bad_lines_dict = {\"Linux Kernel 3.0.0 - 'perf_count_sw_cpu_clock' event Denia\": 'https://www.exploit-db.com/exploits/17769%22',\n",
    "            'BSD/x86 - execve(/bin/sh) + Encoded Shellcode (57 bytes)': 'https://www.exploit-db.com/shellcodes/13252'}\n",
    "#create separate dataframe\n",
    "df_bad_lines = pd.DataFrame.from_dict(bad_lines_dict, orient='index')\n",
    "# reset index\n",
    "df_bad_lines = df_bad_lines.reset_index()\n",
    "#add columns\n",
    "df_bad_lines.columns = ['title', 'url']\n",
    "df_bad_lines.head()"
   ]
  },
  {
   "cell_type": "code",
   "execution_count": 10,
   "metadata": {},
   "outputs": [
    {
     "data": {
      "text/plain": [
       "(44093, 2)"
      ]
     },
     "execution_count": 10,
     "metadata": {},
     "output_type": "execute_result"
    }
   ],
   "source": [
    "#combine the two dataframes\n",
    "df_final = pd.concat([df, df_bad_lines])\n",
    "\n",
    "#reset index\n",
    "df_final = df_final.reset_index(drop=True)\n",
    "#sort\n",
    "df_final.sort_index(inplace=True, ascending=True)\n",
    "\n",
    "df_final.shape"
   ]
  },
  {
   "cell_type": "code",
   "execution_count": 11,
   "metadata": {},
   "outputs": [
    {
     "data": {
      "text/html": [
       "<div>\n",
       "<style scoped>\n",
       "    .dataframe tbody tr th:only-of-type {\n",
       "        vertical-align: middle;\n",
       "    }\n",
       "\n",
       "    .dataframe tbody tr th {\n",
       "        vertical-align: top;\n",
       "    }\n",
       "\n",
       "    .dataframe thead th {\n",
       "        text-align: right;\n",
       "    }\n",
       "</style>\n",
       "<table border=\"1\" class=\"dataframe\">\n",
       "  <thead>\n",
       "    <tr style=\"text-align: right;\">\n",
       "      <th></th>\n",
       "      <th>title</th>\n",
       "      <th>url</th>\n",
       "    </tr>\n",
       "  </thead>\n",
       "  <tbody>\n",
       "    <tr>\n",
       "      <th>0</th>\n",
       "      <td>(Bitcoin / Dogecoin) PHP Cloud Mining Script -...</td>\n",
       "      <td>https://www.exploit-db.com/exploits/42531</td>\n",
       "    </tr>\n",
       "    <tr>\n",
       "      <th>1</th>\n",
       "      <td>(Gabriel's FTP Server) Open &amp; Compact FTP Serv...</td>\n",
       "      <td>https://www.exploit-db.com/exploits/12698</td>\n",
       "    </tr>\n",
       "    <tr>\n",
       "      <th>2</th>\n",
       "      <td>(Gabriel's FTP Server) Open &amp; Compact FTP Serv...</td>\n",
       "      <td>https://www.exploit-db.com/exploits/27401</td>\n",
       "    </tr>\n",
       "    <tr>\n",
       "      <th>3</th>\n",
       "      <td>(Gabriel's FTP Server) Open &amp; Compact FTP Serv...</td>\n",
       "      <td>https://www.exploit-db.com/exploits/13932</td>\n",
       "    </tr>\n",
       "    <tr>\n",
       "      <th>4</th>\n",
       "      <td>(Gabriel's FTP Server) Open &amp; Compact FTP Serv...</td>\n",
       "      <td>https://www.exploit-db.com/exploits/12741</td>\n",
       "    </tr>\n",
       "    <tr>\n",
       "      <th>5</th>\n",
       "      <td>(Gabriel's FTP Server) Open &amp; Compact FTPd 1.2...</td>\n",
       "      <td>https://www.exploit-db.com/exploits/11742</td>\n",
       "    </tr>\n",
       "    <tr>\n",
       "      <th>6</th>\n",
       "      <td>(Gabriel's FTP Server) Open &amp; Compact FTPd 1.2...</td>\n",
       "      <td>https://www.exploit-db.com/exploits/11391</td>\n",
       "    </tr>\n",
       "    <tr>\n",
       "      <th>7</th>\n",
       "      <td>(Gabriel's FTP Server) Open &amp; Compact FTPd 1.2...</td>\n",
       "      <td>https://www.exploit-db.com/exploits/11420</td>\n",
       "    </tr>\n",
       "    <tr>\n",
       "      <th>8</th>\n",
       "      <td>(GREEZLE) Global Real Estate Agent Login - Mul...</td>\n",
       "      <td>https://www.exploit-db.com/exploits/34111</td>\n",
       "    </tr>\n",
       "    <tr>\n",
       "      <th>9</th>\n",
       "      <td>(Multiple Products) - 'banner.swf' Cross-Site ...</td>\n",
       "      <td>https://www.exploit-db.com/exploits/33760</td>\n",
       "    </tr>\n",
       "  </tbody>\n",
       "</table>\n",
       "</div>"
      ],
      "text/plain": [
       "                                               title  \\\n",
       "0  (Bitcoin / Dogecoin) PHP Cloud Mining Script -...   \n",
       "1  (Gabriel's FTP Server) Open & Compact FTP Serv...   \n",
       "2  (Gabriel's FTP Server) Open & Compact FTP Serv...   \n",
       "3  (Gabriel's FTP Server) Open & Compact FTP Serv...   \n",
       "4  (Gabriel's FTP Server) Open & Compact FTP Serv...   \n",
       "5  (Gabriel's FTP Server) Open & Compact FTPd 1.2...   \n",
       "6  (Gabriel's FTP Server) Open & Compact FTPd 1.2...   \n",
       "7  (Gabriel's FTP Server) Open & Compact FTPd 1.2...   \n",
       "8  (GREEZLE) Global Real Estate Agent Login - Mul...   \n",
       "9  (Multiple Products) - 'banner.swf' Cross-Site ...   \n",
       "\n",
       "                                          url  \n",
       "0   https://www.exploit-db.com/exploits/42531  \n",
       "1   https://www.exploit-db.com/exploits/12698  \n",
       "2   https://www.exploit-db.com/exploits/27401  \n",
       "3   https://www.exploit-db.com/exploits/13932  \n",
       "4   https://www.exploit-db.com/exploits/12741  \n",
       "5   https://www.exploit-db.com/exploits/11742  \n",
       "6   https://www.exploit-db.com/exploits/11391  \n",
       "7   https://www.exploit-db.com/exploits/11420  \n",
       "8   https://www.exploit-db.com/exploits/34111  \n",
       "9   https://www.exploit-db.com/exploits/33760  "
      ]
     },
     "execution_count": 11,
     "metadata": {},
     "output_type": "execute_result"
    }
   ],
   "source": [
    "#note that titles might apppear duplicate but they are not\n",
    "df_final.head(10)"
   ]
  },
  {
   "cell_type": "code",
   "execution_count": 12,
   "metadata": {},
   "outputs": [],
   "source": [
    "df_final.to_csv(os.path.join('data', 'exploitdb.csv'))"
   ]
  },
  {
   "cell_type": "code",
   "execution_count": null,
   "metadata": {},
   "outputs": [],
   "source": []
  }
 ],
 "metadata": {
  "kernelspec": {
   "display_name": "Python 3",
   "language": "python",
   "name": "python3"
  },
  "language_info": {
   "codemirror_mode": {
    "name": "ipython",
    "version": 3
   },
   "file_extension": ".py",
   "mimetype": "text/x-python",
   "name": "python",
   "nbconvert_exporter": "python",
   "pygments_lexer": "ipython3",
   "version": "3.7.4"
  }
 },
 "nbformat": 4,
 "nbformat_minor": 2
}
