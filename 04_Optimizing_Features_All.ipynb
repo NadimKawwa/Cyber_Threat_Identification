{
 "cells": [
  {
   "cell_type": "markdown",
   "metadata": {},
   "source": [
    "# Pipeline: Heterogenous data\n",
    "\n",
    "This notebook implements a pipeline for heterogeneous data.\n",
    "\n",
    "\n",
    "sources:\n",
    "Sample pipeline for text feature extraction and evaluation: https://scikit-learn.org/stable/auto_examples/model_selection/grid_search_text_feature_extraction.html\n",
    "\n",
    "Metrics and scoring: quantifying the quality of predictions: https://scikit-learn.org/stable/modules/model_evaluation.html#common-cases-predefined-values\n",
    "\n",
    "\n",
    "Demonstration of multi-metric evaluation on cross_val_score and GridSearchCV: https://scikit-learn.org/stable/auto_examples/model_selection/plot_multi_metric_evaluation.html\n",
    "\n",
    "\n",
    "ColumnTransformer for heterogeneous data: \n",
    "https://scikit-learn.org/stable/modules/compose.html#columntransformer-for-heterogeneous-data\n",
    "\n",
    "\n",
    "Column Transformer with Heterogeneous Data Sources: https://scikit-learn.org/stable/auto_examples/compose/plot_column_transformer.html"
   ]
  },
  {
   "cell_type": "code",
   "execution_count": 1,
   "metadata": {},
   "outputs": [],
   "source": [
    "import pandas as pd\n",
    "import numpy as np\n",
    "import glob\n",
    "import os\n",
    "import munge_help\n",
    "from time import time\n",
    "\n",
    "import matplotlib.pyplot as plt\n",
    "%matplotlib inline\n",
    "\n",
    "from sklearn.feature_extraction.text import TfidfVectorizer\n",
    "from sklearn.model_selection import GridSearchCV\n",
    "from sklearn.pipeline import Pipeline\n",
    "from sklearn.compose import ColumnTransformer, make_column_selector, make_column_transformer\n",
    "from sklearn.preprocessing import MinMaxScaler\n",
    "\n",
    "\n",
    "import utils\n",
    "\n",
    "import xgboost as xgb"
   ]
  },
  {
   "cell_type": "markdown",
   "metadata": {},
   "source": [
    "### Load Data"
   ]
  },
  {
   "cell_type": "code",
   "execution_count": 2,
   "metadata": {},
   "outputs": [],
   "source": [
    "X_train = utils.load_obj(path=os.path.join('data_processed', 'X_train.pkl'))\n",
    "y_train = utils.load_obj(path=os.path.join('data_processed', 'y_train.pkl'))"
   ]
  },
  {
   "cell_type": "code",
   "execution_count": 3,
   "metadata": {},
   "outputs": [
    {
     "data": {
      "text/plain": [
       "(102492, 112)"
      ]
     },
     "execution_count": 3,
     "metadata": {},
     "output_type": "execute_result"
    }
   ],
   "source": [
    "X_train.shape"
   ]
  },
  {
   "cell_type": "code",
   "execution_count": 4,
   "metadata": {},
   "outputs": [
    {
     "data": {
      "text/plain": [
       "(102492, 111)"
      ]
     },
     "execution_count": 4,
     "metadata": {},
     "output_type": "execute_result"
    }
   ],
   "source": [
    "#see how many columns are numbers\n",
    "X_train.select_dtypes(np.number).shape"
   ]
  },
  {
   "cell_type": "code",
   "execution_count": 5,
   "metadata": {},
   "outputs": [
    {
     "data": {
      "text/plain": [
       "description               object\n",
       "attackComplexity_V3        int64\n",
       "privilegesRequired_V3      int64\n",
       "userInteraction_V3         int64\n",
       "scope_V3                   int64\n",
       "                          ...   \n",
       "Type_Windows_x86-64      float64\n",
       "Type_XML                 float64\n",
       "Type_iOS                 float64\n",
       "Type_macOS               float64\n",
       "Type_watchOS             float64\n",
       "Length: 112, dtype: object"
      ]
     },
     "execution_count": 5,
     "metadata": {},
     "output_type": "execute_result"
    }
   ],
   "source": [
    "X_train.dtypes"
   ]
  },
  {
   "cell_type": "code",
   "execution_count": 6,
   "metadata": {},
   "outputs": [
    {
     "ename": "ModuleNotFoundError",
     "evalue": "No module named 'numpy.core._multiarray_umath'",
     "output_type": "error",
     "traceback": [
      "\u001b[0;31m---------------------------------------------------------------------------\u001b[0m",
      "\u001b[0;31mModuleNotFoundError\u001b[0m                       Traceback (most recent call last)",
      "\u001b[0;31mModuleNotFoundError\u001b[0m: No module named 'numpy.core._multiarray_umath'"
     ]
    },
    {
     "data": {
      "text/plain": [
       "88.82646801051709"
      ]
     },
     "execution_count": 6,
     "metadata": {},
     "output_type": "execute_result"
    }
   ],
   "source": [
    "#Control the balance of positive and negative weights, useful for unbalanced classes\n",
    "#A typical value to consider:\n",
    "# sum(negative instances) / sum(positive instances)\n",
    "scale_pos_weight = float(np.sum(y_train == 0)) / np.sum(y_train == 1)\n",
    "\n",
    "scale_pos_weight"
   ]
  },
  {
   "cell_type": "code",
   "execution_count": 7,
   "metadata": {},
   "outputs": [
    {
     "data": {
      "text/plain": [
       "Pipeline(steps=[('preprocessor',\n",
       "                 ColumnTransformer(n_jobs=-1, remainder=MinMaxScaler(),\n",
       "                                   transformers=[('tfidfvect',\n",
       "                                                  TfidfVectorizer(ngram_range=(1,\n",
       "                                                                               3)),\n",
       "                                                  'description')])),\n",
       "                ('clf',\n",
       "                 XGBClassifier(eta=0.9, num_boost_round=15,\n",
       "                               scale_pos_weight=88.82646801051709))])"
      ]
     },
     "execution_count": 7,
     "metadata": {},
     "output_type": "execute_result"
    }
   ],
   "source": [
    "#define preprocessor\n",
    "preprocessor = ColumnTransformer([('tfidfvect',\n",
    "                           TfidfVectorizer(ngram_range=(1,3)), \n",
    "                           'description')\n",
    "                         ],\n",
    "                         remainder=MinMaxScaler(),\n",
    "                         n_jobs=-1\n",
    "                        )\n",
    "\n",
    "#define pipeline\n",
    "pipeline = Pipeline(steps=[('preprocessor', preprocessor),\n",
    "                      ('clf', xgb.XGBClassifier(n_estimators=100,\n",
    "                                                scale_pos_weight = scale_pos_weight,\n",
    "                                                eta=0.9,\n",
    "                                                num_boost_round=15,\n",
    "                                               )\n",
    "                      )\n",
    "                          ])\n",
    "pipeline"
   ]
  },
  {
   "cell_type": "code",
   "execution_count": 8,
   "metadata": {
    "scrolled": false
   },
   "outputs": [
    {
     "name": "stdout",
     "output_type": "stream",
     "text": [
      "Fitting 5 folds for each of 32 candidates, totalling 160 fits\n"
     ]
    },
    {
     "name": "stderr",
     "output_type": "stream",
     "text": [
      "[Parallel(n_jobs=-1)]: Using backend LokyBackend with 4 concurrent workers.\n",
      "[Parallel(n_jobs=-1)]: Done   5 tasks      | elapsed:  9.6min\n",
      "[Parallel(n_jobs=-1)]: Done  10 tasks      | elapsed: 14.3min\n",
      "[Parallel(n_jobs=-1)]: Done  17 tasks      | elapsed: 24.3min\n",
      "[Parallel(n_jobs=-1)]: Done  24 tasks      | elapsed: 30.2min\n",
      "[Parallel(n_jobs=-1)]: Done  33 tasks      | elapsed: 42.5min\n",
      "[Parallel(n_jobs=-1)]: Done  42 tasks      | elapsed: 52.5min\n",
      "[Parallel(n_jobs=-1)]: Done  53 tasks      | elapsed: 67.9min\n",
      "[Parallel(n_jobs=-1)]: Done  64 tasks      | elapsed: 78.2min\n",
      "[Parallel(n_jobs=-1)]: Done  77 tasks      | elapsed: 95.2min\n",
      "[Parallel(n_jobs=-1)]: Done  90 tasks      | elapsed: 119.6min\n",
      "[Parallel(n_jobs=-1)]: Done 105 tasks      | elapsed: 147.9min\n",
      "[Parallel(n_jobs=-1)]: Done 120 tasks      | elapsed: 168.9min\n",
      "[Parallel(n_jobs=-1)]: Done 137 tasks      | elapsed: 203.4min\n",
      "[Parallel(n_jobs=-1)]: Done 160 out of 160 | elapsed: 241.1min finished\n"
     ]
    },
    {
     "name": "stdout",
     "output_type": "stream",
     "text": [
      "done in 14650.303s\n"
     ]
    }
   ],
   "source": [
    "#params for grird search\n",
    "#note the double __ to get to nested elements\n",
    "parameters = {\n",
    "    'preprocessor__tfidfvect__max_df': (0.8, 0.9),\n",
    "    'preprocessor__tfidfvect__min_df': (0.1, 0.15),\n",
    "    'preprocessor__tfidfvect__max_features': (200, 250),\n",
    "    'clf__max_depth': (6, 12), #Maximum depth of a tree. Increasing this value will make the model more complex and more likely to overfit\n",
    "    'clf__subsample': (0.5, 0.9) #take part of train data to avoid overfitting\n",
    "\n",
    "}\n",
    "\n",
    "#instantiate grid search\n",
    "grid_search = GridSearchCV(pipeline, \n",
    "                           parameters, \n",
    "                           n_jobs=-1, \n",
    "                           verbose=10, #lots of details\n",
    "                           scoring=['roc_auc', 'f1'],\n",
    "                           refit='roc_auc', \n",
    "                           return_train_score=True\n",
    "                          )\n",
    "\n",
    "# start the timer\n",
    "t0 = time()\n",
    "\n",
    "grid_search.fit(X_train, y_train)\n",
    "\n",
    "#time to do it\n",
    "print(\"done in %0.3fs\" % (time() - t0))"
   ]
  },
  {
   "cell_type": "code",
   "execution_count": 9,
   "metadata": {},
   "outputs": [
    {
     "name": "stdout",
     "output_type": "stream",
     "text": [
      "Best score: 0.894\n",
      "\n",
      "\n",
      "####################\n",
      "\n",
      "\n",
      "Best parameters set:\n",
      "\tclf__max_depth: 6\n",
      "\tclf__subsample: 0.5\n",
      "\tpreprocessor__tfidfvect__max_df: 0.8\n",
      "\tpreprocessor__tfidfvect__max_features: 200\n",
      "\tpreprocessor__tfidfvect__min_df: 0.1\n"
     ]
    }
   ],
   "source": [
    "print(\"Best score: %0.3f\" % grid_search.best_score_)\n",
    "print('\\n')\n",
    "print(20*'#')\n",
    "print('\\n')\n",
    "print(\"Best parameters set:\")\n",
    "best_parameters = grid_search.best_estimator_.get_params()\n",
    "for param_name in sorted(parameters.keys()):\n",
    "    print(\"\\t%s: %r\" % (param_name, best_parameters[param_name]))"
   ]
  },
  {
   "cell_type": "code",
   "execution_count": 10,
   "metadata": {},
   "outputs": [],
   "source": [
    "utils.save_obj(obj = grid_search,\n",
    "               path = os.path.join('artifacts',\n",
    "                                   'grid_search_all_features_2020-11-29.pkl'))"
   ]
  },
  {
   "cell_type": "code",
   "execution_count": null,
   "metadata": {},
   "outputs": [],
   "source": []
  },
  {
   "cell_type": "code",
   "execution_count": null,
   "metadata": {},
   "outputs": [],
   "source": []
  },
  {
   "cell_type": "code",
   "execution_count": null,
   "metadata": {},
   "outputs": [],
   "source": []
  },
  {
   "cell_type": "code",
   "execution_count": null,
   "metadata": {},
   "outputs": [],
   "source": []
  },
  {
   "cell_type": "code",
   "execution_count": null,
   "metadata": {},
   "outputs": [],
   "source": []
  },
  {
   "cell_type": "code",
   "execution_count": null,
   "metadata": {},
   "outputs": [],
   "source": []
  },
  {
   "cell_type": "code",
   "execution_count": null,
   "metadata": {},
   "outputs": [],
   "source": []
  },
  {
   "cell_type": "code",
   "execution_count": null,
   "metadata": {},
   "outputs": [],
   "source": []
  },
  {
   "cell_type": "code",
   "execution_count": null,
   "metadata": {},
   "outputs": [],
   "source": []
  }
 ],
 "metadata": {
  "kernelspec": {
   "display_name": "Python 3",
   "language": "python",
   "name": "python3"
  },
  "language_info": {
   "codemirror_mode": {
    "name": "ipython",
    "version": 3
   },
   "file_extension": ".py",
   "mimetype": "text/x-python",
   "name": "python",
   "nbconvert_exporter": "python",
   "pygments_lexer": "ipython3",
   "version": "3.7.4"
  }
 },
 "nbformat": 4,
 "nbformat_minor": 2
}
