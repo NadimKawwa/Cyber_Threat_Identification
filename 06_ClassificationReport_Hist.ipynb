{
 "cells": [
  {
   "cell_type": "code",
   "execution_count": 1,
   "metadata": {},
   "outputs": [],
   "source": [
    "import pandas as pd\n",
    "import numpy as np\n",
    "import glob\n",
    "import os\n",
    "import munge_help\n",
    "from time import time\n",
    "\n",
    "import matplotlib.pyplot as plt\n",
    "%matplotlib inline\n",
    "\n",
    "from sklearn.model_selection import train_test_split\n",
    "from sklearn.feature_extraction.text import TfidfVectorizer\n",
    "from sklearn.model_selection import GridSearchCV\n",
    "from sklearn.pipeline import Pipeline\n",
    "from sklearn.compose import ColumnTransformer, make_column_selector, make_column_transformer\n",
    "from sklearn.preprocessing import MinMaxScaler\n",
    "from sklearn.metrics import confusion_matrix,plot_roc_curve,plot_precision_recall_curve,plot_confusion_matrix, classification_report\n",
    "\n",
    "from tqdm import tqdm\n",
    "\n",
    "\n",
    "import utils\n",
    "\n",
    "import xgboost as xgb"
   ]
  },
  {
   "cell_type": "markdown",
   "metadata": {},
   "source": [
    "# Load Data"
   ]
  },
  {
   "cell_type": "code",
   "execution_count": 2,
   "metadata": {},
   "outputs": [],
   "source": [
    "metrics_paths = glob.glob('classification_dicts/*')"
   ]
  },
  {
   "cell_type": "code",
   "execution_count": 8,
   "metadata": {},
   "outputs": [
    {
     "name": "stdout",
     "output_type": "stream",
     "text": [
      "Total number of trials = 2201\n"
     ]
    }
   ],
   "source": [
    "num_boot = len(metrics_paths)\n",
    "print(\"Total number of trials = {}\".format(num_boot))"
   ]
  },
  {
   "cell_type": "code",
   "execution_count": 3,
   "metadata": {},
   "outputs": [],
   "source": [
    "recall_arr = []\n",
    "precision_arr = []\n",
    "f1_arr = []\n",
    "\n",
    "#loop over each path\n",
    "for path in metrics_paths:\n",
    "    #load the dict\n",
    "    metrics_dict = utils.load_obj(path)\n",
    "    \n",
    "    #append the arrays\n",
    "    recall_arr.append(metrics_dict['1']['recall'])\n",
    "    precision_arr.append(metrics_dict['1']['precision']) \n",
    "    f1_arr.append(metrics_dict['1']['f1-score'])\n"
   ]
  },
  {
   "cell_type": "code",
   "execution_count": 4,
   "metadata": {},
   "outputs": [
    {
     "data": {
      "text/plain": [
       "array([0.14285714, 0.24264706])"
      ]
     },
     "execution_count": 4,
     "metadata": {},
     "output_type": "execute_result"
    }
   ],
   "source": [
    "#the numpy way\n",
    "np.percentile(precision_arr, [2.5, 97.5])"
   ]
  },
  {
   "cell_type": "code",
   "execution_count": 5,
   "metadata": {},
   "outputs": [
    {
     "data": {
      "text/plain": [
       "array([0.31666667, 0.56666667])"
      ]
     },
     "execution_count": 5,
     "metadata": {},
     "output_type": "execute_result"
    }
   ],
   "source": [
    "np.percentile(recall_arr, [2.5, 97.5])"
   ]
  },
  {
   "cell_type": "code",
   "execution_count": 6,
   "metadata": {},
   "outputs": [
    {
     "data": {
      "text/plain": [
       "array([0.19791667, 0.33653846])"
      ]
     },
     "execution_count": 6,
     "metadata": {},
     "output_type": "execute_result"
    }
   ],
   "source": [
    "np.percentile(f1_arr, [2.5, 97.5])"
   ]
  },
  {
   "cell_type": "code",
   "execution_count": 19,
   "metadata": {},
   "outputs": [
    {
     "data": {
      "image/png": "[encoded data removed]",
      "text/plain": [
       "<Figure size 432x288 with 1 Axes>"
      ]
     },
     "metadata": {
      "needs_background": "light"
     },
     "output_type": "display_data"
    }
   ],
   "source": [
    "plt.hist(precision_arr, bins=np.arange(0, 1.1, 0.05),\n",
    "         label='Precision', \n",
    "         color='red',\n",
    "         alpha=0.4)\n",
    "\n",
    "\n",
    "plt.hist(recall_arr, bins=np.arange(0, 1.1, 0.05),\n",
    "         label='Recall',\n",
    "         alpha=0.4,\n",
    "         color='green')\n",
    "\n",
    "\n",
    "plt.hist(f1_arr, bins=np.arange(0, 1.1, 0.05),\n",
    "         alpha=0.4,\n",
    "         label='F1',\n",
    "         color='blue')\n",
    "\n",
    "plt.legend()\n",
    "\n",
    "plt.title(\"Distribution of Precison & Recall for 2200 Bootstraps\".format(num_boot))\n",
    "plt.savefig(os.path.join('plots', 'precision_recall_hist.png'))"
   ]
  },
  {
   "cell_type": "code",
   "execution_count": null,
   "metadata": {},
   "outputs": [],
   "source": []
  },
  {
   "cell_type": "code",
   "execution_count": null,
   "metadata": {},
   "outputs": [],
   "source": []
  },
  {
   "cell_type": "code",
   "execution_count": null,
   "metadata": {},
   "outputs": [],
   "source": []
  },
  {
   "cell_type": "code",
   "execution_count": null,
   "metadata": {},
   "outputs": [],
   "source": []
  }
 ],
 "metadata": {
  "kernelspec": {
   "display_name": "Python 3",
   "language": "python",
   "name": "python3"
  },
  "language_info": {
   "codemirror_mode": {
    "name": "ipython",
    "version": 3
   },
   "file_extension": ".py",
   "mimetype": "text/x-python",
   "name": "python",
   "nbconvert_exporter": "python",
   "pygments_lexer": "ipython3",
   "version": "3.7.4"
  }
 },
 "nbformat": 4,
 "nbformat_minor": 2
}
