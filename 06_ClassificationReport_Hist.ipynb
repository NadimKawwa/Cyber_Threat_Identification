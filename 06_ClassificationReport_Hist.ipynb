{
 "cells": [
  {
   "cell_type": "code",
   "execution_count": 26,
   "metadata": {},
   "outputs": [],
   "source": [
    "import pandas as pd\n",
    "import numpy as np\n",
    "import glob\n",
    "import os\n",
    "import munge_help\n",
    "from time import time\n",
    "\n",
    "import matplotlib.pyplot as plt\n",
    "%matplotlib inline\n",
    "\n",
    "from sklearn.preprocessing import MinMaxScaler\n",
    "from sklearn.metrics import confusion_matrix,plot_roc_curve,plot_precision_recall_curve,plot_confusion_matrix, classification_report\n",
    "\n",
    "\n",
    "import utils\n",
    "\n",
    "import xgboost as xgb"
   ]
  },
  {
   "cell_type": "code",
   "execution_count": 2,
   "metadata": {},
   "outputs": [],
   "source": [
    "#load test data\n",
    "X_test = utils.load_obj(path=os.path.join('data_processed', 'X_test.pkl'))\n",
    "y_test = utils.load_obj(path=os.path.join('data_processed', 'y_test.pkl'))\n",
    "\n",
    "#get path of f1 (balanced precision vs recall)\n",
    "path_f1 = os.path.join('artifacts', 'grid_search_2020-11-29_f1.pkl')\n",
    "#load the grid search objects\n",
    "grid_f1 = utils.load_obj(path_f1)"
   ]
  },
  {
   "cell_type": "code",
   "execution_count": 3,
   "metadata": {},
   "outputs": [],
   "source": [
    "# f1_arr = []\n",
    "# precision_arr = []\n",
    "# recall_arr = []\n",
    "\n",
    "# for _ in range(1000):\n",
    "#     #get random samples from y_test\n",
    "#     y_sampled = y_test.sample(frac=0.8,\n",
    "#                               replace=True)\n",
    "#     #match the same indeces\n",
    "#     X_sampled = X_test.loc[y_sampled.index].copy()\n",
    "    \n",
    "#     #make a prediction from sampled data\n",
    "#     y_pred = grid_f1.predict(X_sampled)\n",
    "    \n",
    "#     report_dict = classification_report(y_sampled,\n",
    "#                                         y_pred, \n",
    "#                                         output_dict=True)\n",
    "    \n",
    "#     #add the metrics to the arrays\n",
    "#     f1_arr.append(report_dict['1']['f1-score'])\n",
    "#     precision_arr.append(report_dict['1']['precision'])\n",
    "#     recall_arr.append(report_dict['1']['recall'])\n",
    "\n",
    "\n",
    "# #save for later use\n",
    "# utils.save_obj(obj = f1_arr, path=os.path.join('artifacts', 'f1_arr_samples.pkl'))\n",
    "# utils.save_obj(obj = precision_arr, path=os.path.join('artifacts', 'precision_arr_samples.pkl'))\n",
    "# utils.save_obj(obj = recall_arr, path=os.path.join('artifacts', 'recall_arr_samples.pkl'))"
   ]
  },
  {
   "cell_type": "code",
   "execution_count": 4,
   "metadata": {},
   "outputs": [],
   "source": [
    "f1_arr = utils.load_obj(path=os.path.join('artifacts', 'f1_arr_samples.pkl'))\n",
    "precision_arr = utils.load_obj(path=os.path.join('artifacts', 'precision_arr_samples.pkl'))\n",
    "recall_arr = utils.load_obj(path=os.path.join('artifacts', 'recall_arr_samples.pkl'))"
   ]
  },
  {
   "cell_type": "code",
   "execution_count": 22,
   "metadata": {},
   "outputs": [
    {
     "name": "stdout",
     "output_type": "stream",
     "text": [
      "precision_mean = 0.17967964047956678\n",
      "precision_upper = 0.25057197926705715\n",
      "precision_lower = 0.1087873016920764\n",
      "recall_mean = 0.4209469072212416\n",
      "recall_upper = 0.5644880741834016\n",
      "recall_lower = 0.2774057402590816\n"
     ]
    }
   ],
   "source": [
    "#the non scipy method\n",
    "\n",
    "precision_mean = np.mean(precision_arr)\n",
    "precision_std = np.std(precision_arr)\n",
    "precision_upper = precision_mean + 2*precision_std\n",
    "precision_lower = precision_mean - 2*precision_std\n",
    "\n",
    "print(\"precision_mean = {}\\nprecision_upper = {}\\nprecision_lower = {}\".format(precision_mean,\n",
    "                                                                                  precision_upper,\n",
    "                                                                                  precision_lower))\n",
    "\n",
    "recall_mean = np.mean(recall_arr)\n",
    "recall_std = np.std(recall_arr)\n",
    "recall_upper = recall_mean + 2*recall_std\n",
    "recall_lower = recall_mean - 2*recall_std\n",
    "\n",
    "print(\"recall_mean = {}\\nrecall_upper = {}\\nrecall_lower = {}\".format(recall_mean,\n",
    "                                                                      recall_upper,\n",
    "                                                                      recall_lower))"
   ]
  },
  {
   "cell_type": "code",
   "execution_count": 37,
   "metadata": {},
   "outputs": [
    {
     "data": {
      "text/plain": [
       "array([0.12380952, 0.23915738])"
      ]
     },
     "execution_count": 37,
     "metadata": {},
     "output_type": "execute_result"
    }
   ],
   "source": [
    "#the numpy way\n",
    "np.percentile(precision_arr, [5, 95])"
   ]
  },
  {
   "cell_type": "code",
   "execution_count": 38,
   "metadata": {},
   "outputs": [
    {
     "data": {
      "text/plain": [
       "array([0.30640681, 0.53846154])"
      ]
     },
     "execution_count": 38,
     "metadata": {},
     "output_type": "execute_result"
    }
   ],
   "source": [
    "np.percentile(recall_arr, [5, 95])"
   ]
  },
  {
   "cell_type": "code",
   "execution_count": 33,
   "metadata": {},
   "outputs": [
    {
     "data": {
      "image/png": "[encoded data removed]",
      "text/plain": [
       "<Figure size 432x288 with 1 Axes>"
      ]
     },
     "metadata": {
      "needs_background": "light"
     },
     "output_type": "display_data"
    }
   ],
   "source": [
    "\n",
    "plt.hist(precision_arr, bins=np.arange(0, 1.1, 0.05),\n",
    "         label='Precision', \n",
    "         color='red',\n",
    "         alpha=0.5)\n",
    "\n",
    "\n",
    "\n",
    "# plt.axvline(precision_upper, color='red')\n",
    "# plt.axvline(precision_lower, color='red')\n",
    "\n",
    "plt.hist(recall_arr, bins=np.arange(0, 1.1, 0.05),\n",
    "         label='Recall',\n",
    "         alpha=0.5,\n",
    "         color='green')\n",
    "# plt.axvline(recall_upper, color='yellow')\n",
    "# plt.axvline(recall_lower, color='yellow')\n",
    "\n",
    "plt.legend()\n",
    "\n",
    "plt.title(\"Distribution of Precison & Recall\")\n",
    "plt.savefig(os.path.join('plots', 'precision_recall_hist.png'))"
   ]
  },
  {
   "cell_type": "code",
   "execution_count": 16,
   "metadata": {},
   "outputs": [
    {
     "data": {
      "text/plain": [
       "1000"
      ]
     },
     "execution_count": 16,
     "metadata": {},
     "output_type": "execute_result"
    }
   ],
   "source": [
    "np"
   ]
  },
  {
   "cell_type": "code",
   "execution_count": 17,
   "metadata": {},
   "outputs": [
    {
     "data": {
      "text/plain": [
       "1000"
      ]
     },
     "execution_count": 17,
     "metadata": {},
     "output_type": "execute_result"
    }
   ],
   "source": [
    "len(recall_arr)"
   ]
  },
  {
   "cell_type": "code",
   "execution_count": 27,
   "metadata": {},
   "outputs": [],
   "source": [
    "import scipy.stats\n",
    "\n",
    "\n",
    "def mean_confidence_interval(data, confidence=0.95):\n",
    "    \"\"\"\n",
    "    source: https://stackoverflow.com/questions/15033511/compute-a-confidence-interval-from-sample-data\n",
    "    \"\"\"\n",
    "    a = 1.0 * np.array(data)\n",
    "    n = len(a)\n",
    "    m, se = np.mean(a), scipy.stats.sem(a)\n",
    "    h = se * scipy.stats.t.ppf((1 + confidence) / 2., n-1)\n",
    "    return m, m-h, m+h"
   ]
  },
  {
   "cell_type": "code",
   "execution_count": 34,
   "metadata": {},
   "outputs": [
    {
     "data": {
      "text/plain": [
       "(0.17967964047956678, 0.17747893895464964, 0.1818803420044839)"
      ]
     },
     "execution_count": 34,
     "metadata": {},
     "output_type": "execute_result"
    }
   ],
   "source": [
    "mean_confidence_interval(precision_arr)"
   ]
  },
  {
   "cell_type": "code",
   "execution_count": null,
   "metadata": {},
   "outputs": [],
   "source": [
    "mean_confidence_interval(recall_arr)"
   ]
  },
  {
   "cell_type": "code",
   "execution_count": null,
   "metadata": {},
   "outputs": [],
   "source": []
  }
 ],
 "metadata": {
  "kernelspec": {
   "display_name": "Python 3",
   "language": "python",
   "name": "python3"
  },
  "language_info": {
   "codemirror_mode": {
    "name": "ipython",
    "version": 3
   },
   "file_extension": ".py",
   "mimetype": "text/x-python",
   "name": "python",
   "nbconvert_exporter": "python",
   "pygments_lexer": "ipython3",
   "version": "3.7.4"
  }
 },
 "nbformat": 4,
 "nbformat_minor": 2
}
