{
 "cells": [
  {
   "cell_type": "code",
   "execution_count": 1,
   "metadata": {},
   "outputs": [],
   "source": [
    "import pandas as pd\n",
    "import numpy as np\n",
    "import glob\n",
    "import os\n",
    "import munge_help\n",
    "from time import time\n",
    "\n",
    "import matplotlib.pyplot as plt\n",
    "%matplotlib inline\n",
    "\n",
    "from sklearn.feature_extraction.text import TfidfVectorizer\n",
    "from sklearn.model_selection import GridSearchCV\n",
    "from sklearn.pipeline import Pipeline\n",
    "from sklearn.compose import ColumnTransformer, make_column_selector, make_column_transformer\n",
    "from sklearn.preprocessing import MinMaxScaler\n",
    "from sklearn.metrics import confusion_matrix,plot_roc_curve,plot_precision_recall_curve,plot_confusion_matrix, classification_report\n",
    "\n",
    "\n",
    "import utils\n",
    "\n",
    "import xgboost as xgb"
   ]
  },
  {
   "cell_type": "markdown",
   "metadata": {},
   "source": [
    "## Loading Data + Classifiers"
   ]
  },
  {
   "cell_type": "code",
   "execution_count": 2,
   "metadata": {},
   "outputs": [],
   "source": [
    "#processed data\n",
    "X_train = utils.load_obj(path=os.path.join('data_processed', 'X_train.pkl'))\n",
    "y_train = utils.load_obj(path=os.path.join('data_processed', 'y_train.pkl'))\n",
    "X_test = utils.load_obj(path=os.path.join('data_processed', 'X_test.pkl'))\n",
    "y_test = utils.load_obj(path=os.path.join('data_processed', 'y_test.pkl'))\n",
    "\n",
    "\n",
    "\n",
    "\n",
    "#paths to download machine learning models\n",
    "path_f1 = os.path.join('artifacts', 'grid_search_2020-11-29_f1.pkl')\n",
    "path_precision = os.path.join('artifacts', 'grid_search_2020-11-29_precision.pkl')\n",
    "path_recall = os.path.join('artifacts', 'grid_search_2020-11-29_recall.pkl')\n",
    "path_roc = os.path.join('artifacts', 'grid_search_2020-11-29_roc_auc.pkl')\n",
    "path_ap = os.path.join('artifacts', 'grid_search_2020-11-29_average_precision.pkl')"
   ]
  },
  {
   "cell_type": "code",
   "execution_count": 3,
   "metadata": {},
   "outputs": [],
   "source": [
    "#load the grid search objects\n",
    "grid_f1 = utils.load_obj(path_f1)\n",
    "grid_precision = utils.load_obj(path_precision)\n",
    "grid_recall = utils.load_obj(path_recall)\n",
    "grid_roc = utils.load_obj(path_roc)\n",
    "grid_ap = utils.load_obj(path_ap)"
   ]
  },
  {
   "cell_type": "markdown",
   "metadata": {},
   "source": [
    "## Best Score By Classifier \n",
    "\n",
    "\n",
    "The section below shows the best scores for that particular metric. We also want to see if the grid search prioritizes different hyperparameters based on the classification metric."
   ]
  },
  {
   "cell_type": "code",
   "execution_count": 4,
   "metadata": {},
   "outputs": [],
   "source": [
    "parameters = {\n",
    "    'preprocessor__tfidfvect__max_df': (0.8, 0.9),\n",
    "    'preprocessor__tfidfvect__min_df': (0.1, 0.15),\n",
    "    'preprocessor__tfidfvect__max_features': (200, 250),\n",
    "    'clf__max_depth': (6, 12), #Maximum depth of a tree. Increasing this value will make the model more complex and more likely to overfit\n",
    "    'clf__subsample': (0.5, 0.9) #take part of train data to avoid overfitting\n",
    "\n",
    "}"
   ]
  },
  {
   "cell_type": "code",
   "execution_count": 5,
   "metadata": {},
   "outputs": [],
   "source": [
    "def grid_report(grid_search, parameters):\n",
    "    print(\"Best score: %0.3f\" % grid_search.best_score_)\n",
    "    print('\\n')\n",
    "    print(20*'#')\n",
    "    print('\\n')\n",
    "    print(\"Best parameters set:\")\n",
    "    best_parameters = grid_search.best_estimator_.get_params()\n",
    "    for param_name in sorted(parameters.keys()):\n",
    "        print(\"\\t%s: %r\" % (param_name, best_parameters[param_name]))"
   ]
  },
  {
   "cell_type": "markdown",
   "metadata": {},
   "source": [
    "#### F1"
   ]
  },
  {
   "cell_type": "code",
   "execution_count": 6,
   "metadata": {},
   "outputs": [
    {
     "name": "stdout",
     "output_type": "stream",
     "text": [
      "Best score: 0.282\n",
      "\n",
      "\n",
      "####################\n",
      "\n",
      "\n",
      "Best parameters set:\n",
      "\tclf__max_depth: 12\n",
      "\tclf__subsample: 0.9\n",
      "\tpreprocessor__tfidfvect__max_df: 0.9\n",
      "\tpreprocessor__tfidfvect__max_features: 200\n",
      "\tpreprocessor__tfidfvect__min_df: 0.1\n"
     ]
    }
   ],
   "source": [
    "grid_report(grid_f1, parameters)"
   ]
  },
  {
   "cell_type": "code",
   "execution_count": 7,
   "metadata": {},
   "outputs": [],
   "source": [
    "y_f1 = grid_f1.predict(X_test)"
   ]
  },
  {
   "cell_type": "markdown",
   "metadata": {},
   "source": [
    "#### Precision"
   ]
  },
  {
   "cell_type": "code",
   "execution_count": 8,
   "metadata": {},
   "outputs": [
    {
     "name": "stdout",
     "output_type": "stream",
     "text": [
      "Best score: 0.212\n",
      "\n",
      "\n",
      "####################\n",
      "\n",
      "\n",
      "Best parameters set:\n",
      "\tclf__max_depth: 12\n",
      "\tclf__subsample: 0.9\n",
      "\tpreprocessor__tfidfvect__max_df: 0.9\n",
      "\tpreprocessor__tfidfvect__max_features: 200\n",
      "\tpreprocessor__tfidfvect__min_df: 0.1\n"
     ]
    }
   ],
   "source": [
    "grid_report(grid_precision, parameters)"
   ]
  },
  {
   "cell_type": "code",
   "execution_count": 9,
   "metadata": {},
   "outputs": [],
   "source": [
    "y_precision = grid_precision.predict(X_test)"
   ]
  },
  {
   "cell_type": "markdown",
   "metadata": {},
   "source": [
    "#### Average Precision"
   ]
  },
  {
   "cell_type": "code",
   "execution_count": 10,
   "metadata": {},
   "outputs": [
    {
     "name": "stdout",
     "output_type": "stream",
     "text": [
      "Best score: 0.234\n",
      "\n",
      "\n",
      "####################\n",
      "\n",
      "\n",
      "Best parameters set:\n",
      "\tclf__max_depth: 6\n",
      "\tclf__subsample: 0.9\n",
      "\tpreprocessor__tfidfvect__max_df: 0.8\n",
      "\tpreprocessor__tfidfvect__max_features: 200\n",
      "\tpreprocessor__tfidfvect__min_df: 0.15\n"
     ]
    }
   ],
   "source": [
    "grid_report(grid_ap, parameters)"
   ]
  },
  {
   "cell_type": "code",
   "execution_count": 11,
   "metadata": {},
   "outputs": [],
   "source": [
    "y_ap = grid_ap.predict(X_test)"
   ]
  },
  {
   "cell_type": "markdown",
   "metadata": {},
   "source": [
    "#### Recall"
   ]
  },
  {
   "cell_type": "code",
   "execution_count": 12,
   "metadata": {},
   "outputs": [
    {
     "name": "stdout",
     "output_type": "stream",
     "text": [
      "Best score: 0.659\n",
      "\n",
      "\n",
      "####################\n",
      "\n",
      "\n",
      "Best parameters set:\n",
      "\tclf__max_depth: 6\n",
      "\tclf__subsample: 0.9\n",
      "\tpreprocessor__tfidfvect__max_df: 0.8\n",
      "\tpreprocessor__tfidfvect__max_features: 200\n",
      "\tpreprocessor__tfidfvect__min_df: 0.15\n"
     ]
    }
   ],
   "source": [
    "grid_report(grid_recall, parameters)"
   ]
  },
  {
   "cell_type": "code",
   "execution_count": 13,
   "metadata": {},
   "outputs": [],
   "source": [
    "y_recall = grid_recall.predict(X_test)"
   ]
  },
  {
   "cell_type": "markdown",
   "metadata": {},
   "source": [
    "### roc"
   ]
  },
  {
   "cell_type": "code",
   "execution_count": 14,
   "metadata": {},
   "outputs": [
    {
     "name": "stdout",
     "output_type": "stream",
     "text": [
      "Best score: 0.894\n",
      "\n",
      "\n",
      "####################\n",
      "\n",
      "\n",
      "Best parameters set:\n",
      "\tclf__max_depth: 6\n",
      "\tclf__subsample: 0.5\n",
      "\tpreprocessor__tfidfvect__max_df: 0.8\n",
      "\tpreprocessor__tfidfvect__max_features: 200\n",
      "\tpreprocessor__tfidfvect__min_df: 0.1\n"
     ]
    }
   ],
   "source": [
    "grid_report(grid_roc, parameters)"
   ]
  },
  {
   "cell_type": "code",
   "execution_count": 15,
   "metadata": {},
   "outputs": [],
   "source": [
    "y_roc = grid_roc.predict(X_test)"
   ]
  },
  {
   "cell_type": "markdown",
   "metadata": {},
   "source": [
    "## Plotting"
   ]
  },
  {
   "cell_type": "markdown",
   "metadata": {},
   "source": [
    "### ROC Curve"
   ]
  },
  {
   "cell_type": "code",
   "execution_count": 16,
   "metadata": {},
   "outputs": [
    {
     "data": {
      "text/plain": [
       "Text(0.5, 1.0, 'ROC Curve For XGB Grid Search Metrics')"
      ]
     },
     "execution_count": 16,
     "metadata": {},
     "output_type": "execute_result"
    },
    {
     "data": {
      "image/png": "[encoded data removed]",
      "text/plain": [
       "<Figure size 576x576 with 1 Axes>"
      ]
     },
     "metadata": {
      "needs_background": "light"
     },
     "output_type": "display_data"
    }
   ],
   "source": [
    "fig = plt.figure(figsize=(8,8))\n",
    "ax = fig.gca()\n",
    "\n",
    "\n",
    "f1_roc = plot_roc_curve(grid_f1, X_test, y_test, name='F1 Metric', ax=ax)\n",
    "precision_roc = plot_roc_curve(grid_precision, X_test, y_test, name='Precision', ax=ax)\n",
    "recall_roc = plot_roc_curve(grid_recall, X_test, y_test, name='Recall', ax=ax)\n",
    "roc_roc = plot_roc_curve(grid_roc, X_test, y_test, name='ROC', ax=ax)\n",
    "#ap_roc = plot_roc_curve(grid_ap, X_test, y_test, name='Average Precision', ax=ax)\n",
    "\n",
    "\n",
    "plt.title(\"ROC Curve For XGB Grid Search Metrics\")"
   ]
  },
  {
   "cell_type": "markdown",
   "metadata": {},
   "source": [
    "### Precision-Recall Curve"
   ]
  },
  {
   "cell_type": "code",
   "execution_count": 17,
   "metadata": {},
   "outputs": [
    {
     "data": {
      "text/plain": [
       "Text(0.5, 1.0, 'Precision-Recall For XGB Grid Search Metrics')"
      ]
     },
     "execution_count": 17,
     "metadata": {},
     "output_type": "execute_result"
    },
    {
     "data": {
      "image/png": "[encoded data removed]",
      "text/plain": [
       "<Figure size 576x576 with 1 Axes>"
      ]
     },
     "metadata": {
      "needs_background": "light"
     },
     "output_type": "display_data"
    }
   ],
   "source": [
    "fig = plt.figure(figsize=(8,8))\n",
    "ax = fig.gca()\n",
    "\n",
    "\n",
    "f1_prc = plot_precision_recall_curve(grid_f1, X_test, y_test, name='F1 Metric', ax=ax)\n",
    "precision_prc = plot_precision_recall_curve(grid_precision, X_test, y_test, name='Precision', ax=ax)\n",
    "recall_prc = plot_precision_recall_curve(grid_recall, X_test, y_test, name='Recall', ax=ax)\n",
    "roc_prc = plot_precision_recall_curve(grid_roc, X_test, y_test, name='ROC', ax=ax)\n",
    "#ap_prc = plot_precision_recall_curve(grid_ap, X_test, y_test, name='Average Precision', ax=ax)\n",
    "\n",
    "\n",
    "plt.title(\"Precision-Recall For XGB Grid Search Metrics\")"
   ]
  },
  {
   "cell_type": "code",
   "execution_count": null,
   "metadata": {},
   "outputs": [],
   "source": []
  }
 ],
 "metadata": {
  "kernelspec": {
   "display_name": "Python 3",
   "language": "python",
   "name": "python3"
  },
  "language_info": {
   "codemirror_mode": {
    "name": "ipython",
    "version": 3
   },
   "file_extension": ".py",
   "mimetype": "text/x-python",
   "name": "python",
   "nbconvert_exporter": "python",
   "pygments_lexer": "ipython3",
   "version": "3.7.4"
  }
 },
 "nbformat": 4,
 "nbformat_minor": 2
}
