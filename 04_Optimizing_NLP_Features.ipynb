{
 "cells": [
  {
   "cell_type": "markdown",
   "metadata": {},
   "source": [
    "# Pipeline: NLP Only\n",
    "\n",
    "\n",
    "In this notebook we will solely focus on the TFIDF vectorizier and optimizing the output from these features\n",
    "\n",
    "\n",
    "sources:\n",
    "Sample pipeline for text feature extraction and evaluation: https://scikit-learn.org/stable/auto_examples/model_selection/grid_search_text_feature_extraction.html\n",
    "\n",
    "Metrics and scoring: quantifying the quality of predictions: https://scikit-learn.org/stable/modules/model_evaluation.html#common-cases-predefined-values\n",
    "\n",
    "\n",
    "Demonstration of multi-metric evaluation on cross_val_score and GridSearchCV: https://scikit-learn.org/stable/auto_examples/model_selection/plot_multi_metric_evaluation.html\n"
   ]
  },
  {
   "cell_type": "code",
   "execution_count": 1,
   "metadata": {},
   "outputs": [],
   "source": [
    "import pandas as pd\n",
    "import numpy as np\n",
    "import glob\n",
    "import os\n",
    "import munge_help\n",
    "from time import time\n",
    "\n",
    "import matplotlib.pyplot as plt\n",
    "%matplotlib inline\n",
    "\n",
    "from sklearn.feature_extraction.text import TfidfVectorizer\n",
    "from sklearn.model_selection import GridSearchCV\n",
    "from sklearn.pipeline import Pipeline\n",
    "\n",
    "import utils\n",
    "\n",
    "import xgboost as xgb"
   ]
  },
  {
   "cell_type": "markdown",
   "metadata": {},
   "source": [
    "#### extract NVD data"
   ]
  },
  {
   "cell_type": "code",
   "execution_count": 2,
   "metadata": {},
   "outputs": [],
   "source": [
    "X_train = utils.load_obj(path=os.path.join('data_processed', 'description_train_raw.pkl'))\n",
    "y_train = utils.load_obj(path=os.path.join('data_processed', 'y_train.pkl'))"
   ]
  },
  {
   "cell_type": "code",
   "execution_count": 3,
   "metadata": {},
   "outputs": [
    {
     "data": {
      "text/plain": [
       "128645    In Advantech WebAccess versions V8.2_20170817 ...\n",
       "83452     Cross-site request forgery (CSRF) vulnerabilit...\n",
       "91453     Cross-site scripting (XSS) vulnerability in Hu...\n",
       "57320     The Extbase Framework in TYPO3 4.6.x through 4...\n",
       "146442    An issue was discovered in GNU LibreDWG 0.7 an...\n",
       "Name: description, dtype: object"
      ]
     },
     "execution_count": 3,
     "metadata": {},
     "output_type": "execute_result"
    }
   ],
   "source": [
    "X_train.head()"
   ]
  },
  {
   "cell_type": "code",
   "execution_count": 4,
   "metadata": {},
   "outputs": [
    {
     "data": {
      "text/plain": [
       "(102492,)"
      ]
     },
     "execution_count": 4,
     "metadata": {},
     "output_type": "execute_result"
    }
   ],
   "source": [
    "X_train.shape"
   ]
  },
  {
   "cell_type": "markdown",
   "metadata": {},
   "source": [
    "### Make Pipeline"
   ]
  },
  {
   "cell_type": "code",
   "execution_count": 5,
   "metadata": {},
   "outputs": [],
   "source": [
    "pipeline = Pipeline([\n",
    "    ('vect', TfidfVectorizer(encoding='utf-8',\n",
    "                             strip_accents='ascii',\n",
    "                             lowercase=True,\n",
    "                             analyzer='word', \n",
    "                             stop_words='english',\n",
    "                             binary=False, \n",
    "                             norm='l2', \n",
    "                             use_idf=True, \n",
    "                             smooth_idf=True)\n",
    "    ),\n",
    "    ('clf', xgb.XGBClassifier(n_estimators=100,\n",
    "                              eta=0.9,\n",
    "                              max_depth=6,\n",
    "                              num_boost_round=10,\n",
    "                              subsample=0.9,\n",
    "                              n_jobs=-1\n",
    "                             )\n",
    "    )\n",
    "]\n",
    ")"
   ]
  },
  {
   "cell_type": "markdown",
   "metadata": {},
   "source": [
    "The most important features to fine two are:\n",
    "- max_df: When building the vocabulary ignore terms that have a document frequency strictly higher than the given threshold\n",
    "- When building the vocabulary ignore terms that have a document frequency strictly lower than the given threshold.\n",
    "- max_features: build a vocabulary that only consider the top max_features ordered by term frequency across the corpus"
   ]
  },
  {
   "cell_type": "code",
   "execution_count": 6,
   "metadata": {},
   "outputs": [],
   "source": [
    "parameters = {\n",
    "    'vect__max_df': (0.25, 0.5, 0.75),\n",
    "    'vect__min_df': (0, 0.05, 0.1),\n",
    "    'vect__max_features': (100, 150, 200),\n",
    "    'vect__ngram_range': ((1,2), (1, 3)),  # unigrams to trigrams\n",
    "\n",
    "}"
   ]
  },
  {
   "cell_type": "code",
   "execution_count": 7,
   "metadata": {
    "scrolled": false
   },
   "outputs": [
    {
     "name": "stdout",
     "output_type": "stream",
     "text": [
      "Fitting 5 folds for each of 54 candidates, totalling 270 fits\n"
     ]
    },
    {
     "name": "stderr",
     "output_type": "stream",
     "text": [
      "[Parallel(n_jobs=-1)]: Using backend LokyBackend with 4 concurrent workers.\n",
      "[Parallel(n_jobs=-1)]: Done   5 tasks      | elapsed:  4.1min\n",
      "[Parallel(n_jobs=-1)]: Done  10 tasks      | elapsed:  6.8min\n",
      "[Parallel(n_jobs=-1)]: Done  17 tasks      | elapsed: 11.1min\n",
      "[Parallel(n_jobs=-1)]: Done  24 tasks      | elapsed: 13.3min\n",
      "[Parallel(n_jobs=-1)]: Done  33 tasks      | elapsed: 16.8min\n",
      "[Parallel(n_jobs=-1)]: Done  42 tasks      | elapsed: 20.3min\n",
      "/Users/nadimkawwa/opt/anaconda3/lib/python3.7/site-packages/joblib/externals/loky/process_executor.py:706: UserWarning: A worker stopped while some jobs were given to the executor. This can be caused by a too short worker timeout or by a memory leak.\n",
      "  \"timeout or by a memory leak.\", UserWarning\n",
      "[Parallel(n_jobs=-1)]: Done  53 tasks      | elapsed: 24.1min\n",
      "[Parallel(n_jobs=-1)]: Done  64 tasks      | elapsed: 28.1min\n",
      "[Parallel(n_jobs=-1)]: Done  77 tasks      | elapsed: 33.4min\n",
      "[Parallel(n_jobs=-1)]: Done  90 tasks      | elapsed: 37.5min\n",
      "[Parallel(n_jobs=-1)]: Done 105 tasks      | elapsed: 43.1min\n",
      "[Parallel(n_jobs=-1)]: Done 120 tasks      | elapsed: 48.8min\n",
      "[Parallel(n_jobs=-1)]: Done 137 tasks      | elapsed: 57.0min\n",
      "[Parallel(n_jobs=-1)]: Done 154 tasks      | elapsed: 63.3min\n",
      "[Parallel(n_jobs=-1)]: Done 173 tasks      | elapsed: 70.9min\n",
      "[Parallel(n_jobs=-1)]: Done 192 tasks      | elapsed: 79.0min\n",
      "[Parallel(n_jobs=-1)]: Done 213 tasks      | elapsed: 90.0min\n",
      "[Parallel(n_jobs=-1)]: Done 234 tasks      | elapsed: 100.0min\n",
      "[Parallel(n_jobs=-1)]: Done 257 tasks      | elapsed: 111.1min\n",
      "[Parallel(n_jobs=-1)]: Done 270 out of 270 | elapsed: 115.6min finished\n"
     ]
    },
    {
     "name": "stdout",
     "output_type": "stream",
     "text": [
      "done in 6995.898s\n"
     ]
    }
   ],
   "source": [
    "#instantiate grid search\n",
    "grid_search = GridSearchCV(pipeline, \n",
    "                           parameters, \n",
    "                           n_jobs=-1, \n",
    "                           verbose=10, #lots of details\n",
    "                           scoring=['roc_auc', 'f1'],\n",
    "                           refit='roc_auc', \n",
    "                           return_train_score=True\n",
    "                          )\n",
    "\n",
    "# start the timer\n",
    "t0 = time()\n",
    "\n",
    "\n",
    "#fit to training data\n",
    "grid_search.fit(X_train, y_train)\n",
    "\n",
    "#time to do it\n",
    "print(\"done in %0.3fs\" % (time() - t0))"
   ]
  },
  {
   "cell_type": "code",
   "execution_count": 8,
   "metadata": {},
   "outputs": [
    {
     "name": "stdout",
     "output_type": "stream",
     "text": [
      "Best score: 0.865\n",
      "\n",
      "\n",
      "####################\n",
      "\n",
      "\n",
      "Best parameters set:\n",
      "\tvect__max_df: 0.75\n",
      "\tvect__max_features: 200\n",
      "\tvect__min_df: 0\n",
      "\tvect__ngram_range: (1, 2)\n"
     ]
    }
   ],
   "source": [
    "print(\"Best score: %0.3f\" % grid_search.best_score_)\n",
    "print('\\n')\n",
    "print(20*'#')\n",
    "print('\\n')\n",
    "print(\"Best parameters set:\")\n",
    "best_parameters = grid_search.best_estimator_.get_params()\n",
    "for param_name in sorted(parameters.keys()):\n",
    "    print(\"\\t%s: %r\" % (param_name, best_parameters[param_name]))"
   ]
  },
  {
   "cell_type": "code",
   "execution_count": 9,
   "metadata": {},
   "outputs": [
    {
     "data": {
      "text/plain": [
       "dict_keys(['mean_fit_time', 'std_fit_time', 'mean_score_time', 'std_score_time', 'param_vect__max_df', 'param_vect__max_features', 'param_vect__min_df', 'param_vect__ngram_range', 'params', 'split0_test_roc_auc', 'split1_test_roc_auc', 'split2_test_roc_auc', 'split3_test_roc_auc', 'split4_test_roc_auc', 'mean_test_roc_auc', 'std_test_roc_auc', 'rank_test_roc_auc', 'split0_train_roc_auc', 'split1_train_roc_auc', 'split2_train_roc_auc', 'split3_train_roc_auc', 'split4_train_roc_auc', 'mean_train_roc_auc', 'std_train_roc_auc', 'split0_test_f1', 'split1_test_f1', 'split2_test_f1', 'split3_test_f1', 'split4_test_f1', 'mean_test_f1', 'std_test_f1', 'rank_test_f1', 'split0_train_f1', 'split1_train_f1', 'split2_train_f1', 'split3_train_f1', 'split4_train_f1', 'mean_train_f1', 'std_train_f1'])"
      ]
     },
     "execution_count": 9,
     "metadata": {},
     "output_type": "execute_result"
    }
   ],
   "source": [
    "#dict with keys as column headers and values as columns\n",
    "results = grid_search.cv_results_\n",
    "\n",
    "results.keys()"
   ]
  },
  {
   "cell_type": "code",
   "execution_count": 12,
   "metadata": {},
   "outputs": [],
   "source": [
    "utils.save_obj(obj = grid_search,\n",
    "               path = os.path.join('artifacts', 'grid_search_nlp_2020-11-28.pkl'))"
   ]
  },
  {
   "cell_type": "code",
   "execution_count": null,
   "metadata": {},
   "outputs": [],
   "source": []
  }
 ],
 "metadata": {
  "kernelspec": {
   "display_name": "Python 3",
   "language": "python",
   "name": "python3"
  },
  "language_info": {
   "codemirror_mode": {
    "name": "ipython",
    "version": 3
   },
   "file_extension": ".py",
   "mimetype": "text/x-python",
   "name": "python",
   "nbconvert_exporter": "python",
   "pygments_lexer": "ipython3",
   "version": "3.7.4"
  }
 },
 "nbformat": 4,
 "nbformat_minor": 2
}
